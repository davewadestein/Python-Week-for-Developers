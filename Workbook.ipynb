{
 "cells": [
  {
   "cell_type": "markdown",
   "id": "d2d5b02c-7fc9-48d6-9d1d-e9f13b5c8d66",
   "metadata": {},
   "source": [
    "# \"Pythonic\"\n",
    "* Rick: \"I'm a Java programmer and I taught myself some Python, but my Python looks like Java.\"\n",
    "  * in other words, his code was not Pythonic, it was conforming to the ways people typically write Python code\n",
    "* if an object is difficult to work with in its current form, try converting it to another form that makes it easier\n",
    "* __`thing[-1]`__ is always the last item in the container __`thing`__\n",
    "  * __`thing[-n]`__ is nth item from the end\n",
    "* __`container[-n:]`__ means the last n items in the container\n",
    "* __`container[:n]`__ means the first n items in the container\n",
    "* __`container[::-1]`__ means a reversed version of the container\n",
    "* don't use indexing when you don't need it\n",
    "* use an _ as the loop variable when you just want you loop to repeat a certain number of times,\n",
    "  * e.g., __`for _ in range(10)`__ means \"do this 10 times\""
   ]
  },
  {
   "cell_type": "markdown",
   "id": "67333987-9154-4a87-8f66-3333dfafc474",
   "metadata": {},
   "source": [
    "# General programming principles\n",
    "* you read code 10x as often as you write code\n",
    "  * you want to be sure you can read other people's code\n",
    "* choose good variable names\n",
    "   * BAD: c, q, p, cpo\n",
    "   * GOOD cost, quantity, price, cost_per_ounce\n",
    "* \"Programs are written for others to read and only incidentally for machines to execute\" –Hal Abelson\n",
    "* Eagleson's Law: \"Any code you wrote longer than 6 months ago might as well have been written by someone else\"\n",
    "* The 3 banes of existence for programmers are:\n",
    "  1. uninitialized / incorrectly initialized variables\n",
    "  2. off by one errors\n",
    "* DRY = Don't Repeat Yourself"
   ]
  },
  {
   "cell_type": "markdown",
   "id": "3fc9df5d-f393-45b0-88e4-b0f15c18710d",
   "metadata": {},
   "source": [
    "# Stuff about Python\n",
    "* Python's raison d'être is data manipulation–strings, text, file, etc.\n",
    "* everything in Python is an object\n",
    "  1. everything exists in memory and we can inspect it\n",
    "     * e.g., variables, functions, modules (libraries)\n",
    "  2. everthing consists of \"fields\"/attributes and may also include functions\n",
    "* Python containers vs. scalars \n",
    "  * \"scalars\"-a single value\n",
    "    * int, float, bool\n",
    "  * \"containers\"–hold 0+ values\n",
    "    * str, list, tuple, dict\n",
    "* Mutable vs. Immutable objects\n",
    "  * immutable: str, tuple\n",
    "  * mutable: list, dict\n",
    "* Python is \"duck typed\"\n",
    "  * \"If it walks like a duck and it quacks like a duck, I'm going to call it a duck\"\n",
    "  * functions frequently don't restrict the type of their argument(s), instead they look for the argument(s) to have some feature or attribute (e.g., __`max`__ allows any type arguments that are comparable, low to high\n",
    "* built-in functions (e.g., __`print`__, __`len`__, __`str`__) DO NOT change the objects that are passed to them\n",
    "  * if you want to change an object, you must call/invoke/apply a method to that object\n",
    "  * not all methods change the object they are applied to (or called on)\n",
    "* Python allows \"truthiness\" in a Boolean context\n",
    "  * non-zero values are \"considered to be\" True in a Boolean context\n",
    "  * 0 and 0.0 are considered False in a Boolean context\n",
    "  * non-empty containers are considered to be True \" \" \" \"\n",
    "  * empty containers are \" \" \" False \" \" \" \""
   ]
  },
  {
   "cell_type": "markdown",
   "id": "cbafdb5c-9247-456f-9383-ce5822695a65",
   "metadata": {
    "jp-MarkdownHeadingCollapsed": true,
    "tags": []
   },
   "source": [
    "# Mechanical Sympathy\n",
    "* if you want to be an expert at something you should understand how it works under the hood"
   ]
  },
  {
   "cell_type": "code",
   "execution_count": 73,
   "id": "eb275bdd-df65-43d7-b590-e31a471a12de",
   "metadata": {},
   "outputs": [
    {
     "data": {
      "text/plain": [
       "(140537772566832, 140537772566832)"
      ]
     },
     "execution_count": 73,
     "metadata": {},
     "output_type": "execute_result"
    }
   ],
   "source": [
    "x = 1\n",
    "y = 1\n",
    "id(x), id(y)"
   ]
  },
  {
   "cell_type": "code",
   "execution_count": 71,
   "id": "64ff1a9f-885b-4d43-afd8-5cc2d190b6cb",
   "metadata": {},
   "outputs": [
    {
     "data": {
      "text/plain": [
       "140537772566832"
      ]
     },
     "execution_count": 71,
     "metadata": {},
     "output_type": "execute_result"
    }
   ],
   "source": [
    "id(1)"
   ]
  },
  {
   "cell_type": "code",
   "execution_count": 74,
   "id": "bc14d68a-1ddf-48ad-982e-13f868d4a150",
   "metadata": {},
   "outputs": [],
   "source": [
    "s1 = 'this'\n",
    "s2 = 'this'"
   ]
  },
  {
   "cell_type": "code",
   "execution_count": 75,
   "id": "01fd66b4-cca7-42e1-9a65-ce1b53bd5591",
   "metadata": {},
   "outputs": [
    {
     "data": {
      "text/plain": [
       "(140536698938480, 140536698938480)"
      ]
     },
     "execution_count": 75,
     "metadata": {},
     "output_type": "execute_result"
    }
   ],
   "source": [
    "id(s1), id(s2)"
   ]
  },
  {
   "cell_type": "code",
   "execution_count": 77,
   "id": "f375c746-5180-4b7c-983d-3a705b3199b4",
   "metadata": {},
   "outputs": [],
   "source": [
    "s1 = 'this!'\n",
    "s2 = 'this!'"
   ]
  },
  {
   "cell_type": "code",
   "execution_count": 78,
   "id": "89eba3fc-35b3-414a-accf-13f6e9fa867a",
   "metadata": {},
   "outputs": [
    {
     "data": {
      "text/plain": [
       "(140537776377712, 140536436833968)"
      ]
     },
     "execution_count": 78,
     "metadata": {},
     "output_type": "execute_result"
    }
   ],
   "source": [
    "id(s1), id(s2)"
   ]
  },
  {
   "cell_type": "code",
   "execution_count": 1,
   "id": "d8b81811-8eb0-46cf-a906-248b8a867e40",
   "metadata": {},
   "outputs": [],
   "source": [
    "name = 'Bruce Lee'"
   ]
  },
  {
   "cell_type": "code",
   "execution_count": 3,
   "id": "d12e1c33-d092-4c46-bb14-3a66e4b45f76",
   "metadata": {},
   "outputs": [
    {
     "data": {
      "text/plain": [
       "140536297939056"
      ]
     },
     "execution_count": 3,
     "metadata": {},
     "output_type": "execute_result"
    }
   ],
   "source": [
    "id(name)"
   ]
  },
  {
   "cell_type": "code",
   "execution_count": 4,
   "id": "77d641d2-e766-40cf-b93f-7742d2694102",
   "metadata": {},
   "outputs": [],
   "source": [
    "year = 1973"
   ]
  },
  {
   "cell_type": "code",
   "execution_count": 5,
   "id": "7c5034c9-696d-4dbe-8ec7-5c06f48b1bc8",
   "metadata": {},
   "outputs": [
    {
     "data": {
      "text/plain": [
       "140536297946736"
      ]
     },
     "execution_count": 5,
     "metadata": {},
     "output_type": "execute_result"
    }
   ],
   "source": [
    "id(year)"
   ]
  },
  {
   "cell_type": "code",
   "execution_count": 6,
   "id": "1f7b565c-e431-4448-a1a7-4f68dd34576a",
   "metadata": {},
   "outputs": [
    {
     "data": {
      "text/plain": [
       "140537772876720"
      ]
     },
     "execution_count": 6,
     "metadata": {},
     "output_type": "execute_result"
    }
   ],
   "source": [
    "id(print)"
   ]
  },
  {
   "cell_type": "code",
   "execution_count": 7,
   "id": "c32173b9-6951-439e-9c4e-05d85c47bb30",
   "metadata": {},
   "outputs": [
    {
     "data": {
      "text/plain": [
       "140537772871488"
      ]
     },
     "execution_count": 7,
     "metadata": {},
     "output_type": "execute_result"
    }
   ],
   "source": [
    "id(id)"
   ]
  },
  {
   "cell_type": "code",
   "execution_count": 8,
   "id": "8ee41bbc-460c-42c2-a8a8-6f25bc19e034",
   "metadata": {},
   "outputs": [
    {
     "data": {
      "text/plain": [
       "5"
      ]
     },
     "execution_count": 8,
     "metadata": {},
     "output_type": "execute_result"
    }
   ],
   "source": [
    "2 + 3"
   ]
  },
  {
   "cell_type": "code",
   "execution_count": 9,
   "id": "8cffb571-cea5-43d3-b3ef-effc8cc882c1",
   "metadata": {},
   "outputs": [],
   "source": [
    "import math"
   ]
  },
  {
   "cell_type": "code",
   "execution_count": 10,
   "id": "079a1afb-c725-4f94-9189-61c4fd4cae0f",
   "metadata": {},
   "outputs": [
    {
     "data": {
      "text/plain": [
       "['In',\n",
       " 'Out',\n",
       " '_',\n",
       " '_2',\n",
       " '_3',\n",
       " '_5',\n",
       " '_6',\n",
       " '_7',\n",
       " '_8',\n",
       " '__',\n",
       " '___',\n",
       " '__builtin__',\n",
       " '__builtins__',\n",
       " '__doc__',\n",
       " '__loader__',\n",
       " '__name__',\n",
       " '__package__',\n",
       " '__spec__',\n",
       " '_dh',\n",
       " '_i',\n",
       " '_i1',\n",
       " '_i10',\n",
       " '_i2',\n",
       " '_i3',\n",
       " '_i4',\n",
       " '_i5',\n",
       " '_i6',\n",
       " '_i7',\n",
       " '_i8',\n",
       " '_i9',\n",
       " '_ih',\n",
       " '_ii',\n",
       " '_iii',\n",
       " '_oh',\n",
       " 'exit',\n",
       " 'get_ipython',\n",
       " 'math',\n",
       " 'name',\n",
       " 'quit',\n",
       " 'year']"
      ]
     },
     "execution_count": 10,
     "metadata": {},
     "output_type": "execute_result"
    }
   ],
   "source": [
    "dir()"
   ]
  },
  {
   "cell_type": "code",
   "execution_count": 11,
   "id": "dc2543ec-6094-4271-8dd3-013720d2fa9e",
   "metadata": {},
   "outputs": [
    {
     "data": {
      "text/plain": [
       "140536967369168"
      ]
     },
     "execution_count": 11,
     "metadata": {},
     "output_type": "execute_result"
    }
   ],
   "source": [
    "id(math)"
   ]
  },
  {
   "cell_type": "code",
   "execution_count": 12,
   "id": "5c0ac2a0-ad6d-4f23-83b7-0a3ff01f9093",
   "metadata": {},
   "outputs": [
    {
     "data": {
      "text/plain": [
       "['__doc__',\n",
       " '__file__',\n",
       " '__loader__',\n",
       " '__name__',\n",
       " '__package__',\n",
       " '__spec__',\n",
       " 'acos',\n",
       " 'acosh',\n",
       " 'asin',\n",
       " 'asinh',\n",
       " 'atan',\n",
       " 'atan2',\n",
       " 'atanh',\n",
       " 'ceil',\n",
       " 'comb',\n",
       " 'copysign',\n",
       " 'cos',\n",
       " 'cosh',\n",
       " 'degrees',\n",
       " 'dist',\n",
       " 'e',\n",
       " 'erf',\n",
       " 'erfc',\n",
       " 'exp',\n",
       " 'expm1',\n",
       " 'fabs',\n",
       " 'factorial',\n",
       " 'floor',\n",
       " 'fmod',\n",
       " 'frexp',\n",
       " 'fsum',\n",
       " 'gamma',\n",
       " 'gcd',\n",
       " 'hypot',\n",
       " 'inf',\n",
       " 'isclose',\n",
       " 'isfinite',\n",
       " 'isinf',\n",
       " 'isnan',\n",
       " 'isqrt',\n",
       " 'lcm',\n",
       " 'ldexp',\n",
       " 'lgamma',\n",
       " 'log',\n",
       " 'log10',\n",
       " 'log1p',\n",
       " 'log2',\n",
       " 'modf',\n",
       " 'nan',\n",
       " 'nextafter',\n",
       " 'perm',\n",
       " 'pi',\n",
       " 'pow',\n",
       " 'prod',\n",
       " 'radians',\n",
       " 'remainder',\n",
       " 'sin',\n",
       " 'sinh',\n",
       " 'sqrt',\n",
       " 'tan',\n",
       " 'tanh',\n",
       " 'tau',\n",
       " 'trunc',\n",
       " 'ulp']"
      ]
     },
     "execution_count": 12,
     "metadata": {},
     "output_type": "execute_result"
    }
   ],
   "source": [
    "dir(math)"
   ]
  },
  {
   "cell_type": "code",
   "execution_count": 13,
   "id": "dc4a5a0b-e861-4b37-8123-419a11b42ab1",
   "metadata": {
    "collapsed": true,
    "jupyter": {
     "outputs_hidden": true
    },
    "tags": []
   },
   "outputs": [
    {
     "name": "stdout",
     "output_type": "stream",
     "text": [
      "Help on module math:\n",
      "\n",
      "NAME\n",
      "    math\n",
      "\n",
      "MODULE REFERENCE\n",
      "    https://docs.python.org/3.9/library/math\n",
      "    \n",
      "    The following documentation is automatically generated from the Python\n",
      "    source files.  It may be incomplete, incorrect or include features that\n",
      "    are considered implementation detail and may vary between Python\n",
      "    implementations.  When in doubt, consult the module reference at the\n",
      "    location listed above.\n",
      "\n",
      "DESCRIPTION\n",
      "    This module provides access to the mathematical functions\n",
      "    defined by the C standard.\n",
      "\n",
      "FUNCTIONS\n",
      "    acos(x, /)\n",
      "        Return the arc cosine (measured in radians) of x.\n",
      "        \n",
      "        The result is between 0 and pi.\n",
      "    \n",
      "    acosh(x, /)\n",
      "        Return the inverse hyperbolic cosine of x.\n",
      "    \n",
      "    asin(x, /)\n",
      "        Return the arc sine (measured in radians) of x.\n",
      "        \n",
      "        The result is between -pi/2 and pi/2.\n",
      "    \n",
      "    asinh(x, /)\n",
      "        Return the inverse hyperbolic sine of x.\n",
      "    \n",
      "    atan(x, /)\n",
      "        Return the arc tangent (measured in radians) of x.\n",
      "        \n",
      "        The result is between -pi/2 and pi/2.\n",
      "    \n",
      "    atan2(y, x, /)\n",
      "        Return the arc tangent (measured in radians) of y/x.\n",
      "        \n",
      "        Unlike atan(y/x), the signs of both x and y are considered.\n",
      "    \n",
      "    atanh(x, /)\n",
      "        Return the inverse hyperbolic tangent of x.\n",
      "    \n",
      "    ceil(x, /)\n",
      "        Return the ceiling of x as an Integral.\n",
      "        \n",
      "        This is the smallest integer >= x.\n",
      "    \n",
      "    comb(n, k, /)\n",
      "        Number of ways to choose k items from n items without repetition and without order.\n",
      "        \n",
      "        Evaluates to n! / (k! * (n - k)!) when k <= n and evaluates\n",
      "        to zero when k > n.\n",
      "        \n",
      "        Also called the binomial coefficient because it is equivalent\n",
      "        to the coefficient of k-th term in polynomial expansion of the\n",
      "        expression (1 + x)**n.\n",
      "        \n",
      "        Raises TypeError if either of the arguments are not integers.\n",
      "        Raises ValueError if either of the arguments are negative.\n",
      "    \n",
      "    copysign(x, y, /)\n",
      "        Return a float with the magnitude (absolute value) of x but the sign of y.\n",
      "        \n",
      "        On platforms that support signed zeros, copysign(1.0, -0.0)\n",
      "        returns -1.0.\n",
      "    \n",
      "    cos(x, /)\n",
      "        Return the cosine of x (measured in radians).\n",
      "    \n",
      "    cosh(x, /)\n",
      "        Return the hyperbolic cosine of x.\n",
      "    \n",
      "    degrees(x, /)\n",
      "        Convert angle x from radians to degrees.\n",
      "    \n",
      "    dist(p, q, /)\n",
      "        Return the Euclidean distance between two points p and q.\n",
      "        \n",
      "        The points should be specified as sequences (or iterables) of\n",
      "        coordinates.  Both inputs must have the same dimension.\n",
      "        \n",
      "        Roughly equivalent to:\n",
      "            sqrt(sum((px - qx) ** 2.0 for px, qx in zip(p, q)))\n",
      "    \n",
      "    erf(x, /)\n",
      "        Error function at x.\n",
      "    \n",
      "    erfc(x, /)\n",
      "        Complementary error function at x.\n",
      "    \n",
      "    exp(x, /)\n",
      "        Return e raised to the power of x.\n",
      "    \n",
      "    expm1(x, /)\n",
      "        Return exp(x)-1.\n",
      "        \n",
      "        This function avoids the loss of precision involved in the direct evaluation of exp(x)-1 for small x.\n",
      "    \n",
      "    fabs(x, /)\n",
      "        Return the absolute value of the float x.\n",
      "    \n",
      "    factorial(x, /)\n",
      "        Find x!.\n",
      "        \n",
      "        Raise a ValueError if x is negative or non-integral.\n",
      "    \n",
      "    floor(x, /)\n",
      "        Return the floor of x as an Integral.\n",
      "        \n",
      "        This is the largest integer <= x.\n",
      "    \n",
      "    fmod(x, y, /)\n",
      "        Return fmod(x, y), according to platform C.\n",
      "        \n",
      "        x % y may differ.\n",
      "    \n",
      "    frexp(x, /)\n",
      "        Return the mantissa and exponent of x, as pair (m, e).\n",
      "        \n",
      "        m is a float and e is an int, such that x = m * 2.**e.\n",
      "        If x is 0, m and e are both 0.  Else 0.5 <= abs(m) < 1.0.\n",
      "    \n",
      "    fsum(seq, /)\n",
      "        Return an accurate floating point sum of values in the iterable seq.\n",
      "        \n",
      "        Assumes IEEE-754 floating point arithmetic.\n",
      "    \n",
      "    gamma(x, /)\n",
      "        Gamma function at x.\n",
      "    \n",
      "    gcd(*integers)\n",
      "        Greatest Common Divisor.\n",
      "    \n",
      "    hypot(...)\n",
      "        hypot(*coordinates) -> value\n",
      "        \n",
      "        Multidimensional Euclidean distance from the origin to a point.\n",
      "        \n",
      "        Roughly equivalent to:\n",
      "            sqrt(sum(x**2 for x in coordinates))\n",
      "        \n",
      "        For a two dimensional point (x, y), gives the hypotenuse\n",
      "        using the Pythagorean theorem:  sqrt(x*x + y*y).\n",
      "        \n",
      "        For example, the hypotenuse of a 3/4/5 right triangle is:\n",
      "        \n",
      "            >>> hypot(3.0, 4.0)\n",
      "            5.0\n",
      "    \n",
      "    isclose(a, b, *, rel_tol=1e-09, abs_tol=0.0)\n",
      "        Determine whether two floating point numbers are close in value.\n",
      "        \n",
      "          rel_tol\n",
      "            maximum difference for being considered \"close\", relative to the\n",
      "            magnitude of the input values\n",
      "          abs_tol\n",
      "            maximum difference for being considered \"close\", regardless of the\n",
      "            magnitude of the input values\n",
      "        \n",
      "        Return True if a is close in value to b, and False otherwise.\n",
      "        \n",
      "        For the values to be considered close, the difference between them\n",
      "        must be smaller than at least one of the tolerances.\n",
      "        \n",
      "        -inf, inf and NaN behave similarly to the IEEE 754 Standard.  That\n",
      "        is, NaN is not close to anything, even itself.  inf and -inf are\n",
      "        only close to themselves.\n",
      "    \n",
      "    isfinite(x, /)\n",
      "        Return True if x is neither an infinity nor a NaN, and False otherwise.\n",
      "    \n",
      "    isinf(x, /)\n",
      "        Return True if x is a positive or negative infinity, and False otherwise.\n",
      "    \n",
      "    isnan(x, /)\n",
      "        Return True if x is a NaN (not a number), and False otherwise.\n",
      "    \n",
      "    isqrt(n, /)\n",
      "        Return the integer part of the square root of the input.\n",
      "    \n",
      "    lcm(*integers)\n",
      "        Least Common Multiple.\n",
      "    \n",
      "    ldexp(x, i, /)\n",
      "        Return x * (2**i).\n",
      "        \n",
      "        This is essentially the inverse of frexp().\n",
      "    \n",
      "    lgamma(x, /)\n",
      "        Natural logarithm of absolute value of Gamma function at x.\n",
      "    \n",
      "    log(...)\n",
      "        log(x, [base=math.e])\n",
      "        Return the logarithm of x to the given base.\n",
      "        \n",
      "        If the base not specified, returns the natural logarithm (base e) of x.\n",
      "    \n",
      "    log10(x, /)\n",
      "        Return the base 10 logarithm of x.\n",
      "    \n",
      "    log1p(x, /)\n",
      "        Return the natural logarithm of 1+x (base e).\n",
      "        \n",
      "        The result is computed in a way which is accurate for x near zero.\n",
      "    \n",
      "    log2(x, /)\n",
      "        Return the base 2 logarithm of x.\n",
      "    \n",
      "    modf(x, /)\n",
      "        Return the fractional and integer parts of x.\n",
      "        \n",
      "        Both results carry the sign of x and are floats.\n",
      "    \n",
      "    nextafter(x, y, /)\n",
      "        Return the next floating-point value after x towards y.\n",
      "    \n",
      "    perm(n, k=None, /)\n",
      "        Number of ways to choose k items from n items without repetition and with order.\n",
      "        \n",
      "        Evaluates to n! / (n - k)! when k <= n and evaluates\n",
      "        to zero when k > n.\n",
      "        \n",
      "        If k is not specified or is None, then k defaults to n\n",
      "        and the function returns n!.\n",
      "        \n",
      "        Raises TypeError if either of the arguments are not integers.\n",
      "        Raises ValueError if either of the arguments are negative.\n",
      "    \n",
      "    pow(x, y, /)\n",
      "        Return x**y (x to the power of y).\n",
      "    \n",
      "    prod(iterable, /, *, start=1)\n",
      "        Calculate the product of all the elements in the input iterable.\n",
      "        \n",
      "        The default start value for the product is 1.\n",
      "        \n",
      "        When the iterable is empty, return the start value.  This function is\n",
      "        intended specifically for use with numeric values and may reject\n",
      "        non-numeric types.\n",
      "    \n",
      "    radians(x, /)\n",
      "        Convert angle x from degrees to radians.\n",
      "    \n",
      "    remainder(x, y, /)\n",
      "        Difference between x and the closest integer multiple of y.\n",
      "        \n",
      "        Return x - n*y where n*y is the closest integer multiple of y.\n",
      "        In the case where x is exactly halfway between two multiples of\n",
      "        y, the nearest even value of n is used. The result is always exact.\n",
      "    \n",
      "    sin(x, /)\n",
      "        Return the sine of x (measured in radians).\n",
      "    \n",
      "    sinh(x, /)\n",
      "        Return the hyperbolic sine of x.\n",
      "    \n",
      "    sqrt(x, /)\n",
      "        Return the square root of x.\n",
      "    \n",
      "    tan(x, /)\n",
      "        Return the tangent of x (measured in radians).\n",
      "    \n",
      "    tanh(x, /)\n",
      "        Return the hyperbolic tangent of x.\n",
      "    \n",
      "    trunc(x, /)\n",
      "        Truncates the Real x to the nearest Integral toward 0.\n",
      "        \n",
      "        Uses the __trunc__ magic method.\n",
      "    \n",
      "    ulp(x, /)\n",
      "        Return the value of the least significant bit of the float x.\n",
      "\n",
      "DATA\n",
      "    e = 2.718281828459045\n",
      "    inf = inf\n",
      "    nan = nan\n",
      "    pi = 3.141592653589793\n",
      "    tau = 6.283185307179586\n",
      "\n",
      "FILE\n",
      "    /Users/dave-wadestein/opt/anaconda3/lib/python3.9/lib-dynload/math.cpython-39-darwin.so\n",
      "\n",
      "\n"
     ]
    }
   ],
   "source": [
    "help(math)"
   ]
  },
  {
   "cell_type": "code",
   "execution_count": 14,
   "id": "22421750-9e67-4664-98b7-849dea020d12",
   "metadata": {},
   "outputs": [],
   "source": [
    "quantity = 4 # integer"
   ]
  },
  {
   "cell_type": "code",
   "execution_count": 16,
   "id": "b46a4f7b-8757-4196-a440-d848892361e7",
   "metadata": {},
   "outputs": [],
   "source": [
    "quantity = 'Dave' # string"
   ]
  },
  {
   "cell_type": "code",
   "execution_count": 17,
   "id": "f9855a74-ffac-4d00-a6ec-51c4f040d135",
   "metadata": {},
   "outputs": [
    {
     "data": {
      "text/plain": [
       "'Dave'"
      ]
     },
     "execution_count": 17,
     "metadata": {},
     "output_type": "execute_result"
    }
   ],
   "source": [
    "quantity"
   ]
  },
  {
   "cell_type": "code",
   "execution_count": 18,
   "id": "36e52189-1dad-4843-9715-6dadc9346fbe",
   "metadata": {},
   "outputs": [
    {
     "data": {
      "text/plain": [
       "str"
      ]
     },
     "execution_count": 18,
     "metadata": {},
     "output_type": "execute_result"
    }
   ],
   "source": [
    "type(quantity)"
   ]
  },
  {
   "cell_type": "code",
   "execution_count": 19,
   "id": "19a8358d-0c71-4e70-a8f1-29513cfc7bdd",
   "metadata": {},
   "outputs": [
    {
     "data": {
      "text/plain": [
       "5"
      ]
     },
     "execution_count": 19,
     "metadata": {},
     "output_type": "execute_result"
    }
   ],
   "source": [
    "# operators are often overloaded, they have multiple meanings depending on context\n",
    "2 + 3"
   ]
  },
  {
   "cell_type": "code",
   "execution_count": 20,
   "id": "aaa13bf7-41d3-467e-9dd5-844126e064c2",
   "metadata": {},
   "outputs": [
    {
     "data": {
      "text/plain": [
       "5.0"
      ]
     },
     "execution_count": 20,
     "metadata": {},
     "output_type": "execute_result"
    }
   ],
   "source": [
    "2.0 + 3.0"
   ]
  },
  {
   "cell_type": "code",
   "execution_count": 21,
   "id": "d24c98a5-4de6-428a-a81c-2ee21782374a",
   "metadata": {},
   "outputs": [
    {
     "data": {
      "text/plain": [
       "'23'"
      ]
     },
     "execution_count": 21,
     "metadata": {},
     "output_type": "execute_result"
    }
   ],
   "source": [
    "'2' + '3'"
   ]
  },
  {
   "cell_type": "code",
   "execution_count": 22,
   "id": "8d332dec-1acd-4cfd-9641-f9d580cbb63e",
   "metadata": {},
   "outputs": [
    {
     "data": {
      "text/plain": [
       "'1'"
      ]
     },
     "execution_count": 22,
     "metadata": {},
     "output_type": "execute_result"
    }
   ],
   "source": [
    "str(1)"
   ]
  },
  {
   "cell_type": "code",
   "execution_count": 23,
   "id": "2cef1704-d21e-464d-b510-5584ac699b55",
   "metadata": {},
   "outputs": [
    {
     "data": {
      "text/plain": [
       "'1.1'"
      ]
     },
     "execution_count": 23,
     "metadata": {},
     "output_type": "execute_result"
    }
   ],
   "source": [
    "str(1.1)"
   ]
  },
  {
   "cell_type": "code",
   "execution_count": 24,
   "id": "32e478c6-3d60-40cd-9d2d-7b8c87de0dff",
   "metadata": {},
   "outputs": [
    {
     "data": {
      "text/plain": [
       "'string'"
      ]
     },
     "execution_count": 24,
     "metadata": {},
     "output_type": "execute_result"
    }
   ],
   "source": [
    "str('string')"
   ]
  },
  {
   "cell_type": "code",
   "execution_count": 25,
   "id": "0054fd99-7d4b-4655-96a2-f7fb69f29be3",
   "metadata": {},
   "outputs": [
    {
     "data": {
      "text/plain": [
       "'<built-in function print>'"
      ]
     },
     "execution_count": 25,
     "metadata": {},
     "output_type": "execute_result"
    }
   ],
   "source": [
    "str(print)"
   ]
  },
  {
   "cell_type": "code",
   "execution_count": 26,
   "id": "ad225f07-6c37-49e7-9dbb-eead21752740",
   "metadata": {},
   "outputs": [
    {
     "data": {
      "text/plain": [
       "\"<module 'math' from '/Users/dave-wadestein/opt/anaconda3/lib/python3.9/lib-dynload/math.cpython-39-darwin.so'>\""
      ]
     },
     "execution_count": 26,
     "metadata": {},
     "output_type": "execute_result"
    }
   ],
   "source": [
    "str(math)"
   ]
  },
  {
   "cell_type": "code",
   "execution_count": 27,
   "id": "7ee73479-41ef-4f84-9462-938b6e9a80ea",
   "metadata": {},
   "outputs": [],
   "source": [
    "number = 1.33e14"
   ]
  },
  {
   "cell_type": "code",
   "execution_count": 28,
   "id": "c27e7a77-10fc-445a-9976-87ea7cf5e670",
   "metadata": {},
   "outputs": [
    {
     "data": {
      "text/plain": [
       "133000000000000.0"
      ]
     },
     "execution_count": 28,
     "metadata": {},
     "output_type": "execute_result"
    }
   ],
   "source": [
    "number"
   ]
  },
  {
   "cell_type": "code",
   "execution_count": 29,
   "id": "312974a1-f0cc-4409-9fe1-f2d1d8960f8f",
   "metadata": {},
   "outputs": [],
   "source": [
    "number = 133000000000000.0"
   ]
  },
  {
   "cell_type": "code",
   "execution_count": 30,
   "id": "a867b792-5c07-4d49-ab8e-f2322909ff43",
   "metadata": {},
   "outputs": [
    {
     "data": {
      "text/plain": [
       "133000000000000.0"
      ]
     },
     "execution_count": 30,
     "metadata": {},
     "output_type": "execute_result"
    }
   ],
   "source": [
    "number"
   ]
  },
  {
   "cell_type": "code",
   "execution_count": 31,
   "id": "44b2d519-8292-4102-8e96-f7866d931a63",
   "metadata": {},
   "outputs": [
    {
     "data": {
      "text/plain": [
       "float"
      ]
     },
     "execution_count": 31,
     "metadata": {},
     "output_type": "execute_result"
    }
   ],
   "source": [
    "type(number)"
   ]
  },
  {
   "cell_type": "code",
   "execution_count": 32,
   "id": "f1fd7bba-3cf7-4862-9d67-cb0eac721f7f",
   "metadata": {},
   "outputs": [
    {
     "data": {
      "text/plain": [
       "'133000000000000.0'"
      ]
     },
     "execution_count": 32,
     "metadata": {},
     "output_type": "execute_result"
    }
   ],
   "source": [
    "str(number)"
   ]
  },
  {
   "cell_type": "code",
   "execution_count": 35,
   "id": "4a54c9f2-09d1-4fb2-a0ec-afd857fe7057",
   "metadata": {},
   "outputs": [],
   "source": [
    "cost = 2."
   ]
  },
  {
   "cell_type": "code",
   "execution_count": 34,
   "id": "d4e31fb5-de02-4bd7-b656-0c4ce639898e",
   "metadata": {},
   "outputs": [
    {
     "data": {
      "text/plain": [
       "(2.0, float)"
      ]
     },
     "execution_count": 34,
     "metadata": {},
     "output_type": "execute_result"
    }
   ],
   "source": [
    "cost, type(cost)"
   ]
  },
  {
   "cell_type": "code",
   "execution_count": 36,
   "id": "d29db1b0-973b-4411-ac30-bc669e08dba5",
   "metadata": {},
   "outputs": [],
   "source": [
    "name = 'Margaret Hamilton'"
   ]
  },
  {
   "cell_type": "code",
   "execution_count": 37,
   "id": "b36cc21a-ac28-46a9-ab2b-8e1c23c76042",
   "metadata": {},
   "outputs": [
    {
     "data": {
      "text/plain": [
       "'Margaret Hamilton'"
      ]
     },
     "execution_count": 37,
     "metadata": {},
     "output_type": "execute_result"
    }
   ],
   "source": [
    "name # tell me the value (Python is very specific)"
   ]
  },
  {
   "cell_type": "code",
   "execution_count": 38,
   "id": "b4f8d281-023f-4b16-9caa-cdccba2fc513",
   "metadata": {},
   "outputs": [
    {
     "name": "stdout",
     "output_type": "stream",
     "text": [
      "The woman who wrote the code for Apollo XI is Margaret Hamilton\n"
     ]
    }
   ],
   "source": [
    "print('The woman who wrote the code for Apollo XI is', name)"
   ]
  },
  {
   "cell_type": "code",
   "execution_count": 39,
   "id": "e386eb85-d199-41d6-ba7e-e0c32f16a389",
   "metadata": {},
   "outputs": [
    {
     "data": {
      "text/plain": [
       "5"
      ]
     },
     "execution_count": 39,
     "metadata": {},
     "output_type": "execute_result"
    }
   ],
   "source": [
    "2 + 3"
   ]
  },
  {
   "cell_type": "code",
   "execution_count": 40,
   "id": "454b4fd6-bf27-4084-b81b-732978b96cf1",
   "metadata": {},
   "outputs": [
    {
     "data": {
      "text/plain": [
       "'23'"
      ]
     },
     "execution_count": 40,
     "metadata": {},
     "output_type": "execute_result"
    }
   ],
   "source": [
    "'2' + '3'"
   ]
  },
  {
   "cell_type": "code",
   "execution_count": 41,
   "id": "760292e3-81cd-4811-bed1-67e06ab8ce1b",
   "metadata": {},
   "outputs": [
    {
     "data": {
      "text/plain": [
       "'Margaret Hamilton'"
      ]
     },
     "execution_count": 41,
     "metadata": {},
     "output_type": "execute_result"
    }
   ],
   "source": [
    "name"
   ]
  },
  {
   "cell_type": "code",
   "execution_count": 42,
   "id": "75890360-ae9f-41cc-af7a-252b39fdb06e",
   "metadata": {},
   "outputs": [
    {
     "name": "stdout",
     "output_type": "stream",
     "text": [
      "3 concatenated to 2 is 23\n"
     ]
    }
   ],
   "source": [
    "print('3 concatenated to 2 is', '2' + '3')"
   ]
  },
  {
   "cell_type": "code",
   "execution_count": 43,
   "id": "8aacb906-f793-4357-8be5-9fd398b7fa3a",
   "metadata": {},
   "outputs": [
    {
     "data": {
      "text/plain": [
       "int"
      ]
     },
     "execution_count": 43,
     "metadata": {},
     "output_type": "execute_result"
    }
   ],
   "source": [
    "type(1)"
   ]
  },
  {
   "cell_type": "code",
   "execution_count": 44,
   "id": "2b5ef8ea-44f0-4bde-ab2a-c6865e270b6a",
   "metadata": {},
   "outputs": [
    {
     "name": "stdout",
     "output_type": "stream",
     "text": [
      "<class 'int'>\n"
     ]
    }
   ],
   "source": [
    "print(type(1))"
   ]
  },
  {
   "cell_type": "code",
   "execution_count": 45,
   "id": "3228ad78-b07c-435a-beb4-e91cf211059d",
   "metadata": {},
   "outputs": [
    {
     "data": {
      "text/plain": [
       "'Margaret Hamilton'"
      ]
     },
     "execution_count": 45,
     "metadata": {},
     "output_type": "execute_result"
    }
   ],
   "source": [
    "name"
   ]
  },
  {
   "cell_type": "code",
   "execution_count": 46,
   "id": "4db2307c-994e-40bd-9965-2e34c35a362c",
   "metadata": {},
   "outputs": [
    {
     "name": "stdout",
     "output_type": "stream",
     "text": [
      "My name is Margaret Hamilton\n"
     ]
    }
   ],
   "source": [
    "print('My name is', name)"
   ]
  },
  {
   "cell_type": "code",
   "execution_count": 52,
   "id": "c39a7c2e-3ced-47da-8cd8-275b3f67be4b",
   "metadata": {},
   "outputs": [],
   "source": [
    "value = 5"
   ]
  },
  {
   "cell_type": "code",
   "execution_count": 53,
   "id": "e3e1e58c-8472-4cb3-84ed-0ac98024b3db",
   "metadata": {},
   "outputs": [
    {
     "name": "stdout",
     "output_type": "stream",
     "text": [
      "5\n",
      "3\n"
     ]
    }
   ],
   "source": [
    "print(value)\n",
    "print(3)"
   ]
  },
  {
   "cell_type": "code",
   "execution_count": 58,
   "id": "44c4ae70-5c85-4297-93b7-e2335cdfb663",
   "metadata": {},
   "outputs": [
    {
     "data": {
      "text/plain": [
       "'53.3'"
      ]
     },
     "execution_count": 58,
     "metadata": {},
     "output_type": "execute_result"
    }
   ],
   "source": [
    "str(53.3)"
   ]
  },
  {
   "cell_type": "code",
   "execution_count": 59,
   "id": "d7386a95-a716-4963-aabc-4a583198f9bb",
   "metadata": {},
   "outputs": [
    {
     "data": {
      "text/plain": [
       "'False'"
      ]
     },
     "execution_count": 59,
     "metadata": {},
     "output_type": "execute_result"
    }
   ],
   "source": [
    "str(False)"
   ]
  },
  {
   "cell_type": "code",
   "execution_count": 62,
   "id": "bf89eeaf-265d-46c2-99b7-000395150806",
   "metadata": {},
   "outputs": [
    {
     "data": {
      "text/plain": [
       "'true'"
      ]
     },
     "execution_count": 62,
     "metadata": {},
     "output_type": "execute_result"
    }
   ],
   "source": [
    "str(false)"
   ]
  },
  {
   "cell_type": "code",
   "execution_count": 63,
   "id": "7aeda8f8-cc3e-43b8-8810-25663abd08af",
   "metadata": {},
   "outputs": [
    {
     "data": {
      "text/plain": [
       "300"
      ]
     },
     "execution_count": 63,
     "metadata": {},
     "output_type": "execute_result"
    }
   ],
   "source": [
    "int('300')"
   ]
  },
  {
   "cell_type": "code",
   "execution_count": 64,
   "id": "e74214dc-bebc-4c51-95e0-230f82e868a8",
   "metadata": {},
   "outputs": [
    {
     "ename": "ValueError",
     "evalue": "invalid literal for int() with base 10: '30x'",
     "output_type": "error",
     "traceback": [
      "\u001b[0;31m---------------------------------------------------------------------------\u001b[0m",
      "\u001b[0;31mValueError\u001b[0m                                Traceback (most recent call last)",
      "Input \u001b[0;32mIn [64]\u001b[0m, in \u001b[0;36m<cell line: 1>\u001b[0;34m()\u001b[0m\n\u001b[0;32m----> 1\u001b[0m \u001b[38;5;28;43mint\u001b[39;49m\u001b[43m(\u001b[49m\u001b[38;5;124;43m'\u001b[39;49m\u001b[38;5;124;43m30x\u001b[39;49m\u001b[38;5;124;43m'\u001b[39;49m\u001b[43m)\u001b[49m\n",
      "\u001b[0;31mValueError\u001b[0m: invalid literal for int() with base 10: '30x'"
     ]
    }
   ],
   "source": [
    "int('30x')"
   ]
  },
  {
   "cell_type": "code",
   "execution_count": 65,
   "id": "43f32b50-9304-4cc3-87c5-0ea1a92a2254",
   "metadata": {},
   "outputs": [
    {
     "data": {
      "text/plain": [
       "bool"
      ]
     },
     "execution_count": 65,
     "metadata": {},
     "output_type": "execute_result"
    }
   ],
   "source": [
    "type(False)"
   ]
  },
  {
   "cell_type": "code",
   "execution_count": 66,
   "id": "38ce37b5-0089-4df8-a8f1-507c08cebc44",
   "metadata": {},
   "outputs": [
    {
     "data": {
      "text/plain": [
       "str"
      ]
     },
     "execution_count": 66,
     "metadata": {},
     "output_type": "execute_result"
    }
   ],
   "source": [
    "type('False')"
   ]
  },
  {
   "cell_type": "code",
   "execution_count": 67,
   "id": "d6b78414-0a9b-4cfb-9653-95903f13a919",
   "metadata": {},
   "outputs": [
    {
     "data": {
      "text/plain": [
       "float"
      ]
     },
     "execution_count": 67,
     "metadata": {},
     "output_type": "execute_result"
    }
   ],
   "source": [
    "type(3.5)"
   ]
  },
  {
   "cell_type": "code",
   "execution_count": 54,
   "id": "f4030aba-6cf7-449a-9102-98703d59bdf7",
   "metadata": {},
   "outputs": [],
   "source": [
    "cost = 1"
   ]
  },
  {
   "cell_type": "code",
   "execution_count": 57,
   "id": "c77e7ef9-ca4a-4a2b-bf09-192b22ccbdb8",
   "metadata": {},
   "outputs": [
    {
     "data": {
      "text/plain": [
       "['False',\n",
       " 'None',\n",
       " 'True',\n",
       " '__peg_parser__',\n",
       " 'and',\n",
       " 'as',\n",
       " 'assert',\n",
       " 'async',\n",
       " 'await',\n",
       " 'break',\n",
       " 'class',\n",
       " 'continue',\n",
       " 'def',\n",
       " 'del',\n",
       " 'elif',\n",
       " 'else',\n",
       " 'except',\n",
       " 'finally',\n",
       " 'for',\n",
       " 'from',\n",
       " 'global',\n",
       " 'if',\n",
       " 'import',\n",
       " 'in',\n",
       " 'is',\n",
       " 'lambda',\n",
       " 'nonlocal',\n",
       " 'not',\n",
       " 'or',\n",
       " 'pass',\n",
       " 'raise',\n",
       " 'return',\n",
       " 'try',\n",
       " 'while',\n",
       " 'with',\n",
       " 'yield']"
      ]
     },
     "execution_count": 57,
     "metadata": {},
     "output_type": "execute_result"
    }
   ],
   "source": [
    "import keyword # import the 'keyword' module/library\n",
    "keyword.kwlist # look at the list of keywords"
   ]
  },
  {
   "cell_type": "code",
   "execution_count": 79,
   "id": "568088bd-3ddb-494a-8272-625173869243",
   "metadata": {},
   "outputs": [
    {
     "data": {
      "text/plain": [
       "6"
      ]
     },
     "execution_count": 79,
     "metadata": {},
     "output_type": "execute_result"
    }
   ],
   "source": [
    "len('string')"
   ]
  },
  {
   "cell_type": "code",
   "execution_count": 80,
   "id": "f8ef16d6-9153-4827-9280-7cefc0df097f",
   "metadata": {},
   "outputs": [
    {
     "ename": "TypeError",
     "evalue": "object of type 'int' has no len()",
     "output_type": "error",
     "traceback": [
      "\u001b[0;31m---------------------------------------------------------------------------\u001b[0m",
      "\u001b[0;31mTypeError\u001b[0m                                 Traceback (most recent call last)",
      "Input \u001b[0;32mIn [80]\u001b[0m, in \u001b[0;36m<cell line: 1>\u001b[0;34m()\u001b[0m\n\u001b[0;32m----> 1\u001b[0m \u001b[38;5;28;43mlen\u001b[39;49m\u001b[43m(\u001b[49m\u001b[38;5;241;43m4\u001b[39;49m\u001b[43m)\u001b[49m\n",
      "\u001b[0;31mTypeError\u001b[0m: object of type 'int' has no len()"
     ]
    }
   ],
   "source": [
    "len(4)"
   ]
  },
  {
   "cell_type": "code",
   "execution_count": 85,
   "id": "700ba464-c0fb-48ef-9f98-2e12abb35b60",
   "metadata": {},
   "outputs": [
    {
     "data": {
      "text/plain": [
       "False"
      ]
     },
     "execution_count": 85,
     "metadata": {},
     "output_type": "execute_result"
    }
   ],
   "source": [
    "'R' in 'Starbucks'"
   ]
  },
  {
   "cell_type": "code",
   "execution_count": 84,
   "id": "bd21705f-ad07-45b0-bd0a-d87e4a85a131",
   "metadata": {},
   "outputs": [
    {
     "data": {
      "text/plain": [
       "True"
      ]
     },
     "execution_count": 84,
     "metadata": {},
     "output_type": "execute_result"
    }
   ],
   "source": [
    "'buck' in 'Starbucks'"
   ]
  },
  {
   "cell_type": "code",
   "execution_count": null,
   "id": "13a75831-d8f9-4801-ac04-159cb66b7daf",
   "metadata": {},
   "outputs": [],
   "source": [
    "(2 + 3) * 4 # PEMDAS Parentheses BODMAS"
   ]
  },
  {
   "cell_type": "code",
   "execution_count": 88,
   "id": "120df9fd-7e61-4ea9-af53-af2bcf9fb6f4",
   "metadata": {},
   "outputs": [
    {
     "data": {
      "text/plain": [
       "2417851639229258349412352"
      ]
     },
     "execution_count": 88,
     "metadata": {},
     "output_type": "execute_result"
    }
   ],
   "source": [
    "2 ** (3 ** 4)"
   ]
  },
  {
   "cell_type": "code",
   "execution_count": 87,
   "id": "b90f13cf-bf55-42aa-b6b6-4c795b3e795c",
   "metadata": {},
   "outputs": [
    {
     "data": {
      "text/plain": [
       "4096"
      ]
     },
     "execution_count": 87,
     "metadata": {},
     "output_type": "execute_result"
    }
   ],
   "source": [
    "(2 ** 3) ** 4"
   ]
  },
  {
   "cell_type": "code",
   "execution_count": null,
   "id": "d57ed520-7a09-4e74-bcbf-6c4cb3d98863",
   "metadata": {},
   "outputs": [],
   "source": [
    "if 5 < 10 or 5 > 3:\n",
    "    print('something')"
   ]
  },
  {
   "cell_type": "code",
   "execution_count": 89,
   "id": "db861c50-1833-427c-a37b-fdf22396d5c8",
   "metadata": {},
   "outputs": [],
   "source": [
    "import random"
   ]
  },
  {
   "cell_type": "code",
   "execution_count": 113,
   "id": "2abfa658-53a5-45b1-897c-acc28f2e0394",
   "metadata": {},
   "outputs": [
    {
     "data": {
      "text/plain": [
       "(140537773671904, 140537772876720)"
      ]
     },
     "execution_count": 113,
     "metadata": {},
     "output_type": "execute_result"
    }
   ],
   "source": [
    "id(random), id(print)"
   ]
  },
  {
   "cell_type": "code",
   "execution_count": 91,
   "id": "f2b832ff-cc3b-4f03-96c8-8ada9a347b74",
   "metadata": {},
   "outputs": [
    {
     "data": {
      "text/plain": [
       "['BPF',\n",
       " 'LOG4',\n",
       " 'NV_MAGICCONST',\n",
       " 'RECIP_BPF',\n",
       " 'Random',\n",
       " 'SG_MAGICCONST',\n",
       " 'SystemRandom',\n",
       " 'TWOPI',\n",
       " '_Sequence',\n",
       " '_Set',\n",
       " '__all__',\n",
       " '__builtins__',\n",
       " '__cached__',\n",
       " '__doc__',\n",
       " '__file__',\n",
       " '__loader__',\n",
       " '__name__',\n",
       " '__package__',\n",
       " '__spec__',\n",
       " '_accumulate',\n",
       " '_acos',\n",
       " '_bisect',\n",
       " '_ceil',\n",
       " '_cos',\n",
       " '_e',\n",
       " '_exp',\n",
       " '_floor',\n",
       " '_inst',\n",
       " '_log',\n",
       " '_os',\n",
       " '_pi',\n",
       " '_random',\n",
       " '_repeat',\n",
       " '_sha512',\n",
       " '_sin',\n",
       " '_sqrt',\n",
       " '_test',\n",
       " '_test_generator',\n",
       " '_urandom',\n",
       " '_warn',\n",
       " 'betavariate',\n",
       " 'choice',\n",
       " 'choices',\n",
       " 'expovariate',\n",
       " 'gammavariate',\n",
       " 'gauss',\n",
       " 'getrandbits',\n",
       " 'getstate',\n",
       " 'lognormvariate',\n",
       " 'normalvariate',\n",
       " 'paretovariate',\n",
       " 'randbytes',\n",
       " 'randint',\n",
       " 'random',\n",
       " 'randrange',\n",
       " 'sample',\n",
       " 'seed',\n",
       " 'setstate',\n",
       " 'shuffle',\n",
       " 'triangular',\n",
       " 'uniform',\n",
       " 'vonmisesvariate',\n",
       " 'weibullvariate']"
      ]
     },
     "execution_count": 91,
     "metadata": {},
     "output_type": "execute_result"
    }
   ],
   "source": [
    "dir(random)"
   ]
  },
  {
   "cell_type": "code",
   "execution_count": 92,
   "id": "53ec54c0-3eb6-476c-9cec-87f7ae801715",
   "metadata": {},
   "outputs": [
    {
     "name": "stdout",
     "output_type": "stream",
     "text": [
      "Help on method randint in module random:\n",
      "\n",
      "randint(a, b) method of random.Random instance\n",
      "    Return random integer in range [a, b], including both end points.\n",
      "\n"
     ]
    }
   ],
   "source": [
    "help(random.randint)"
   ]
  },
  {
   "cell_type": "code",
   "execution_count": 112,
   "id": "236ddbbf-551a-4905-830b-ad90c6aa0dd5",
   "metadata": {},
   "outputs": [
    {
     "data": {
      "text/plain": [
       "4"
      ]
     },
     "execution_count": 112,
     "metadata": {},
     "output_type": "execute_result"
    }
   ],
   "source": [
    "random.randint(1, 6)"
   ]
  },
  {
   "cell_type": "code",
   "execution_count": 114,
   "id": "31b4e7d1-eff3-42cf-be5c-519f662d7eb8",
   "metadata": {},
   "outputs": [],
   "source": [
    "import math"
   ]
  },
  {
   "cell_type": "code",
   "execution_count": 115,
   "id": "417c7a51-a1c4-4b69-895d-f61c18baf0e1",
   "metadata": {},
   "outputs": [
    {
     "data": {
      "text/plain": [
       "['__doc__',\n",
       " '__file__',\n",
       " '__loader__',\n",
       " '__name__',\n",
       " '__package__',\n",
       " '__spec__',\n",
       " 'acos',\n",
       " 'acosh',\n",
       " 'asin',\n",
       " 'asinh',\n",
       " 'atan',\n",
       " 'atan2',\n",
       " 'atanh',\n",
       " 'ceil',\n",
       " 'comb',\n",
       " 'copysign',\n",
       " 'cos',\n",
       " 'cosh',\n",
       " 'degrees',\n",
       " 'dist',\n",
       " 'e',\n",
       " 'erf',\n",
       " 'erfc',\n",
       " 'exp',\n",
       " 'expm1',\n",
       " 'fabs',\n",
       " 'factorial',\n",
       " 'floor',\n",
       " 'fmod',\n",
       " 'frexp',\n",
       " 'fsum',\n",
       " 'gamma',\n",
       " 'gcd',\n",
       " 'hypot',\n",
       " 'inf',\n",
       " 'isclose',\n",
       " 'isfinite',\n",
       " 'isinf',\n",
       " 'isnan',\n",
       " 'isqrt',\n",
       " 'lcm',\n",
       " 'ldexp',\n",
       " 'lgamma',\n",
       " 'log',\n",
       " 'log10',\n",
       " 'log1p',\n",
       " 'log2',\n",
       " 'modf',\n",
       " 'nan',\n",
       " 'nextafter',\n",
       " 'perm',\n",
       " 'pi',\n",
       " 'pow',\n",
       " 'prod',\n",
       " 'radians',\n",
       " 'remainder',\n",
       " 'sin',\n",
       " 'sinh',\n",
       " 'sqrt',\n",
       " 'tan',\n",
       " 'tanh',\n",
       " 'tau',\n",
       " 'trunc',\n",
       " 'ulp']"
      ]
     },
     "execution_count": 115,
     "metadata": {},
     "output_type": "execute_result"
    }
   ],
   "source": [
    "dir(math)"
   ]
  },
  {
   "cell_type": "code",
   "execution_count": 116,
   "id": "10afd118-840d-47e8-b784-0a4c5f0769e4",
   "metadata": {},
   "outputs": [
    {
     "name": "stdout",
     "output_type": "stream",
     "text": [
      "Help on module math:\n",
      "\n",
      "NAME\n",
      "    math\n",
      "\n",
      "MODULE REFERENCE\n",
      "    https://docs.python.org/3.9/library/math\n",
      "    \n",
      "    The following documentation is automatically generated from the Python\n",
      "    source files.  It may be incomplete, incorrect or include features that\n",
      "    are considered implementation detail and may vary between Python\n",
      "    implementations.  When in doubt, consult the module reference at the\n",
      "    location listed above.\n",
      "\n",
      "DESCRIPTION\n",
      "    This module provides access to the mathematical functions\n",
      "    defined by the C standard.\n",
      "\n",
      "FUNCTIONS\n",
      "    acos(x, /)\n",
      "        Return the arc cosine (measured in radians) of x.\n",
      "        \n",
      "        The result is between 0 and pi.\n",
      "    \n",
      "    acosh(x, /)\n",
      "        Return the inverse hyperbolic cosine of x.\n",
      "    \n",
      "    asin(x, /)\n",
      "        Return the arc sine (measured in radians) of x.\n",
      "        \n",
      "        The result is between -pi/2 and pi/2.\n",
      "    \n",
      "    asinh(x, /)\n",
      "        Return the inverse hyperbolic sine of x.\n",
      "    \n",
      "    atan(x, /)\n",
      "        Return the arc tangent (measured in radians) of x.\n",
      "        \n",
      "        The result is between -pi/2 and pi/2.\n",
      "    \n",
      "    atan2(y, x, /)\n",
      "        Return the arc tangent (measured in radians) of y/x.\n",
      "        \n",
      "        Unlike atan(y/x), the signs of both x and y are considered.\n",
      "    \n",
      "    atanh(x, /)\n",
      "        Return the inverse hyperbolic tangent of x.\n",
      "    \n",
      "    ceil(x, /)\n",
      "        Return the ceiling of x as an Integral.\n",
      "        \n",
      "        This is the smallest integer >= x.\n",
      "    \n",
      "    comb(n, k, /)\n",
      "        Number of ways to choose k items from n items without repetition and without order.\n",
      "        \n",
      "        Evaluates to n! / (k! * (n - k)!) when k <= n and evaluates\n",
      "        to zero when k > n.\n",
      "        \n",
      "        Also called the binomial coefficient because it is equivalent\n",
      "        to the coefficient of k-th term in polynomial expansion of the\n",
      "        expression (1 + x)**n.\n",
      "        \n",
      "        Raises TypeError if either of the arguments are not integers.\n",
      "        Raises ValueError if either of the arguments are negative.\n",
      "    \n",
      "    copysign(x, y, /)\n",
      "        Return a float with the magnitude (absolute value) of x but the sign of y.\n",
      "        \n",
      "        On platforms that support signed zeros, copysign(1.0, -0.0)\n",
      "        returns -1.0.\n",
      "    \n",
      "    cos(x, /)\n",
      "        Return the cosine of x (measured in radians).\n",
      "    \n",
      "    cosh(x, /)\n",
      "        Return the hyperbolic cosine of x.\n",
      "    \n",
      "    degrees(x, /)\n",
      "        Convert angle x from radians to degrees.\n",
      "    \n",
      "    dist(p, q, /)\n",
      "        Return the Euclidean distance between two points p and q.\n",
      "        \n",
      "        The points should be specified as sequences (or iterables) of\n",
      "        coordinates.  Both inputs must have the same dimension.\n",
      "        \n",
      "        Roughly equivalent to:\n",
      "            sqrt(sum((px - qx) ** 2.0 for px, qx in zip(p, q)))\n",
      "    \n",
      "    erf(x, /)\n",
      "        Error function at x.\n",
      "    \n",
      "    erfc(x, /)\n",
      "        Complementary error function at x.\n",
      "    \n",
      "    exp(x, /)\n",
      "        Return e raised to the power of x.\n",
      "    \n",
      "    expm1(x, /)\n",
      "        Return exp(x)-1.\n",
      "        \n",
      "        This function avoids the loss of precision involved in the direct evaluation of exp(x)-1 for small x.\n",
      "    \n",
      "    fabs(x, /)\n",
      "        Return the absolute value of the float x.\n",
      "    \n",
      "    factorial(x, /)\n",
      "        Find x!.\n",
      "        \n",
      "        Raise a ValueError if x is negative or non-integral.\n",
      "    \n",
      "    floor(x, /)\n",
      "        Return the floor of x as an Integral.\n",
      "        \n",
      "        This is the largest integer <= x.\n",
      "    \n",
      "    fmod(x, y, /)\n",
      "        Return fmod(x, y), according to platform C.\n",
      "        \n",
      "        x % y may differ.\n",
      "    \n",
      "    frexp(x, /)\n",
      "        Return the mantissa and exponent of x, as pair (m, e).\n",
      "        \n",
      "        m is a float and e is an int, such that x = m * 2.**e.\n",
      "        If x is 0, m and e are both 0.  Else 0.5 <= abs(m) < 1.0.\n",
      "    \n",
      "    fsum(seq, /)\n",
      "        Return an accurate floating point sum of values in the iterable seq.\n",
      "        \n",
      "        Assumes IEEE-754 floating point arithmetic.\n",
      "    \n",
      "    gamma(x, /)\n",
      "        Gamma function at x.\n",
      "    \n",
      "    gcd(*integers)\n",
      "        Greatest Common Divisor.\n",
      "    \n",
      "    hypot(...)\n",
      "        hypot(*coordinates) -> value\n",
      "        \n",
      "        Multidimensional Euclidean distance from the origin to a point.\n",
      "        \n",
      "        Roughly equivalent to:\n",
      "            sqrt(sum(x**2 for x in coordinates))\n",
      "        \n",
      "        For a two dimensional point (x, y), gives the hypotenuse\n",
      "        using the Pythagorean theorem:  sqrt(x*x + y*y).\n",
      "        \n",
      "        For example, the hypotenuse of a 3/4/5 right triangle is:\n",
      "        \n",
      "            >>> hypot(3.0, 4.0)\n",
      "            5.0\n",
      "    \n",
      "    isclose(a, b, *, rel_tol=1e-09, abs_tol=0.0)\n",
      "        Determine whether two floating point numbers are close in value.\n",
      "        \n",
      "          rel_tol\n",
      "            maximum difference for being considered \"close\", relative to the\n",
      "            magnitude of the input values\n",
      "          abs_tol\n",
      "            maximum difference for being considered \"close\", regardless of the\n",
      "            magnitude of the input values\n",
      "        \n",
      "        Return True if a is close in value to b, and False otherwise.\n",
      "        \n",
      "        For the values to be considered close, the difference between them\n",
      "        must be smaller than at least one of the tolerances.\n",
      "        \n",
      "        -inf, inf and NaN behave similarly to the IEEE 754 Standard.  That\n",
      "        is, NaN is not close to anything, even itself.  inf and -inf are\n",
      "        only close to themselves.\n",
      "    \n",
      "    isfinite(x, /)\n",
      "        Return True if x is neither an infinity nor a NaN, and False otherwise.\n",
      "    \n",
      "    isinf(x, /)\n",
      "        Return True if x is a positive or negative infinity, and False otherwise.\n",
      "    \n",
      "    isnan(x, /)\n",
      "        Return True if x is a NaN (not a number), and False otherwise.\n",
      "    \n",
      "    isqrt(n, /)\n",
      "        Return the integer part of the square root of the input.\n",
      "    \n",
      "    lcm(*integers)\n",
      "        Least Common Multiple.\n",
      "    \n",
      "    ldexp(x, i, /)\n",
      "        Return x * (2**i).\n",
      "        \n",
      "        This is essentially the inverse of frexp().\n",
      "    \n",
      "    lgamma(x, /)\n",
      "        Natural logarithm of absolute value of Gamma function at x.\n",
      "    \n",
      "    log(...)\n",
      "        log(x, [base=math.e])\n",
      "        Return the logarithm of x to the given base.\n",
      "        \n",
      "        If the base not specified, returns the natural logarithm (base e) of x.\n",
      "    \n",
      "    log10(x, /)\n",
      "        Return the base 10 logarithm of x.\n",
      "    \n",
      "    log1p(x, /)\n",
      "        Return the natural logarithm of 1+x (base e).\n",
      "        \n",
      "        The result is computed in a way which is accurate for x near zero.\n",
      "    \n",
      "    log2(x, /)\n",
      "        Return the base 2 logarithm of x.\n",
      "    \n",
      "    modf(x, /)\n",
      "        Return the fractional and integer parts of x.\n",
      "        \n",
      "        Both results carry the sign of x and are floats.\n",
      "    \n",
      "    nextafter(x, y, /)\n",
      "        Return the next floating-point value after x towards y.\n",
      "    \n",
      "    perm(n, k=None, /)\n",
      "        Number of ways to choose k items from n items without repetition and with order.\n",
      "        \n",
      "        Evaluates to n! / (n - k)! when k <= n and evaluates\n",
      "        to zero when k > n.\n",
      "        \n",
      "        If k is not specified or is None, then k defaults to n\n",
      "        and the function returns n!.\n",
      "        \n",
      "        Raises TypeError if either of the arguments are not integers.\n",
      "        Raises ValueError if either of the arguments are negative.\n",
      "    \n",
      "    pow(x, y, /)\n",
      "        Return x**y (x to the power of y).\n",
      "    \n",
      "    prod(iterable, /, *, start=1)\n",
      "        Calculate the product of all the elements in the input iterable.\n",
      "        \n",
      "        The default start value for the product is 1.\n",
      "        \n",
      "        When the iterable is empty, return the start value.  This function is\n",
      "        intended specifically for use with numeric values and may reject\n",
      "        non-numeric types.\n",
      "    \n",
      "    radians(x, /)\n",
      "        Convert angle x from degrees to radians.\n",
      "    \n",
      "    remainder(x, y, /)\n",
      "        Difference between x and the closest integer multiple of y.\n",
      "        \n",
      "        Return x - n*y where n*y is the closest integer multiple of y.\n",
      "        In the case where x is exactly halfway between two multiples of\n",
      "        y, the nearest even value of n is used. The result is always exact.\n",
      "    \n",
      "    sin(x, /)\n",
      "        Return the sine of x (measured in radians).\n",
      "    \n",
      "    sinh(x, /)\n",
      "        Return the hyperbolic sine of x.\n",
      "    \n",
      "    sqrt(x, /)\n",
      "        Return the square root of x.\n",
      "    \n",
      "    tan(x, /)\n",
      "        Return the tangent of x (measured in radians).\n",
      "    \n",
      "    tanh(x, /)\n",
      "        Return the hyperbolic tangent of x.\n",
      "    \n",
      "    trunc(x, /)\n",
      "        Truncates the Real x to the nearest Integral toward 0.\n",
      "        \n",
      "        Uses the __trunc__ magic method.\n",
      "    \n",
      "    ulp(x, /)\n",
      "        Return the value of the least significant bit of the float x.\n",
      "\n",
      "DATA\n",
      "    e = 2.718281828459045\n",
      "    inf = inf\n",
      "    nan = nan\n",
      "    pi = 3.141592653589793\n",
      "    tau = 6.283185307179586\n",
      "\n",
      "FILE\n",
      "    /Users/dave-wadestein/opt/anaconda3/lib/python3.9/lib-dynload/math.cpython-39-darwin.so\n",
      "\n",
      "\n"
     ]
    }
   ],
   "source": [
    "help(math)"
   ]
  },
  {
   "cell_type": "code",
   "execution_count": 117,
   "id": "37c06a42-56e7-499b-84ad-9819aea5ea7c",
   "metadata": {},
   "outputs": [
    {
     "ename": "ZeroDivisionError",
     "evalue": "division by zero",
     "output_type": "error",
     "traceback": [
      "\u001b[0;31m---------------------------------------------------------------------------\u001b[0m",
      "\u001b[0;31mZeroDivisionError\u001b[0m                         Traceback (most recent call last)",
      "Input \u001b[0;32mIn [117]\u001b[0m, in \u001b[0;36m<cell line: 1>\u001b[0;34m()\u001b[0m\n\u001b[0;32m----> 1\u001b[0m \u001b[38;5;241;43m23\u001b[39;49m\u001b[43m \u001b[49m\u001b[38;5;241;43m/\u001b[39;49m\u001b[43m \u001b[49m\u001b[38;5;241;43m0\u001b[39;49m\n",
      "\u001b[0;31mZeroDivisionError\u001b[0m: division by zero"
     ]
    }
   ],
   "source": [
    "23 / 0"
   ]
  },
  {
   "cell_type": "code",
   "execution_count": 118,
   "id": "36e75302-c567-40fb-ad9f-538aae4ac790",
   "metadata": {},
   "outputs": [
    {
     "data": {
      "text/plain": [
       "1"
      ]
     },
     "execution_count": 118,
     "metadata": {},
     "output_type": "execute_result"
    }
   ],
   "source": [
    "15 % 2"
   ]
  },
  {
   "cell_type": "code",
   "execution_count": 119,
   "id": "89429ffa-f456-4454-b262-4707a35ed44a",
   "metadata": {},
   "outputs": [
    {
     "data": {
      "text/plain": [
       "0"
      ]
     },
     "execution_count": 119,
     "metadata": {},
     "output_type": "execute_result"
    }
   ],
   "source": [
    "15 % 3"
   ]
  },
  {
   "cell_type": "code",
   "execution_count": 121,
   "id": "59878eef-7efd-44a0-a3e2-f12351f4f31b",
   "metadata": {},
   "outputs": [
    {
     "data": {
      "text/plain": [
       "1"
      ]
     },
     "execution_count": 121,
     "metadata": {},
     "output_type": "execute_result"
    }
   ],
   "source": [
    "17 % 2"
   ]
  },
  {
   "cell_type": "markdown",
   "id": "dde6a2fe-deb6-4b20-b6d5-5c1af1e2f529",
   "metadata": {},
   "source": [
    "## Quick Lab: Loops/Strings\n",
    "* have the user enter a string, then loop through the string to generate (or print) a new string in which every character is duplicated, e.g., \"Python\" => \"PPyytthhoonn\""
   ]
  },
  {
   "cell_type": "code",
   "execution_count": 122,
   "id": "0588d632-7cbf-4564-8a26-18ad4a5159e5",
   "metadata": {},
   "outputs": [],
   "source": [
    "# steps to solve this problem\n",
    "# 1. get a string from the user\n",
    "# 2. for each letter/character in the string:\n",
    "# 3.    write out the letter TWICE (next to each other)"
   ]
  },
  {
   "cell_type": "code",
   "execution_count": 132,
   "id": "725d65f7-5945-4fe3-8516-76e286c6150d",
   "metadata": {},
   "outputs": [
    {
     "name": "stdin",
     "output_type": "stream",
     "text": [
      "Enter a string:  Swift\n"
     ]
    },
    {
     "name": "stdout",
     "output_type": "stream",
     "text": [
      "SSSwwwiiifffttt"
     ]
    }
   ],
   "source": [
    "string = input('Enter a string: ') # 1\n",
    "for letter in string: # 2\n",
    "    print(letter * 2, end='') # 3 (print letter twice, don't go to next line)"
   ]
  },
  {
   "cell_type": "code",
   "execution_count": 131,
   "id": "6d741996-7ccc-4b63-a61f-e6ec70976e97",
   "metadata": {},
   "outputs": [
    {
     "name": "stdout",
     "output_type": "stream",
     "text": [
      "TTaayylloorr"
     ]
    }
   ],
   "source": [
    "# Another solution...\n",
    "# there are many ways to \"print twice\"\n",
    "for letter in string: # 2\n",
    "    print(letter + letter, end='') "
   ]
  },
  {
   "cell_type": "code",
   "execution_count": 136,
   "id": "5a85644e-b868-4012-b615-cd4480e24162",
   "metadata": {},
   "outputs": [
    {
     "name": "stdout",
     "output_type": "stream",
     "text": [
      "SSwwiifftt"
     ]
    }
   ],
   "source": [
    "# and another...\n",
    "for letter in string: # 2\n",
    "    print(letter, letter, sep='', end='') # nothing following each print, nothing at "
   ]
  },
  {
   "cell_type": "code",
   "execution_count": 138,
   "id": "5e113e9f-008b-4d6c-958b-92ab6e36cc61",
   "metadata": {},
   "outputs": [
    {
     "name": "stdout",
     "output_type": "stream",
     "text": [
      "SSwwiifftt"
     ]
    }
   ],
   "source": [
    "for letter in string: # 2\n",
    "    print(letter, end=letter)"
   ]
  },
  {
   "cell_type": "code",
   "execution_count": 140,
   "id": "b29d9b1d-99a9-4d70-8f5a-99174a11f5e0",
   "metadata": {},
   "outputs": [
    {
     "name": "stdin",
     "output_type": "stream",
     "text": [
      "Enter a string:  this is a test\n"
     ]
    },
    {
     "name": "stdout",
     "output_type": "stream",
     "text": [
      "tthhiiss iiss aa tteesstt"
     ]
    }
   ],
   "source": [
    "# Duplicate any character EXCEPT for spaces\n",
    "string = input('Enter a string: ') # 1\n",
    "for char in string: # 2\n",
    "    to_print = ' '\n",
    "    if char != ' ':\n",
    "        to_print = char * 2\n",
    "    print(to_print, end='')"
   ]
  },
  {
   "cell_type": "code",
   "execution_count": 127,
   "id": "8c7ab213-4204-4b51-87d6-35c60ed5eb87",
   "metadata": {},
   "outputs": [],
   "source": [
    "# 1. take the problem and break it down into steps \n",
    "# 2. write down the steps in order\n",
    "# 3. convert each step 1 by 1 into Python"
   ]
  },
  {
   "cell_type": "code",
   "execution_count": 137,
   "id": "47382035-c7c8-4f14-9cf9-b8b829168fe7",
   "metadata": {},
   "outputs": [
    {
     "name": "stdin",
     "output_type": "stream",
     "text": [
      "Enter a string:  Jason\n"
     ]
    },
    {
     "name": "stdout",
     "output_type": "stream",
     "text": [
      "Duplicated String: JJaassoonn\n"
     ]
    }
   ],
   "source": [
    "# Jason's solution\n",
    "user_input = input(\"Enter a string: \")\n",
    "duplicated_string = \"\" # empty string\n",
    "\n",
    "for character in user_input:\n",
    "    duplicated_string = duplicated_string + character * 2\n",
    "\n",
    "print(\"Duplicated String:\", duplicated_string)"
   ]
  },
  {
   "cell_type": "markdown",
   "id": "6360682e-a69b-4e09-9102-281d2ee4fc3e",
   "metadata": {},
   "source": [
    "# Bonus rules on how to get better at programming\n",
    "1. once you have a working solution, try a different way to do it\n",
    "2. add new features to your code"
   ]
  },
  {
   "cell_type": "code",
   "execution_count": 141,
   "id": "2b666b7b-1223-41b4-b655-7eda03f40d4d",
   "metadata": {},
   "outputs": [],
   "source": [
    "# \"for thing in container\""
   ]
  },
  {
   "cell_type": "code",
   "execution_count": 145,
   "id": "9bc06eae-403e-44e6-a2c2-e0262cbbd2f6",
   "metadata": {},
   "outputs": [
    {
     "name": "stdout",
     "output_type": "stream",
     "text": [
      "P\n",
      "y\n",
      "t\n",
      "h\n",
      "o\n",
      "n\n"
     ]
    }
   ],
   "source": [
    "for thing in 'Python': # for each item in the container\n",
    "    print(thing)"
   ]
  },
  {
   "cell_type": "code",
   "execution_count": 146,
   "id": "8f25f92c-f8fa-4efc-8b97-f803578c105d",
   "metadata": {},
   "outputs": [
    {
     "name": "stdout",
     "output_type": "stream",
     "text": [
      "P\n",
      "y\n",
      "t\n",
      "h\n",
      "o\n",
      "n\n"
     ]
    }
   ],
   "source": [
    "for letter in 'Python': # for each item in the container\n",
    "    print(letter)"
   ]
  },
  {
   "cell_type": "markdown",
   "id": "30ec5530-4581-42d5-8856-63ec88d31775",
   "metadata": {},
   "source": [
    "## (Group) Lab: Loops\n",
    "* Loop through the numbers from 2 to 25 and print out which numbers are prime, and for those numbers which are not prime numbers, indicate what number divides into it\n",
    "* prime = no divisors other than 1 and itself\n",
    "* example output:\n",
    "<pre>\n",
    "2 is PRIME\n",
    "3 is PRIME\n",
    "4 is divisible by 2\n",
    "5 is PRIME\n",
    "6 is divisible by 2\n",
    "7 is PRIME\n",
    "8 is divisible by 2\n",
    "9 is divisible by 3\n",
    "10 is divisible by 2\n",
    "11 is PRIME\n",
    "12 is divisible by 2\n",
    "13 is PRIME\n",
    "14 is divisible by 2\n",
    "15 is divisible by 3\n",
    "16 is divisible by 2\n",
    "17 is PRIME\n",
    "18 is divisible by 2\n",
    "19 is PRIME\n",
    "20 is divisible by 2\n",
    "21 is divisible by 3\n",
    "22 is divisible by 2\n",
    "23 is PRIME\n",
    "24 is divisible by 2\n",
    "25 is divisible by 5\n",
    "</pre>"
   ]
  },
  {
   "cell_type": "code",
   "execution_count": 147,
   "id": "35f18532-515c-4eda-9c72-f470b352d0f3",
   "metadata": {},
   "outputs": [],
   "source": [
    "# Steps!!!\n",
    "# 1. consider each number from 2 to 25 in order\n",
    "# 2.    consider each possible_divisor from 2 up to number-1\n",
    "# 3.       check to see if possible_divisor divides in to the number\n",
    "# 4.       if so, the number is NOT PRIME:\n",
    "# 5.           write number \"is divisible by\" possible_divisor\n",
    "# 6.           stop checking\n",
    "# 7.    if we didn't find a divisor above, then\n",
    "# 8.           write number, 'is PRIME'"
   ]
  },
  {
   "cell_type": "code",
   "execution_count": null,
   "id": "0afc44bc-124a-4f81-9086-a43575adaf63",
   "metadata": {},
   "outputs": [],
   "source": [
    "# Our first cut at the steps should be mostly English\n",
    "# the goal is to hand it to someone else and have them\n",
    "# be able to follow it\n",
    "\n",
    "# Then we can make a second cut and make it more Python\n",
    "# 1. for each number 2..25:\n",
    "# 2.     for each possible_divisor 2..number-1\n",
    "# 3.         if number % possible_divisor is 0:\n",
    "# 4.            print number \"is divisible by\" possible_divisor\n",
    "# 5.            break\n",
    "# 6.     At this point we have to figure out how we\n",
    "# 7.     ...got here (we'll talk about this)\n",
    "# 8.     if no divisors, print \"is PRIME\""
   ]
  },
  {
   "cell_type": "code",
   "execution_count": 149,
   "id": "ac12257d-1678-490b-ac2b-6f70b376852a",
   "metadata": {},
   "outputs": [
    {
     "name": "stdout",
     "output_type": "stream",
     "text": [
      "2: \n",
      "3: 2 \n",
      "4: 2 3 \n",
      "5: 2 3 4 \n",
      "6: 2 3 4 5 \n",
      "7: 2 3 4 5 6 \n",
      "8: 2 3 4 5 6 7 \n",
      "9: 2 3 4 5 6 7 8 \n",
      "10: 2 3 4 5 6 7 8 9 \n",
      "11: 2 3 4 5 6 7 8 9 10 \n",
      "12: 2 3 4 5 6 7 8 9 10 11 \n",
      "13: 2 3 4 5 6 7 8 9 10 11 12 \n",
      "14: 2 3 4 5 6 7 8 9 10 11 12 13 \n",
      "15: 2 3 4 5 6 7 8 9 10 11 12 13 14 \n",
      "16: 2 3 4 5 6 7 8 9 10 11 12 13 14 15 \n",
      "17: 2 3 4 5 6 7 8 9 10 11 12 13 14 15 16 \n",
      "18: 2 3 4 5 6 7 8 9 10 11 12 13 14 15 16 17 \n",
      "19: 2 3 4 5 6 7 8 9 10 11 12 13 14 15 16 17 18 \n",
      "20: 2 3 4 5 6 7 8 9 10 11 12 13 14 15 16 17 18 19 \n",
      "21: 2 3 4 5 6 7 8 9 10 11 12 13 14 15 16 17 18 19 20 \n",
      "22: 2 3 4 5 6 7 8 9 10 11 12 13 14 15 16 17 18 19 20 21 \n",
      "23: 2 3 4 5 6 7 8 9 10 11 12 13 14 15 16 17 18 19 20 21 22 \n",
      "24: 2 3 4 5 6 7 8 9 10 11 12 13 14 15 16 17 18 19 20 21 22 23 \n",
      "25: 2 3 4 5 6 7 8 9 10 11 12 13 14 15 16 17 18 19 20 21 22 23 24 \n"
     ]
    }
   ],
   "source": [
    "for num in range(2, 26): # 1\n",
    "    print(num, end=': ') # print num followed by ': '\n",
    "    for possible_divisor in range(2, num\n",
    "                                 ):\n",
    "        print(possible_divisor, end=' ')\n",
    "    print()"
   ]
  },
  {
   "cell_type": "code",
   "execution_count": 150,
   "id": "4dab7dfc-9249-4a18-8bdc-32f384f8780c",
   "metadata": {},
   "outputs": [
    {
     "name": "stdout",
     "output_type": "stream",
     "text": [
      "2 is PRIME\n",
      "3 is PRIME\n",
      "4 is divisible by 2\n",
      "5 is PRIME\n",
      "6 is divisible by 2\n",
      "7 is PRIME\n",
      "8 is divisible by 2\n",
      "9 is divisible by 3\n",
      "10 is divisible by 2\n",
      "11 is PRIME\n",
      "12 is divisible by 2\n",
      "13 is PRIME\n",
      "14 is divisible by 2\n",
      "15 is divisible by 3\n",
      "16 is divisible by 2\n",
      "17 is PRIME\n",
      "18 is divisible by 2\n",
      "19 is PRIME\n",
      "20 is divisible by 2\n",
      "21 is divisible by 3\n",
      "22 is divisible by 2\n",
      "23 is PRIME\n",
      "24 is divisible by 2\n",
      "25 is divisible by 5\n",
      "26 is divisible by 2\n",
      "27 is divisible by 3\n",
      "28 is divisible by 2\n",
      "29 is PRIME\n",
      "30 is divisible by 2\n",
      "31 is PRIME\n",
      "32 is divisible by 2\n",
      "33 is divisible by 3\n",
      "34 is divisible by 2\n",
      "35 is divisible by 5\n",
      "36 is divisible by 2\n",
      "37 is PRIME\n",
      "38 is divisible by 2\n",
      "39 is divisible by 3\n",
      "40 is divisible by 2\n",
      "41 is PRIME\n",
      "42 is divisible by 2\n",
      "43 is PRIME\n",
      "44 is divisible by 2\n",
      "45 is divisible by 3\n",
      "46 is divisible by 2\n",
      "47 is PRIME\n",
      "48 is divisible by 2\n",
      "49 is divisible by 7\n",
      "50 is divisible by 2\n",
      "51 is divisible by 3\n",
      "52 is divisible by 2\n",
      "53 is PRIME\n",
      "54 is divisible by 2\n",
      "55 is divisible by 5\n",
      "56 is divisible by 2\n",
      "57 is divisible by 3\n",
      "58 is divisible by 2\n",
      "59 is PRIME\n",
      "60 is divisible by 2\n",
      "61 is PRIME\n",
      "62 is divisible by 2\n",
      "63 is divisible by 3\n",
      "64 is divisible by 2\n",
      "65 is divisible by 5\n",
      "66 is divisible by 2\n",
      "67 is PRIME\n",
      "68 is divisible by 2\n",
      "69 is divisible by 3\n",
      "70 is divisible by 2\n",
      "71 is PRIME\n",
      "72 is divisible by 2\n",
      "73 is PRIME\n",
      "74 is divisible by 2\n",
      "75 is divisible by 3\n",
      "76 is divisible by 2\n",
      "77 is divisible by 7\n",
      "78 is divisible by 2\n",
      "79 is PRIME\n",
      "80 is divisible by 2\n",
      "81 is divisible by 3\n",
      "82 is divisible by 2\n",
      "83 is PRIME\n",
      "84 is divisible by 2\n",
      "85 is divisible by 5\n",
      "86 is divisible by 2\n",
      "87 is divisible by 3\n",
      "88 is divisible by 2\n",
      "89 is PRIME\n",
      "90 is divisible by 2\n",
      "91 is divisible by 7\n",
      "92 is divisible by 2\n",
      "93 is divisible by 3\n",
      "94 is divisible by 2\n",
      "95 is divisible by 5\n",
      "96 is divisible by 2\n",
      "97 is PRIME\n",
      "98 is divisible by 2\n",
      "99 is divisible by 3\n",
      "100 is divisible by 2\n",
      "101 is PRIME\n",
      "102 is divisible by 2\n",
      "103 is PRIME\n",
      "104 is divisible by 2\n",
      "105 is divisible by 3\n",
      "106 is divisible by 2\n",
      "107 is PRIME\n",
      "108 is divisible by 2\n",
      "109 is PRIME\n",
      "110 is divisible by 2\n",
      "111 is divisible by 3\n",
      "112 is divisible by 2\n",
      "113 is PRIME\n",
      "114 is divisible by 2\n",
      "115 is divisible by 5\n",
      "116 is divisible by 2\n",
      "117 is divisible by 3\n",
      "118 is divisible by 2\n",
      "119 is divisible by 7\n",
      "120 is divisible by 2\n",
      "121 is divisible by 11\n",
      "122 is divisible by 2\n",
      "123 is divisible by 3\n",
      "124 is divisible by 2\n",
      "125 is divisible by 5\n",
      "126 is divisible by 2\n",
      "127 is PRIME\n",
      "128 is divisible by 2\n",
      "129 is divisible by 3\n",
      "130 is divisible by 2\n",
      "131 is PRIME\n",
      "132 is divisible by 2\n",
      "133 is divisible by 7\n",
      "134 is divisible by 2\n",
      "135 is divisible by 3\n",
      "136 is divisible by 2\n",
      "137 is PRIME\n",
      "138 is divisible by 2\n",
      "139 is PRIME\n",
      "140 is divisible by 2\n",
      "141 is divisible by 3\n",
      "142 is divisible by 2\n",
      "143 is divisible by 11\n",
      "144 is divisible by 2\n",
      "145 is divisible by 5\n",
      "146 is divisible by 2\n",
      "147 is divisible by 3\n",
      "148 is divisible by 2\n",
      "149 is PRIME\n",
      "150 is divisible by 2\n",
      "151 is PRIME\n",
      "152 is divisible by 2\n",
      "153 is divisible by 3\n",
      "154 is divisible by 2\n",
      "155 is divisible by 5\n",
      "156 is divisible by 2\n",
      "157 is PRIME\n",
      "158 is divisible by 2\n",
      "159 is divisible by 3\n",
      "160 is divisible by 2\n",
      "161 is divisible by 7\n",
      "162 is divisible by 2\n",
      "163 is PRIME\n",
      "164 is divisible by 2\n",
      "165 is divisible by 3\n",
      "166 is divisible by 2\n",
      "167 is PRIME\n",
      "168 is divisible by 2\n",
      "169 is divisible by 13\n",
      "170 is divisible by 2\n",
      "171 is divisible by 3\n",
      "172 is divisible by 2\n",
      "173 is PRIME\n",
      "174 is divisible by 2\n",
      "175 is divisible by 5\n",
      "176 is divisible by 2\n",
      "177 is divisible by 3\n",
      "178 is divisible by 2\n",
      "179 is PRIME\n",
      "180 is divisible by 2\n",
      "181 is PRIME\n",
      "182 is divisible by 2\n",
      "183 is divisible by 3\n",
      "184 is divisible by 2\n",
      "185 is divisible by 5\n",
      "186 is divisible by 2\n",
      "187 is divisible by 11\n",
      "188 is divisible by 2\n",
      "189 is divisible by 3\n",
      "190 is divisible by 2\n",
      "191 is PRIME\n",
      "192 is divisible by 2\n",
      "193 is PRIME\n",
      "194 is divisible by 2\n",
      "195 is divisible by 3\n",
      "196 is divisible by 2\n",
      "197 is PRIME\n",
      "198 is divisible by 2\n",
      "199 is PRIME\n",
      "200 is divisible by 2\n",
      "201 is divisible by 3\n",
      "202 is divisible by 2\n",
      "203 is divisible by 7\n",
      "204 is divisible by 2\n",
      "205 is divisible by 5\n",
      "206 is divisible by 2\n",
      "207 is divisible by 3\n",
      "208 is divisible by 2\n",
      "209 is divisible by 11\n",
      "210 is divisible by 2\n",
      "211 is PRIME\n",
      "212 is divisible by 2\n",
      "213 is divisible by 3\n",
      "214 is divisible by 2\n",
      "215 is divisible by 5\n",
      "216 is divisible by 2\n",
      "217 is divisible by 7\n",
      "218 is divisible by 2\n",
      "219 is divisible by 3\n",
      "220 is divisible by 2\n",
      "221 is divisible by 13\n",
      "222 is divisible by 2\n",
      "223 is PRIME\n",
      "224 is divisible by 2\n",
      "225 is divisible by 3\n",
      "226 is divisible by 2\n",
      "227 is PRIME\n",
      "228 is divisible by 2\n",
      "229 is PRIME\n",
      "230 is divisible by 2\n",
      "231 is divisible by 3\n",
      "232 is divisible by 2\n",
      "233 is PRIME\n",
      "234 is divisible by 2\n",
      "235 is divisible by 5\n",
      "236 is divisible by 2\n",
      "237 is divisible by 3\n",
      "238 is divisible by 2\n",
      "239 is PRIME\n",
      "240 is divisible by 2\n",
      "241 is PRIME\n",
      "242 is divisible by 2\n",
      "243 is divisible by 3\n",
      "244 is divisible by 2\n",
      "245 is divisible by 5\n",
      "246 is divisible by 2\n",
      "247 is divisible by 13\n",
      "248 is divisible by 2\n",
      "249 is divisible by 3\n",
      "250 is divisible by 2\n",
      "251 is PRIME\n",
      "252 is divisible by 2\n",
      "253 is divisible by 11\n",
      "254 is divisible by 2\n",
      "255 is divisible by 3\n",
      "256 is divisible by 2\n",
      "257 is PRIME\n",
      "258 is divisible by 2\n",
      "259 is divisible by 7\n",
      "260 is divisible by 2\n",
      "261 is divisible by 3\n",
      "262 is divisible by 2\n",
      "263 is PRIME\n",
      "264 is divisible by 2\n",
      "265 is divisible by 5\n",
      "266 is divisible by 2\n",
      "267 is divisible by 3\n",
      "268 is divisible by 2\n",
      "269 is PRIME\n",
      "270 is divisible by 2\n",
      "271 is PRIME\n",
      "272 is divisible by 2\n",
      "273 is divisible by 3\n",
      "274 is divisible by 2\n",
      "275 is divisible by 5\n",
      "276 is divisible by 2\n",
      "277 is PRIME\n",
      "278 is divisible by 2\n",
      "279 is divisible by 3\n",
      "280 is divisible by 2\n",
      "281 is PRIME\n",
      "282 is divisible by 2\n",
      "283 is PRIME\n",
      "284 is divisible by 2\n",
      "285 is divisible by 3\n",
      "286 is divisible by 2\n",
      "287 is divisible by 7\n",
      "288 is divisible by 2\n",
      "289 is divisible by 17\n",
      "290 is divisible by 2\n",
      "291 is divisible by 3\n",
      "292 is divisible by 2\n",
      "293 is PRIME\n",
      "294 is divisible by 2\n",
      "295 is divisible by 5\n",
      "296 is divisible by 2\n",
      "297 is divisible by 3\n",
      "298 is divisible by 2\n",
      "299 is divisible by 13\n",
      "300 is divisible by 2\n",
      "301 is divisible by 7\n",
      "302 is divisible by 2\n",
      "303 is divisible by 3\n",
      "304 is divisible by 2\n",
      "305 is divisible by 5\n",
      "306 is divisible by 2\n",
      "307 is PRIME\n",
      "308 is divisible by 2\n",
      "309 is divisible by 3\n",
      "310 is divisible by 2\n",
      "311 is PRIME\n",
      "312 is divisible by 2\n",
      "313 is PRIME\n",
      "314 is divisible by 2\n",
      "315 is divisible by 3\n",
      "316 is divisible by 2\n",
      "317 is PRIME\n",
      "318 is divisible by 2\n",
      "319 is divisible by 11\n",
      "320 is divisible by 2\n",
      "321 is divisible by 3\n",
      "322 is divisible by 2\n",
      "323 is divisible by 17\n",
      "324 is divisible by 2\n",
      "325 is divisible by 5\n",
      "326 is divisible by 2\n",
      "327 is divisible by 3\n",
      "328 is divisible by 2\n",
      "329 is divisible by 7\n",
      "330 is divisible by 2\n",
      "331 is PRIME\n",
      "332 is divisible by 2\n",
      "333 is divisible by 3\n",
      "334 is divisible by 2\n",
      "335 is divisible by 5\n",
      "336 is divisible by 2\n",
      "337 is PRIME\n",
      "338 is divisible by 2\n",
      "339 is divisible by 3\n",
      "340 is divisible by 2\n",
      "341 is divisible by 11\n",
      "342 is divisible by 2\n",
      "343 is divisible by 7\n",
      "344 is divisible by 2\n",
      "345 is divisible by 3\n",
      "346 is divisible by 2\n",
      "347 is PRIME\n",
      "348 is divisible by 2\n",
      "349 is PRIME\n",
      "350 is divisible by 2\n",
      "351 is divisible by 3\n",
      "352 is divisible by 2\n",
      "353 is PRIME\n",
      "354 is divisible by 2\n",
      "355 is divisible by 5\n",
      "356 is divisible by 2\n",
      "357 is divisible by 3\n",
      "358 is divisible by 2\n",
      "359 is PRIME\n",
      "360 is divisible by 2\n",
      "361 is divisible by 19\n",
      "362 is divisible by 2\n",
      "363 is divisible by 3\n",
      "364 is divisible by 2\n",
      "365 is divisible by 5\n",
      "366 is divisible by 2\n",
      "367 is PRIME\n",
      "368 is divisible by 2\n",
      "369 is divisible by 3\n",
      "370 is divisible by 2\n",
      "371 is divisible by 7\n",
      "372 is divisible by 2\n",
      "373 is PRIME\n",
      "374 is divisible by 2\n",
      "375 is divisible by 3\n",
      "376 is divisible by 2\n",
      "377 is divisible by 13\n",
      "378 is divisible by 2\n",
      "379 is PRIME\n",
      "380 is divisible by 2\n",
      "381 is divisible by 3\n",
      "382 is divisible by 2\n",
      "383 is PRIME\n",
      "384 is divisible by 2\n",
      "385 is divisible by 5\n",
      "386 is divisible by 2\n",
      "387 is divisible by 3\n",
      "388 is divisible by 2\n",
      "389 is PRIME\n",
      "390 is divisible by 2\n",
      "391 is divisible by 17\n",
      "392 is divisible by 2\n",
      "393 is divisible by 3\n",
      "394 is divisible by 2\n",
      "395 is divisible by 5\n",
      "396 is divisible by 2\n",
      "397 is PRIME\n",
      "398 is divisible by 2\n",
      "399 is divisible by 3\n",
      "400 is divisible by 2\n",
      "401 is PRIME\n",
      "402 is divisible by 2\n",
      "403 is divisible by 13\n",
      "404 is divisible by 2\n",
      "405 is divisible by 3\n",
      "406 is divisible by 2\n",
      "407 is divisible by 11\n",
      "408 is divisible by 2\n",
      "409 is PRIME\n",
      "410 is divisible by 2\n",
      "411 is divisible by 3\n",
      "412 is divisible by 2\n",
      "413 is divisible by 7\n",
      "414 is divisible by 2\n",
      "415 is divisible by 5\n",
      "416 is divisible by 2\n",
      "417 is divisible by 3\n",
      "418 is divisible by 2\n",
      "419 is PRIME\n",
      "420 is divisible by 2\n",
      "421 is PRIME\n",
      "422 is divisible by 2\n",
      "423 is divisible by 3\n",
      "424 is divisible by 2\n",
      "425 is divisible by 5\n",
      "426 is divisible by 2\n",
      "427 is divisible by 7\n",
      "428 is divisible by 2\n",
      "429 is divisible by 3\n",
      "430 is divisible by 2\n",
      "431 is PRIME\n",
      "432 is divisible by 2\n",
      "433 is PRIME\n",
      "434 is divisible by 2\n",
      "435 is divisible by 3\n",
      "436 is divisible by 2\n",
      "437 is divisible by 19\n",
      "438 is divisible by 2\n",
      "439 is PRIME\n",
      "440 is divisible by 2\n",
      "441 is divisible by 3\n",
      "442 is divisible by 2\n",
      "443 is PRIME\n",
      "444 is divisible by 2\n",
      "445 is divisible by 5\n",
      "446 is divisible by 2\n",
      "447 is divisible by 3\n",
      "448 is divisible by 2\n",
      "449 is PRIME\n",
      "450 is divisible by 2\n",
      "451 is divisible by 11\n",
      "452 is divisible by 2\n",
      "453 is divisible by 3\n",
      "454 is divisible by 2\n",
      "455 is divisible by 5\n",
      "456 is divisible by 2\n",
      "457 is PRIME\n",
      "458 is divisible by 2\n",
      "459 is divisible by 3\n",
      "460 is divisible by 2\n",
      "461 is PRIME\n",
      "462 is divisible by 2\n",
      "463 is PRIME\n",
      "464 is divisible by 2\n",
      "465 is divisible by 3\n",
      "466 is divisible by 2\n",
      "467 is PRIME\n",
      "468 is divisible by 2\n",
      "469 is divisible by 7\n",
      "470 is divisible by 2\n",
      "471 is divisible by 3\n",
      "472 is divisible by 2\n",
      "473 is divisible by 11\n",
      "474 is divisible by 2\n",
      "475 is divisible by 5\n",
      "476 is divisible by 2\n",
      "477 is divisible by 3\n",
      "478 is divisible by 2\n",
      "479 is PRIME\n",
      "480 is divisible by 2\n",
      "481 is divisible by 13\n",
      "482 is divisible by 2\n",
      "483 is divisible by 3\n",
      "484 is divisible by 2\n",
      "485 is divisible by 5\n",
      "486 is divisible by 2\n",
      "487 is PRIME\n",
      "488 is divisible by 2\n",
      "489 is divisible by 3\n",
      "490 is divisible by 2\n",
      "491 is PRIME\n",
      "492 is divisible by 2\n",
      "493 is divisible by 17\n",
      "494 is divisible by 2\n",
      "495 is divisible by 3\n",
      "496 is divisible by 2\n",
      "497 is divisible by 7\n",
      "498 is divisible by 2\n",
      "499 is PRIME\n",
      "500 is divisible by 2\n",
      "501 is divisible by 3\n",
      "502 is divisible by 2\n",
      "503 is PRIME\n",
      "504 is divisible by 2\n",
      "505 is divisible by 5\n",
      "506 is divisible by 2\n",
      "507 is divisible by 3\n",
      "508 is divisible by 2\n",
      "509 is PRIME\n",
      "510 is divisible by 2\n",
      "511 is divisible by 7\n",
      "512 is divisible by 2\n",
      "513 is divisible by 3\n",
      "514 is divisible by 2\n",
      "515 is divisible by 5\n",
      "516 is divisible by 2\n",
      "517 is divisible by 11\n",
      "518 is divisible by 2\n",
      "519 is divisible by 3\n",
      "520 is divisible by 2\n",
      "521 is PRIME\n",
      "522 is divisible by 2\n",
      "523 is PRIME\n",
      "524 is divisible by 2\n",
      "525 is divisible by 3\n",
      "526 is divisible by 2\n",
      "527 is divisible by 17\n",
      "528 is divisible by 2\n",
      "529 is divisible by 23\n",
      "530 is divisible by 2\n",
      "531 is divisible by 3\n",
      "532 is divisible by 2\n",
      "533 is divisible by 13\n",
      "534 is divisible by 2\n",
      "535 is divisible by 5\n",
      "536 is divisible by 2\n",
      "537 is divisible by 3\n",
      "538 is divisible by 2\n",
      "539 is divisible by 7\n",
      "540 is divisible by 2\n",
      "541 is PRIME\n",
      "542 is divisible by 2\n",
      "543 is divisible by 3\n",
      "544 is divisible by 2\n",
      "545 is divisible by 5\n",
      "546 is divisible by 2\n",
      "547 is PRIME\n",
      "548 is divisible by 2\n",
      "549 is divisible by 3\n",
      "550 is divisible by 2\n",
      "551 is divisible by 19\n",
      "552 is divisible by 2\n",
      "553 is divisible by 7\n",
      "554 is divisible by 2\n",
      "555 is divisible by 3\n",
      "556 is divisible by 2\n",
      "557 is PRIME\n",
      "558 is divisible by 2\n",
      "559 is divisible by 13\n",
      "560 is divisible by 2\n",
      "561 is divisible by 3\n",
      "562 is divisible by 2\n",
      "563 is PRIME\n",
      "564 is divisible by 2\n",
      "565 is divisible by 5\n",
      "566 is divisible by 2\n",
      "567 is divisible by 3\n",
      "568 is divisible by 2\n",
      "569 is PRIME\n",
      "570 is divisible by 2\n",
      "571 is PRIME\n",
      "572 is divisible by 2\n",
      "573 is divisible by 3\n",
      "574 is divisible by 2\n",
      "575 is divisible by 5\n",
      "576 is divisible by 2\n",
      "577 is PRIME\n",
      "578 is divisible by 2\n",
      "579 is divisible by 3\n",
      "580 is divisible by 2\n",
      "581 is divisible by 7\n",
      "582 is divisible by 2\n",
      "583 is divisible by 11\n",
      "584 is divisible by 2\n",
      "585 is divisible by 3\n",
      "586 is divisible by 2\n",
      "587 is PRIME\n",
      "588 is divisible by 2\n",
      "589 is divisible by 19\n",
      "590 is divisible by 2\n",
      "591 is divisible by 3\n",
      "592 is divisible by 2\n",
      "593 is PRIME\n",
      "594 is divisible by 2\n",
      "595 is divisible by 5\n",
      "596 is divisible by 2\n",
      "597 is divisible by 3\n",
      "598 is divisible by 2\n",
      "599 is PRIME\n",
      "600 is divisible by 2\n",
      "601 is PRIME\n",
      "602 is divisible by 2\n",
      "603 is divisible by 3\n",
      "604 is divisible by 2\n",
      "605 is divisible by 5\n",
      "606 is divisible by 2\n",
      "607 is PRIME\n",
      "608 is divisible by 2\n",
      "609 is divisible by 3\n",
      "610 is divisible by 2\n",
      "611 is divisible by 13\n",
      "612 is divisible by 2\n",
      "613 is PRIME\n",
      "614 is divisible by 2\n",
      "615 is divisible by 3\n",
      "616 is divisible by 2\n",
      "617 is PRIME\n",
      "618 is divisible by 2\n",
      "619 is PRIME\n",
      "620 is divisible by 2\n",
      "621 is divisible by 3\n",
      "622 is divisible by 2\n",
      "623 is divisible by 7\n",
      "624 is divisible by 2\n",
      "625 is divisible by 5\n",
      "626 is divisible by 2\n",
      "627 is divisible by 3\n",
      "628 is divisible by 2\n",
      "629 is divisible by 17\n",
      "630 is divisible by 2\n",
      "631 is PRIME\n",
      "632 is divisible by 2\n",
      "633 is divisible by 3\n",
      "634 is divisible by 2\n",
      "635 is divisible by 5\n",
      "636 is divisible by 2\n",
      "637 is divisible by 7\n",
      "638 is divisible by 2\n",
      "639 is divisible by 3\n",
      "640 is divisible by 2\n",
      "641 is PRIME\n",
      "642 is divisible by 2\n",
      "643 is PRIME\n",
      "644 is divisible by 2\n",
      "645 is divisible by 3\n",
      "646 is divisible by 2\n",
      "647 is PRIME\n",
      "648 is divisible by 2\n",
      "649 is divisible by 11\n",
      "650 is divisible by 2\n",
      "651 is divisible by 3\n",
      "652 is divisible by 2\n",
      "653 is PRIME\n",
      "654 is divisible by 2\n",
      "655 is divisible by 5\n",
      "656 is divisible by 2\n",
      "657 is divisible by 3\n",
      "658 is divisible by 2\n",
      "659 is PRIME\n",
      "660 is divisible by 2\n",
      "661 is PRIME\n",
      "662 is divisible by 2\n",
      "663 is divisible by 3\n",
      "664 is divisible by 2\n",
      "665 is divisible by 5\n",
      "666 is divisible by 2\n",
      "667 is divisible by 23\n",
      "668 is divisible by 2\n",
      "669 is divisible by 3\n",
      "670 is divisible by 2\n",
      "671 is divisible by 11\n",
      "672 is divisible by 2\n",
      "673 is PRIME\n",
      "674 is divisible by 2\n",
      "675 is divisible by 3\n",
      "676 is divisible by 2\n",
      "677 is PRIME\n",
      "678 is divisible by 2\n",
      "679 is divisible by 7\n",
      "680 is divisible by 2\n",
      "681 is divisible by 3\n",
      "682 is divisible by 2\n",
      "683 is PRIME\n",
      "684 is divisible by 2\n",
      "685 is divisible by 5\n",
      "686 is divisible by 2\n",
      "687 is divisible by 3\n",
      "688 is divisible by 2\n",
      "689 is divisible by 13\n",
      "690 is divisible by 2\n",
      "691 is PRIME\n",
      "692 is divisible by 2\n",
      "693 is divisible by 3\n",
      "694 is divisible by 2\n",
      "695 is divisible by 5\n",
      "696 is divisible by 2\n",
      "697 is divisible by 17\n",
      "698 is divisible by 2\n",
      "699 is divisible by 3\n",
      "700 is divisible by 2\n",
      "701 is PRIME\n",
      "702 is divisible by 2\n",
      "703 is divisible by 19\n",
      "704 is divisible by 2\n",
      "705 is divisible by 3\n",
      "706 is divisible by 2\n",
      "707 is divisible by 7\n",
      "708 is divisible by 2\n",
      "709 is PRIME\n",
      "710 is divisible by 2\n",
      "711 is divisible by 3\n",
      "712 is divisible by 2\n",
      "713 is divisible by 23\n",
      "714 is divisible by 2\n",
      "715 is divisible by 5\n",
      "716 is divisible by 2\n",
      "717 is divisible by 3\n",
      "718 is divisible by 2\n",
      "719 is PRIME\n",
      "720 is divisible by 2\n",
      "721 is divisible by 7\n",
      "722 is divisible by 2\n",
      "723 is divisible by 3\n",
      "724 is divisible by 2\n",
      "725 is divisible by 5\n",
      "726 is divisible by 2\n",
      "727 is PRIME\n",
      "728 is divisible by 2\n",
      "729 is divisible by 3\n",
      "730 is divisible by 2\n",
      "731 is divisible by 17\n",
      "732 is divisible by 2\n",
      "733 is PRIME\n",
      "734 is divisible by 2\n",
      "735 is divisible by 3\n",
      "736 is divisible by 2\n",
      "737 is divisible by 11\n",
      "738 is divisible by 2\n",
      "739 is PRIME\n",
      "740 is divisible by 2\n",
      "741 is divisible by 3\n",
      "742 is divisible by 2\n",
      "743 is PRIME\n",
      "744 is divisible by 2\n",
      "745 is divisible by 5\n",
      "746 is divisible by 2\n",
      "747 is divisible by 3\n",
      "748 is divisible by 2\n",
      "749 is divisible by 7\n",
      "750 is divisible by 2\n",
      "751 is PRIME\n",
      "752 is divisible by 2\n",
      "753 is divisible by 3\n",
      "754 is divisible by 2\n",
      "755 is divisible by 5\n",
      "756 is divisible by 2\n",
      "757 is PRIME\n",
      "758 is divisible by 2\n",
      "759 is divisible by 3\n",
      "760 is divisible by 2\n",
      "761 is PRIME\n",
      "762 is divisible by 2\n",
      "763 is divisible by 7\n",
      "764 is divisible by 2\n",
      "765 is divisible by 3\n",
      "766 is divisible by 2\n",
      "767 is divisible by 13\n",
      "768 is divisible by 2\n",
      "769 is PRIME\n",
      "770 is divisible by 2\n",
      "771 is divisible by 3\n",
      "772 is divisible by 2\n",
      "773 is PRIME\n",
      "774 is divisible by 2\n",
      "775 is divisible by 5\n",
      "776 is divisible by 2\n",
      "777 is divisible by 3\n",
      "778 is divisible by 2\n",
      "779 is divisible by 19\n",
      "780 is divisible by 2\n",
      "781 is divisible by 11\n",
      "782 is divisible by 2\n",
      "783 is divisible by 3\n",
      "784 is divisible by 2\n",
      "785 is divisible by 5\n",
      "786 is divisible by 2\n",
      "787 is PRIME\n",
      "788 is divisible by 2\n",
      "789 is divisible by 3\n",
      "790 is divisible by 2\n",
      "791 is divisible by 7\n",
      "792 is divisible by 2\n",
      "793 is divisible by 13\n",
      "794 is divisible by 2\n",
      "795 is divisible by 3\n",
      "796 is divisible by 2\n",
      "797 is PRIME\n",
      "798 is divisible by 2\n",
      "799 is divisible by 17\n",
      "800 is divisible by 2\n",
      "801 is divisible by 3\n",
      "802 is divisible by 2\n",
      "803 is divisible by 11\n",
      "804 is divisible by 2\n",
      "805 is divisible by 5\n",
      "806 is divisible by 2\n",
      "807 is divisible by 3\n",
      "808 is divisible by 2\n",
      "809 is PRIME\n",
      "810 is divisible by 2\n",
      "811 is PRIME\n",
      "812 is divisible by 2\n",
      "813 is divisible by 3\n",
      "814 is divisible by 2\n",
      "815 is divisible by 5\n",
      "816 is divisible by 2\n",
      "817 is divisible by 19\n",
      "818 is divisible by 2\n",
      "819 is divisible by 3\n",
      "820 is divisible by 2\n",
      "821 is PRIME\n",
      "822 is divisible by 2\n",
      "823 is PRIME\n",
      "824 is divisible by 2\n",
      "825 is divisible by 3\n",
      "826 is divisible by 2\n",
      "827 is PRIME\n",
      "828 is divisible by 2\n",
      "829 is PRIME\n",
      "830 is divisible by 2\n",
      "831 is divisible by 3\n",
      "832 is divisible by 2\n",
      "833 is divisible by 7\n",
      "834 is divisible by 2\n",
      "835 is divisible by 5\n",
      "836 is divisible by 2\n",
      "837 is divisible by 3\n",
      "838 is divisible by 2\n",
      "839 is PRIME\n",
      "840 is divisible by 2\n",
      "841 is divisible by 29\n",
      "842 is divisible by 2\n",
      "843 is divisible by 3\n",
      "844 is divisible by 2\n",
      "845 is divisible by 5\n",
      "846 is divisible by 2\n",
      "847 is divisible by 7\n",
      "848 is divisible by 2\n",
      "849 is divisible by 3\n",
      "850 is divisible by 2\n",
      "851 is divisible by 23\n",
      "852 is divisible by 2\n",
      "853 is PRIME\n",
      "854 is divisible by 2\n",
      "855 is divisible by 3\n",
      "856 is divisible by 2\n",
      "857 is PRIME\n",
      "858 is divisible by 2\n",
      "859 is PRIME\n",
      "860 is divisible by 2\n",
      "861 is divisible by 3\n",
      "862 is divisible by 2\n",
      "863 is PRIME\n",
      "864 is divisible by 2\n",
      "865 is divisible by 5\n",
      "866 is divisible by 2\n",
      "867 is divisible by 3\n",
      "868 is divisible by 2\n",
      "869 is divisible by 11\n",
      "870 is divisible by 2\n",
      "871 is divisible by 13\n",
      "872 is divisible by 2\n",
      "873 is divisible by 3\n",
      "874 is divisible by 2\n",
      "875 is divisible by 5\n",
      "876 is divisible by 2\n",
      "877 is PRIME\n",
      "878 is divisible by 2\n",
      "879 is divisible by 3\n",
      "880 is divisible by 2\n",
      "881 is PRIME\n",
      "882 is divisible by 2\n",
      "883 is PRIME\n",
      "884 is divisible by 2\n",
      "885 is divisible by 3\n",
      "886 is divisible by 2\n",
      "887 is PRIME\n",
      "888 is divisible by 2\n",
      "889 is divisible by 7\n",
      "890 is divisible by 2\n",
      "891 is divisible by 3\n",
      "892 is divisible by 2\n",
      "893 is divisible by 19\n",
      "894 is divisible by 2\n",
      "895 is divisible by 5\n",
      "896 is divisible by 2\n",
      "897 is divisible by 3\n",
      "898 is divisible by 2\n",
      "899 is divisible by 29\n",
      "900 is divisible by 2\n",
      "901 is divisible by 17\n",
      "902 is divisible by 2\n",
      "903 is divisible by 3\n",
      "904 is divisible by 2\n",
      "905 is divisible by 5\n",
      "906 is divisible by 2\n",
      "907 is PRIME\n",
      "908 is divisible by 2\n",
      "909 is divisible by 3\n",
      "910 is divisible by 2\n",
      "911 is PRIME\n",
      "912 is divisible by 2\n",
      "913 is divisible by 11\n",
      "914 is divisible by 2\n",
      "915 is divisible by 3\n",
      "916 is divisible by 2\n",
      "917 is divisible by 7\n",
      "918 is divisible by 2\n",
      "919 is PRIME\n",
      "920 is divisible by 2\n",
      "921 is divisible by 3\n",
      "922 is divisible by 2\n",
      "923 is divisible by 13\n",
      "924 is divisible by 2\n",
      "925 is divisible by 5\n",
      "926 is divisible by 2\n",
      "927 is divisible by 3\n",
      "928 is divisible by 2\n",
      "929 is PRIME\n",
      "930 is divisible by 2\n",
      "931 is divisible by 7\n",
      "932 is divisible by 2\n",
      "933 is divisible by 3\n",
      "934 is divisible by 2\n",
      "935 is divisible by 5\n",
      "936 is divisible by 2\n",
      "937 is PRIME\n",
      "938 is divisible by 2\n",
      "939 is divisible by 3\n",
      "940 is divisible by 2\n",
      "941 is PRIME\n",
      "942 is divisible by 2\n",
      "943 is divisible by 23\n",
      "944 is divisible by 2\n",
      "945 is divisible by 3\n",
      "946 is divisible by 2\n",
      "947 is PRIME\n",
      "948 is divisible by 2\n",
      "949 is divisible by 13\n",
      "950 is divisible by 2\n",
      "951 is divisible by 3\n",
      "952 is divisible by 2\n",
      "953 is PRIME\n",
      "954 is divisible by 2\n",
      "955 is divisible by 5\n",
      "956 is divisible by 2\n",
      "957 is divisible by 3\n",
      "958 is divisible by 2\n",
      "959 is divisible by 7\n",
      "960 is divisible by 2\n",
      "961 is divisible by 31\n",
      "962 is divisible by 2\n",
      "963 is divisible by 3\n",
      "964 is divisible by 2\n",
      "965 is divisible by 5\n",
      "966 is divisible by 2\n",
      "967 is PRIME\n",
      "968 is divisible by 2\n",
      "969 is divisible by 3\n",
      "970 is divisible by 2\n",
      "971 is PRIME\n",
      "972 is divisible by 2\n",
      "973 is divisible by 7\n",
      "974 is divisible by 2\n",
      "975 is divisible by 3\n",
      "976 is divisible by 2\n",
      "977 is PRIME\n",
      "978 is divisible by 2\n",
      "979 is divisible by 11\n",
      "980 is divisible by 2\n",
      "981 is divisible by 3\n",
      "982 is divisible by 2\n",
      "983 is PRIME\n",
      "984 is divisible by 2\n",
      "985 is divisible by 5\n",
      "986 is divisible by 2\n",
      "987 is divisible by 3\n",
      "988 is divisible by 2\n",
      "989 is divisible by 23\n",
      "990 is divisible by 2\n",
      "991 is PRIME\n",
      "992 is divisible by 2\n",
      "993 is divisible by 3\n",
      "994 is divisible by 2\n",
      "995 is divisible by 5\n",
      "996 is divisible by 2\n",
      "997 is PRIME\n",
      "998 is divisible by 2\n",
      "999 is divisible by 3\n",
      "1000 is divisible by 2\n",
      "1001 is divisible by 7\n",
      "1002 is divisible by 2\n",
      "1003 is divisible by 17\n",
      "1004 is divisible by 2\n",
      "1005 is divisible by 3\n",
      "1006 is divisible by 2\n",
      "1007 is divisible by 19\n",
      "1008 is divisible by 2\n",
      "1009 is PRIME\n",
      "1010 is divisible by 2\n",
      "1011 is divisible by 3\n",
      "1012 is divisible by 2\n",
      "1013 is PRIME\n",
      "1014 is divisible by 2\n",
      "1015 is divisible by 5\n",
      "1016 is divisible by 2\n",
      "1017 is divisible by 3\n",
      "1018 is divisible by 2\n",
      "1019 is PRIME\n",
      "1020 is divisible by 2\n",
      "1021 is PRIME\n",
      "1022 is divisible by 2\n",
      "1023 is divisible by 3\n",
      "1024 is divisible by 2\n",
      "1025 is divisible by 5\n",
      "1026 is divisible by 2\n",
      "1027 is divisible by 13\n",
      "1028 is divisible by 2\n",
      "1029 is divisible by 3\n",
      "1030 is divisible by 2\n",
      "1031 is PRIME\n",
      "1032 is divisible by 2\n",
      "1033 is PRIME\n",
      "1034 is divisible by 2\n",
      "1035 is divisible by 3\n",
      "1036 is divisible by 2\n",
      "1037 is divisible by 17\n",
      "1038 is divisible by 2\n",
      "1039 is PRIME\n",
      "1040 is divisible by 2\n",
      "1041 is divisible by 3\n",
      "1042 is divisible by 2\n",
      "1043 is divisible by 7\n",
      "1044 is divisible by 2\n",
      "1045 is divisible by 5\n",
      "1046 is divisible by 2\n",
      "1047 is divisible by 3\n",
      "1048 is divisible by 2\n",
      "1049 is PRIME\n",
      "1050 is divisible by 2\n",
      "1051 is PRIME\n",
      "1052 is divisible by 2\n",
      "1053 is divisible by 3\n",
      "1054 is divisible by 2\n",
      "1055 is divisible by 5\n",
      "1056 is divisible by 2\n",
      "1057 is divisible by 7\n",
      "1058 is divisible by 2\n",
      "1059 is divisible by 3\n",
      "1060 is divisible by 2\n",
      "1061 is PRIME\n",
      "1062 is divisible by 2\n",
      "1063 is PRIME\n",
      "1064 is divisible by 2\n",
      "1065 is divisible by 3\n",
      "1066 is divisible by 2\n",
      "1067 is divisible by 11\n",
      "1068 is divisible by 2\n",
      "1069 is PRIME\n",
      "1070 is divisible by 2\n",
      "1071 is divisible by 3\n",
      "1072 is divisible by 2\n",
      "1073 is divisible by 29\n",
      "1074 is divisible by 2\n",
      "1075 is divisible by 5\n",
      "1076 is divisible by 2\n",
      "1077 is divisible by 3\n",
      "1078 is divisible by 2\n",
      "1079 is divisible by 13\n",
      "1080 is divisible by 2\n",
      "1081 is divisible by 23\n",
      "1082 is divisible by 2\n",
      "1083 is divisible by 3\n",
      "1084 is divisible by 2\n",
      "1085 is divisible by 5\n",
      "1086 is divisible by 2\n",
      "1087 is PRIME\n",
      "1088 is divisible by 2\n",
      "1089 is divisible by 3\n",
      "1090 is divisible by 2\n",
      "1091 is PRIME\n",
      "1092 is divisible by 2\n",
      "1093 is PRIME\n",
      "1094 is divisible by 2\n",
      "1095 is divisible by 3\n",
      "1096 is divisible by 2\n",
      "1097 is PRIME\n",
      "1098 is divisible by 2\n",
      "1099 is divisible by 7\n",
      "1100 is divisible by 2\n",
      "1101 is divisible by 3\n",
      "1102 is divisible by 2\n",
      "1103 is PRIME\n",
      "1104 is divisible by 2\n",
      "1105 is divisible by 5\n",
      "1106 is divisible by 2\n",
      "1107 is divisible by 3\n",
      "1108 is divisible by 2\n",
      "1109 is PRIME\n",
      "1110 is divisible by 2\n",
      "1111 is divisible by 11\n",
      "1112 is divisible by 2\n",
      "1113 is divisible by 3\n",
      "1114 is divisible by 2\n",
      "1115 is divisible by 5\n",
      "1116 is divisible by 2\n",
      "1117 is PRIME\n",
      "1118 is divisible by 2\n",
      "1119 is divisible by 3\n",
      "1120 is divisible by 2\n",
      "1121 is divisible by 19\n",
      "1122 is divisible by 2\n",
      "1123 is PRIME\n",
      "1124 is divisible by 2\n",
      "1125 is divisible by 3\n",
      "1126 is divisible by 2\n",
      "1127 is divisible by 7\n",
      "1128 is divisible by 2\n",
      "1129 is PRIME\n",
      "1130 is divisible by 2\n",
      "1131 is divisible by 3\n",
      "1132 is divisible by 2\n",
      "1133 is divisible by 11\n",
      "1134 is divisible by 2\n",
      "1135 is divisible by 5\n",
      "1136 is divisible by 2\n",
      "1137 is divisible by 3\n",
      "1138 is divisible by 2\n",
      "1139 is divisible by 17\n",
      "1140 is divisible by 2\n",
      "1141 is divisible by 7\n",
      "1142 is divisible by 2\n",
      "1143 is divisible by 3\n",
      "1144 is divisible by 2\n",
      "1145 is divisible by 5\n",
      "1146 is divisible by 2\n",
      "1147 is divisible by 31\n",
      "1148 is divisible by 2\n",
      "1149 is divisible by 3\n",
      "1150 is divisible by 2\n",
      "1151 is PRIME\n",
      "1152 is divisible by 2\n",
      "1153 is PRIME\n",
      "1154 is divisible by 2\n",
      "1155 is divisible by 3\n",
      "1156 is divisible by 2\n",
      "1157 is divisible by 13\n",
      "1158 is divisible by 2\n",
      "1159 is divisible by 19\n",
      "1160 is divisible by 2\n",
      "1161 is divisible by 3\n",
      "1162 is divisible by 2\n",
      "1163 is PRIME\n",
      "1164 is divisible by 2\n",
      "1165 is divisible by 5\n",
      "1166 is divisible by 2\n",
      "1167 is divisible by 3\n",
      "1168 is divisible by 2\n",
      "1169 is divisible by 7\n",
      "1170 is divisible by 2\n",
      "1171 is PRIME\n",
      "1172 is divisible by 2\n",
      "1173 is divisible by 3\n",
      "1174 is divisible by 2\n",
      "1175 is divisible by 5\n",
      "1176 is divisible by 2\n",
      "1177 is divisible by 11\n",
      "1178 is divisible by 2\n",
      "1179 is divisible by 3\n",
      "1180 is divisible by 2\n",
      "1181 is PRIME\n",
      "1182 is divisible by 2\n",
      "1183 is divisible by 7\n",
      "1184 is divisible by 2\n",
      "1185 is divisible by 3\n",
      "1186 is divisible by 2\n",
      "1187 is PRIME\n",
      "1188 is divisible by 2\n",
      "1189 is divisible by 29\n",
      "1190 is divisible by 2\n",
      "1191 is divisible by 3\n",
      "1192 is divisible by 2\n",
      "1193 is PRIME\n",
      "1194 is divisible by 2\n",
      "1195 is divisible by 5\n",
      "1196 is divisible by 2\n",
      "1197 is divisible by 3\n",
      "1198 is divisible by 2\n",
      "1199 is divisible by 11\n",
      "1200 is divisible by 2\n",
      "1201 is PRIME\n",
      "1202 is divisible by 2\n",
      "1203 is divisible by 3\n",
      "1204 is divisible by 2\n",
      "1205 is divisible by 5\n",
      "1206 is divisible by 2\n",
      "1207 is divisible by 17\n",
      "1208 is divisible by 2\n",
      "1209 is divisible by 3\n",
      "1210 is divisible by 2\n",
      "1211 is divisible by 7\n",
      "1212 is divisible by 2\n",
      "1213 is PRIME\n",
      "1214 is divisible by 2\n",
      "1215 is divisible by 3\n",
      "1216 is divisible by 2\n",
      "1217 is PRIME\n",
      "1218 is divisible by 2\n",
      "1219 is divisible by 23\n",
      "1220 is divisible by 2\n",
      "1221 is divisible by 3\n",
      "1222 is divisible by 2\n",
      "1223 is PRIME\n",
      "1224 is divisible by 2\n",
      "1225 is divisible by 5\n",
      "1226 is divisible by 2\n",
      "1227 is divisible by 3\n",
      "1228 is divisible by 2\n",
      "1229 is PRIME\n",
      "1230 is divisible by 2\n",
      "1231 is PRIME\n",
      "1232 is divisible by 2\n",
      "1233 is divisible by 3\n",
      "1234 is divisible by 2\n",
      "1235 is divisible by 5\n",
      "1236 is divisible by 2\n",
      "1237 is PRIME\n",
      "1238 is divisible by 2\n",
      "1239 is divisible by 3\n",
      "1240 is divisible by 2\n",
      "1241 is divisible by 17\n",
      "1242 is divisible by 2\n",
      "1243 is divisible by 11\n",
      "1244 is divisible by 2\n",
      "1245 is divisible by 3\n",
      "1246 is divisible by 2\n",
      "1247 is divisible by 29\n",
      "1248 is divisible by 2\n",
      "1249 is PRIME\n",
      "1250 is divisible by 2\n",
      "1251 is divisible by 3\n",
      "1252 is divisible by 2\n",
      "1253 is divisible by 7\n",
      "1254 is divisible by 2\n",
      "1255 is divisible by 5\n",
      "1256 is divisible by 2\n",
      "1257 is divisible by 3\n",
      "1258 is divisible by 2\n",
      "1259 is PRIME\n",
      "1260 is divisible by 2\n",
      "1261 is divisible by 13\n",
      "1262 is divisible by 2\n",
      "1263 is divisible by 3\n",
      "1264 is divisible by 2\n",
      "1265 is divisible by 5\n",
      "1266 is divisible by 2\n",
      "1267 is divisible by 7\n",
      "1268 is divisible by 2\n",
      "1269 is divisible by 3\n",
      "1270 is divisible by 2\n",
      "1271 is divisible by 31\n",
      "1272 is divisible by 2\n",
      "1273 is divisible by 19\n",
      "1274 is divisible by 2\n",
      "1275 is divisible by 3\n",
      "1276 is divisible by 2\n",
      "1277 is PRIME\n",
      "1278 is divisible by 2\n",
      "1279 is PRIME\n",
      "1280 is divisible by 2\n",
      "1281 is divisible by 3\n",
      "1282 is divisible by 2\n",
      "1283 is PRIME\n",
      "1284 is divisible by 2\n",
      "1285 is divisible by 5\n",
      "1286 is divisible by 2\n",
      "1287 is divisible by 3\n",
      "1288 is divisible by 2\n",
      "1289 is PRIME\n",
      "1290 is divisible by 2\n",
      "1291 is PRIME\n",
      "1292 is divisible by 2\n",
      "1293 is divisible by 3\n",
      "1294 is divisible by 2\n",
      "1295 is divisible by 5\n",
      "1296 is divisible by 2\n",
      "1297 is PRIME\n",
      "1298 is divisible by 2\n",
      "1299 is divisible by 3\n",
      "1300 is divisible by 2\n",
      "1301 is PRIME\n",
      "1302 is divisible by 2\n",
      "1303 is PRIME\n",
      "1304 is divisible by 2\n",
      "1305 is divisible by 3\n",
      "1306 is divisible by 2\n",
      "1307 is PRIME\n",
      "1308 is divisible by 2\n",
      "1309 is divisible by 7\n",
      "1310 is divisible by 2\n",
      "1311 is divisible by 3\n",
      "1312 is divisible by 2\n",
      "1313 is divisible by 13\n",
      "1314 is divisible by 2\n",
      "1315 is divisible by 5\n",
      "1316 is divisible by 2\n",
      "1317 is divisible by 3\n",
      "1318 is divisible by 2\n",
      "1319 is PRIME\n",
      "1320 is divisible by 2\n",
      "1321 is PRIME\n",
      "1322 is divisible by 2\n",
      "1323 is divisible by 3\n",
      "1324 is divisible by 2\n",
      "1325 is divisible by 5\n",
      "1326 is divisible by 2\n",
      "1327 is PRIME\n",
      "1328 is divisible by 2\n",
      "1329 is divisible by 3\n",
      "1330 is divisible by 2\n",
      "1331 is divisible by 11\n",
      "1332 is divisible by 2\n",
      "1333 is divisible by 31\n",
      "1334 is divisible by 2\n",
      "1335 is divisible by 3\n",
      "1336 is divisible by 2\n",
      "1337 is divisible by 7\n",
      "1338 is divisible by 2\n",
      "1339 is divisible by 13\n",
      "1340 is divisible by 2\n",
      "1341 is divisible by 3\n",
      "1342 is divisible by 2\n",
      "1343 is divisible by 17\n",
      "1344 is divisible by 2\n",
      "1345 is divisible by 5\n",
      "1346 is divisible by 2\n",
      "1347 is divisible by 3\n",
      "1348 is divisible by 2\n",
      "1349 is divisible by 19\n",
      "1350 is divisible by 2\n",
      "1351 is divisible by 7\n",
      "1352 is divisible by 2\n",
      "1353 is divisible by 3\n",
      "1354 is divisible by 2\n",
      "1355 is divisible by 5\n",
      "1356 is divisible by 2\n",
      "1357 is divisible by 23\n",
      "1358 is divisible by 2\n",
      "1359 is divisible by 3\n",
      "1360 is divisible by 2\n",
      "1361 is PRIME\n",
      "1362 is divisible by 2\n",
      "1363 is divisible by 29\n",
      "1364 is divisible by 2\n",
      "1365 is divisible by 3\n",
      "1366 is divisible by 2\n",
      "1367 is PRIME\n",
      "1368 is divisible by 2\n",
      "1369 is divisible by 37\n",
      "1370 is divisible by 2\n",
      "1371 is divisible by 3\n",
      "1372 is divisible by 2\n",
      "1373 is PRIME\n",
      "1374 is divisible by 2\n",
      "1375 is divisible by 5\n",
      "1376 is divisible by 2\n",
      "1377 is divisible by 3\n",
      "1378 is divisible by 2\n",
      "1379 is divisible by 7\n",
      "1380 is divisible by 2\n",
      "1381 is PRIME\n",
      "1382 is divisible by 2\n",
      "1383 is divisible by 3\n",
      "1384 is divisible by 2\n",
      "1385 is divisible by 5\n",
      "1386 is divisible by 2\n",
      "1387 is divisible by 19\n",
      "1388 is divisible by 2\n",
      "1389 is divisible by 3\n",
      "1390 is divisible by 2\n",
      "1391 is divisible by 13\n",
      "1392 is divisible by 2\n",
      "1393 is divisible by 7\n",
      "1394 is divisible by 2\n",
      "1395 is divisible by 3\n",
      "1396 is divisible by 2\n",
      "1397 is divisible by 11\n",
      "1398 is divisible by 2\n",
      "1399 is PRIME\n",
      "1400 is divisible by 2\n",
      "1401 is divisible by 3\n",
      "1402 is divisible by 2\n",
      "1403 is divisible by 23\n",
      "1404 is divisible by 2\n",
      "1405 is divisible by 5\n",
      "1406 is divisible by 2\n",
      "1407 is divisible by 3\n",
      "1408 is divisible by 2\n",
      "1409 is PRIME\n",
      "1410 is divisible by 2\n",
      "1411 is divisible by 17\n",
      "1412 is divisible by 2\n",
      "1413 is divisible by 3\n",
      "1414 is divisible by 2\n",
      "1415 is divisible by 5\n",
      "1416 is divisible by 2\n",
      "1417 is divisible by 13\n",
      "1418 is divisible by 2\n",
      "1419 is divisible by 3\n",
      "1420 is divisible by 2\n",
      "1421 is divisible by 7\n",
      "1422 is divisible by 2\n",
      "1423 is PRIME\n",
      "1424 is divisible by 2\n",
      "1425 is divisible by 3\n",
      "1426 is divisible by 2\n",
      "1427 is PRIME\n",
      "1428 is divisible by 2\n",
      "1429 is PRIME\n",
      "1430 is divisible by 2\n",
      "1431 is divisible by 3\n",
      "1432 is divisible by 2\n",
      "1433 is PRIME\n",
      "1434 is divisible by 2\n",
      "1435 is divisible by 5\n",
      "1436 is divisible by 2\n",
      "1437 is divisible by 3\n",
      "1438 is divisible by 2\n",
      "1439 is PRIME\n",
      "1440 is divisible by 2\n",
      "1441 is divisible by 11\n",
      "1442 is divisible by 2\n",
      "1443 is divisible by 3\n",
      "1444 is divisible by 2\n",
      "1445 is divisible by 5\n",
      "1446 is divisible by 2\n",
      "1447 is PRIME\n",
      "1448 is divisible by 2\n",
      "1449 is divisible by 3\n",
      "1450 is divisible by 2\n",
      "1451 is PRIME\n",
      "1452 is divisible by 2\n",
      "1453 is PRIME\n",
      "1454 is divisible by 2\n",
      "1455 is divisible by 3\n",
      "1456 is divisible by 2\n",
      "1457 is divisible by 31\n",
      "1458 is divisible by 2\n",
      "1459 is PRIME\n",
      "1460 is divisible by 2\n",
      "1461 is divisible by 3\n",
      "1462 is divisible by 2\n",
      "1463 is divisible by 7\n",
      "1464 is divisible by 2\n",
      "1465 is divisible by 5\n",
      "1466 is divisible by 2\n",
      "1467 is divisible by 3\n",
      "1468 is divisible by 2\n",
      "1469 is divisible by 13\n",
      "1470 is divisible by 2\n",
      "1471 is PRIME\n",
      "1472 is divisible by 2\n",
      "1473 is divisible by 3\n",
      "1474 is divisible by 2\n",
      "1475 is divisible by 5\n",
      "1476 is divisible by 2\n",
      "1477 is divisible by 7\n",
      "1478 is divisible by 2\n",
      "1479 is divisible by 3\n",
      "1480 is divisible by 2\n",
      "1481 is PRIME\n",
      "1482 is divisible by 2\n",
      "1483 is PRIME\n",
      "1484 is divisible by 2\n",
      "1485 is divisible by 3\n",
      "1486 is divisible by 2\n",
      "1487 is PRIME\n",
      "1488 is divisible by 2\n",
      "1489 is PRIME\n",
      "1490 is divisible by 2\n",
      "1491 is divisible by 3\n",
      "1492 is divisible by 2\n",
      "1493 is PRIME\n",
      "1494 is divisible by 2\n",
      "1495 is divisible by 5\n",
      "1496 is divisible by 2\n",
      "1497 is divisible by 3\n",
      "1498 is divisible by 2\n",
      "1499 is PRIME\n",
      "1500 is divisible by 2\n",
      "1501 is divisible by 19\n",
      "1502 is divisible by 2\n",
      "1503 is divisible by 3\n",
      "1504 is divisible by 2\n",
      "1505 is divisible by 5\n",
      "1506 is divisible by 2\n",
      "1507 is divisible by 11\n",
      "1508 is divisible by 2\n",
      "1509 is divisible by 3\n",
      "1510 is divisible by 2\n",
      "1511 is PRIME\n",
      "1512 is divisible by 2\n",
      "1513 is divisible by 17\n",
      "1514 is divisible by 2\n",
      "1515 is divisible by 3\n",
      "1516 is divisible by 2\n",
      "1517 is divisible by 37\n",
      "1518 is divisible by 2\n",
      "1519 is divisible by 7\n",
      "1520 is divisible by 2\n",
      "1521 is divisible by 3\n",
      "1522 is divisible by 2\n",
      "1523 is PRIME\n",
      "1524 is divisible by 2\n",
      "1525 is divisible by 5\n",
      "1526 is divisible by 2\n",
      "1527 is divisible by 3\n",
      "1528 is divisible by 2\n",
      "1529 is divisible by 11\n",
      "1530 is divisible by 2\n",
      "1531 is PRIME\n",
      "1532 is divisible by 2\n",
      "1533 is divisible by 3\n",
      "1534 is divisible by 2\n",
      "1535 is divisible by 5\n",
      "1536 is divisible by 2\n",
      "1537 is divisible by 29\n",
      "1538 is divisible by 2\n",
      "1539 is divisible by 3\n",
      "1540 is divisible by 2\n",
      "1541 is divisible by 23\n",
      "1542 is divisible by 2\n",
      "1543 is PRIME\n",
      "1544 is divisible by 2\n",
      "1545 is divisible by 3\n",
      "1546 is divisible by 2\n",
      "1547 is divisible by 7\n",
      "1548 is divisible by 2\n",
      "1549 is PRIME\n",
      "1550 is divisible by 2\n",
      "1551 is divisible by 3\n",
      "1552 is divisible by 2\n",
      "1553 is PRIME\n",
      "1554 is divisible by 2\n",
      "1555 is divisible by 5\n",
      "1556 is divisible by 2\n",
      "1557 is divisible by 3\n",
      "1558 is divisible by 2\n",
      "1559 is PRIME\n",
      "1560 is divisible by 2\n",
      "1561 is divisible by 7\n",
      "1562 is divisible by 2\n",
      "1563 is divisible by 3\n",
      "1564 is divisible by 2\n",
      "1565 is divisible by 5\n",
      "1566 is divisible by 2\n",
      "1567 is PRIME\n",
      "1568 is divisible by 2\n",
      "1569 is divisible by 3\n",
      "1570 is divisible by 2\n",
      "1571 is PRIME\n",
      "1572 is divisible by 2\n",
      "1573 is divisible by 11\n",
      "1574 is divisible by 2\n",
      "1575 is divisible by 3\n",
      "1576 is divisible by 2\n",
      "1577 is divisible by 19\n",
      "1578 is divisible by 2\n",
      "1579 is PRIME\n",
      "1580 is divisible by 2\n",
      "1581 is divisible by 3\n",
      "1582 is divisible by 2\n",
      "1583 is PRIME\n",
      "1584 is divisible by 2\n",
      "1585 is divisible by 5\n",
      "1586 is divisible by 2\n",
      "1587 is divisible by 3\n",
      "1588 is divisible by 2\n",
      "1589 is divisible by 7\n",
      "1590 is divisible by 2\n",
      "1591 is divisible by 37\n",
      "1592 is divisible by 2\n",
      "1593 is divisible by 3\n",
      "1594 is divisible by 2\n",
      "1595 is divisible by 5\n",
      "1596 is divisible by 2\n",
      "1597 is PRIME\n",
      "1598 is divisible by 2\n",
      "1599 is divisible by 3\n",
      "1600 is divisible by 2\n",
      "1601 is PRIME\n",
      "1602 is divisible by 2\n",
      "1603 is divisible by 7\n",
      "1604 is divisible by 2\n",
      "1605 is divisible by 3\n",
      "1606 is divisible by 2\n",
      "1607 is PRIME\n",
      "1608 is divisible by 2\n",
      "1609 is PRIME\n",
      "1610 is divisible by 2\n",
      "1611 is divisible by 3\n",
      "1612 is divisible by 2\n",
      "1613 is PRIME\n",
      "1614 is divisible by 2\n",
      "1615 is divisible by 5\n",
      "1616 is divisible by 2\n",
      "1617 is divisible by 3\n",
      "1618 is divisible by 2\n",
      "1619 is PRIME\n",
      "1620 is divisible by 2\n",
      "1621 is PRIME\n",
      "1622 is divisible by 2\n",
      "1623 is divisible by 3\n",
      "1624 is divisible by 2\n",
      "1625 is divisible by 5\n",
      "1626 is divisible by 2\n",
      "1627 is PRIME\n",
      "1628 is divisible by 2\n",
      "1629 is divisible by 3\n",
      "1630 is divisible by 2\n",
      "1631 is divisible by 7\n",
      "1632 is divisible by 2\n",
      "1633 is divisible by 23\n",
      "1634 is divisible by 2\n",
      "1635 is divisible by 3\n",
      "1636 is divisible by 2\n",
      "1637 is PRIME\n",
      "1638 is divisible by 2\n",
      "1639 is divisible by 11\n",
      "1640 is divisible by 2\n",
      "1641 is divisible by 3\n",
      "1642 is divisible by 2\n",
      "1643 is divisible by 31\n",
      "1644 is divisible by 2\n",
      "1645 is divisible by 5\n",
      "1646 is divisible by 2\n",
      "1647 is divisible by 3\n",
      "1648 is divisible by 2\n",
      "1649 is divisible by 17\n",
      "1650 is divisible by 2\n",
      "1651 is divisible by 13\n",
      "1652 is divisible by 2\n",
      "1653 is divisible by 3\n",
      "1654 is divisible by 2\n",
      "1655 is divisible by 5\n",
      "1656 is divisible by 2\n",
      "1657 is PRIME\n",
      "1658 is divisible by 2\n",
      "1659 is divisible by 3\n",
      "1660 is divisible by 2\n",
      "1661 is divisible by 11\n",
      "1662 is divisible by 2\n",
      "1663 is PRIME\n",
      "1664 is divisible by 2\n",
      "1665 is divisible by 3\n",
      "1666 is divisible by 2\n",
      "1667 is PRIME\n",
      "1668 is divisible by 2\n",
      "1669 is PRIME\n",
      "1670 is divisible by 2\n",
      "1671 is divisible by 3\n",
      "1672 is divisible by 2\n",
      "1673 is divisible by 7\n",
      "1674 is divisible by 2\n",
      "1675 is divisible by 5\n",
      "1676 is divisible by 2\n",
      "1677 is divisible by 3\n",
      "1678 is divisible by 2\n",
      "1679 is divisible by 23\n",
      "1680 is divisible by 2\n",
      "1681 is divisible by 41\n",
      "1682 is divisible by 2\n",
      "1683 is divisible by 3\n",
      "1684 is divisible by 2\n",
      "1685 is divisible by 5\n",
      "1686 is divisible by 2\n",
      "1687 is divisible by 7\n",
      "1688 is divisible by 2\n",
      "1689 is divisible by 3\n",
      "1690 is divisible by 2\n",
      "1691 is divisible by 19\n",
      "1692 is divisible by 2\n",
      "1693 is PRIME\n",
      "1694 is divisible by 2\n",
      "1695 is divisible by 3\n",
      "1696 is divisible by 2\n",
      "1697 is PRIME\n",
      "1698 is divisible by 2\n",
      "1699 is PRIME\n",
      "1700 is divisible by 2\n",
      "1701 is divisible by 3\n",
      "1702 is divisible by 2\n",
      "1703 is divisible by 13\n",
      "1704 is divisible by 2\n",
      "1705 is divisible by 5\n",
      "1706 is divisible by 2\n",
      "1707 is divisible by 3\n",
      "1708 is divisible by 2\n",
      "1709 is PRIME\n",
      "1710 is divisible by 2\n",
      "1711 is divisible by 29\n",
      "1712 is divisible by 2\n",
      "1713 is divisible by 3\n",
      "1714 is divisible by 2\n",
      "1715 is divisible by 5\n",
      "1716 is divisible by 2\n",
      "1717 is divisible by 17\n",
      "1718 is divisible by 2\n",
      "1719 is divisible by 3\n",
      "1720 is divisible by 2\n",
      "1721 is PRIME\n",
      "1722 is divisible by 2\n",
      "1723 is PRIME\n",
      "1724 is divisible by 2\n",
      "1725 is divisible by 3\n",
      "1726 is divisible by 2\n",
      "1727 is divisible by 11\n",
      "1728 is divisible by 2\n",
      "1729 is divisible by 7\n",
      "1730 is divisible by 2\n",
      "1731 is divisible by 3\n",
      "1732 is divisible by 2\n",
      "1733 is PRIME\n",
      "1734 is divisible by 2\n",
      "1735 is divisible by 5\n",
      "1736 is divisible by 2\n",
      "1737 is divisible by 3\n",
      "1738 is divisible by 2\n",
      "1739 is divisible by 37\n",
      "1740 is divisible by 2\n",
      "1741 is PRIME\n",
      "1742 is divisible by 2\n",
      "1743 is divisible by 3\n",
      "1744 is divisible by 2\n",
      "1745 is divisible by 5\n",
      "1746 is divisible by 2\n",
      "1747 is PRIME\n",
      "1748 is divisible by 2\n",
      "1749 is divisible by 3\n",
      "1750 is divisible by 2\n",
      "1751 is divisible by 17\n",
      "1752 is divisible by 2\n",
      "1753 is PRIME\n",
      "1754 is divisible by 2\n",
      "1755 is divisible by 3\n",
      "1756 is divisible by 2\n",
      "1757 is divisible by 7\n",
      "1758 is divisible by 2\n",
      "1759 is PRIME\n",
      "1760 is divisible by 2\n",
      "1761 is divisible by 3\n",
      "1762 is divisible by 2\n",
      "1763 is divisible by 41\n",
      "1764 is divisible by 2\n",
      "1765 is divisible by 5\n",
      "1766 is divisible by 2\n",
      "1767 is divisible by 3\n",
      "1768 is divisible by 2\n",
      "1769 is divisible by 29\n",
      "1770 is divisible by 2\n",
      "1771 is divisible by 7\n",
      "1772 is divisible by 2\n",
      "1773 is divisible by 3\n",
      "1774 is divisible by 2\n",
      "1775 is divisible by 5\n",
      "1776 is divisible by 2\n",
      "1777 is PRIME\n",
      "1778 is divisible by 2\n",
      "1779 is divisible by 3\n",
      "1780 is divisible by 2\n",
      "1781 is divisible by 13\n",
      "1782 is divisible by 2\n",
      "1783 is PRIME\n",
      "1784 is divisible by 2\n",
      "1785 is divisible by 3\n",
      "1786 is divisible by 2\n",
      "1787 is PRIME\n",
      "1788 is divisible by 2\n",
      "1789 is PRIME\n",
      "1790 is divisible by 2\n",
      "1791 is divisible by 3\n",
      "1792 is divisible by 2\n",
      "1793 is divisible by 11\n",
      "1794 is divisible by 2\n",
      "1795 is divisible by 5\n",
      "1796 is divisible by 2\n",
      "1797 is divisible by 3\n",
      "1798 is divisible by 2\n",
      "1799 is divisible by 7\n",
      "1800 is divisible by 2\n",
      "1801 is PRIME\n",
      "1802 is divisible by 2\n",
      "1803 is divisible by 3\n",
      "1804 is divisible by 2\n",
      "1805 is divisible by 5\n",
      "1806 is divisible by 2\n",
      "1807 is divisible by 13\n",
      "1808 is divisible by 2\n",
      "1809 is divisible by 3\n",
      "1810 is divisible by 2\n",
      "1811 is PRIME\n",
      "1812 is divisible by 2\n",
      "1813 is divisible by 7\n",
      "1814 is divisible by 2\n",
      "1815 is divisible by 3\n",
      "1816 is divisible by 2\n",
      "1817 is divisible by 23\n",
      "1818 is divisible by 2\n",
      "1819 is divisible by 17\n",
      "1820 is divisible by 2\n",
      "1821 is divisible by 3\n",
      "1822 is divisible by 2\n",
      "1823 is PRIME\n",
      "1824 is divisible by 2\n",
      "1825 is divisible by 5\n",
      "1826 is divisible by 2\n",
      "1827 is divisible by 3\n",
      "1828 is divisible by 2\n",
      "1829 is divisible by 31\n",
      "1830 is divisible by 2\n",
      "1831 is PRIME\n",
      "1832 is divisible by 2\n",
      "1833 is divisible by 3\n",
      "1834 is divisible by 2\n",
      "1835 is divisible by 5\n",
      "1836 is divisible by 2\n",
      "1837 is divisible by 11\n",
      "1838 is divisible by 2\n",
      "1839 is divisible by 3\n",
      "1840 is divisible by 2\n",
      "1841 is divisible by 7\n",
      "1842 is divisible by 2\n",
      "1843 is divisible by 19\n",
      "1844 is divisible by 2\n",
      "1845 is divisible by 3\n",
      "1846 is divisible by 2\n",
      "1847 is PRIME\n",
      "1848 is divisible by 2\n",
      "1849 is divisible by 43\n",
      "1850 is divisible by 2\n",
      "1851 is divisible by 3\n",
      "1852 is divisible by 2\n",
      "1853 is divisible by 17\n",
      "1854 is divisible by 2\n",
      "1855 is divisible by 5\n",
      "1856 is divisible by 2\n",
      "1857 is divisible by 3\n",
      "1858 is divisible by 2\n",
      "1859 is divisible by 11\n",
      "1860 is divisible by 2\n",
      "1861 is PRIME\n",
      "1862 is divisible by 2\n",
      "1863 is divisible by 3\n",
      "1864 is divisible by 2\n",
      "1865 is divisible by 5\n",
      "1866 is divisible by 2\n",
      "1867 is PRIME\n",
      "1868 is divisible by 2\n",
      "1869 is divisible by 3\n",
      "1870 is divisible by 2\n",
      "1871 is PRIME\n",
      "1872 is divisible by 2\n",
      "1873 is PRIME\n",
      "1874 is divisible by 2\n",
      "1875 is divisible by 3\n",
      "1876 is divisible by 2\n",
      "1877 is PRIME\n",
      "1878 is divisible by 2\n",
      "1879 is PRIME\n",
      "1880 is divisible by 2\n",
      "1881 is divisible by 3\n",
      "1882 is divisible by 2\n",
      "1883 is divisible by 7\n",
      "1884 is divisible by 2\n",
      "1885 is divisible by 5\n",
      "1886 is divisible by 2\n",
      "1887 is divisible by 3\n",
      "1888 is divisible by 2\n",
      "1889 is PRIME\n",
      "1890 is divisible by 2\n",
      "1891 is divisible by 31\n",
      "1892 is divisible by 2\n",
      "1893 is divisible by 3\n",
      "1894 is divisible by 2\n",
      "1895 is divisible by 5\n",
      "1896 is divisible by 2\n",
      "1897 is divisible by 7\n",
      "1898 is divisible by 2\n",
      "1899 is divisible by 3\n",
      "1900 is divisible by 2\n",
      "1901 is PRIME\n",
      "1902 is divisible by 2\n",
      "1903 is divisible by 11\n",
      "1904 is divisible by 2\n",
      "1905 is divisible by 3\n",
      "1906 is divisible by 2\n",
      "1907 is PRIME\n",
      "1908 is divisible by 2\n",
      "1909 is divisible by 23\n",
      "1910 is divisible by 2\n",
      "1911 is divisible by 3\n",
      "1912 is divisible by 2\n",
      "1913 is PRIME\n",
      "1914 is divisible by 2\n",
      "1915 is divisible by 5\n",
      "1916 is divisible by 2\n",
      "1917 is divisible by 3\n",
      "1918 is divisible by 2\n",
      "1919 is divisible by 19\n",
      "1920 is divisible by 2\n",
      "1921 is divisible by 17\n",
      "1922 is divisible by 2\n",
      "1923 is divisible by 3\n",
      "1924 is divisible by 2\n",
      "1925 is divisible by 5\n",
      "1926 is divisible by 2\n",
      "1927 is divisible by 41\n",
      "1928 is divisible by 2\n",
      "1929 is divisible by 3\n",
      "1930 is divisible by 2\n",
      "1931 is PRIME\n",
      "1932 is divisible by 2\n",
      "1933 is PRIME\n",
      "1934 is divisible by 2\n",
      "1935 is divisible by 3\n",
      "1936 is divisible by 2\n",
      "1937 is divisible by 13\n",
      "1938 is divisible by 2\n",
      "1939 is divisible by 7\n",
      "1940 is divisible by 2\n",
      "1941 is divisible by 3\n",
      "1942 is divisible by 2\n",
      "1943 is divisible by 29\n",
      "1944 is divisible by 2\n",
      "1945 is divisible by 5\n",
      "1946 is divisible by 2\n",
      "1947 is divisible by 3\n",
      "1948 is divisible by 2\n",
      "1949 is PRIME\n",
      "1950 is divisible by 2\n",
      "1951 is PRIME\n",
      "1952 is divisible by 2\n",
      "1953 is divisible by 3\n",
      "1954 is divisible by 2\n",
      "1955 is divisible by 5\n",
      "1956 is divisible by 2\n",
      "1957 is divisible by 19\n",
      "1958 is divisible by 2\n",
      "1959 is divisible by 3\n",
      "1960 is divisible by 2\n",
      "1961 is divisible by 37\n",
      "1962 is divisible by 2\n",
      "1963 is divisible by 13\n",
      "1964 is divisible by 2\n",
      "1965 is divisible by 3\n",
      "1966 is divisible by 2\n",
      "1967 is divisible by 7\n",
      "1968 is divisible by 2\n",
      "1969 is divisible by 11\n",
      "1970 is divisible by 2\n",
      "1971 is divisible by 3\n",
      "1972 is divisible by 2\n",
      "1973 is PRIME\n",
      "1974 is divisible by 2\n",
      "1975 is divisible by 5\n",
      "1976 is divisible by 2\n",
      "1977 is divisible by 3\n",
      "1978 is divisible by 2\n",
      "1979 is PRIME\n",
      "1980 is divisible by 2\n",
      "1981 is divisible by 7\n",
      "1982 is divisible by 2\n",
      "1983 is divisible by 3\n",
      "1984 is divisible by 2\n",
      "1985 is divisible by 5\n",
      "1986 is divisible by 2\n",
      "1987 is PRIME\n",
      "1988 is divisible by 2\n",
      "1989 is divisible by 3\n",
      "1990 is divisible by 2\n",
      "1991 is divisible by 11\n",
      "1992 is divisible by 2\n",
      "1993 is PRIME\n",
      "1994 is divisible by 2\n",
      "1995 is divisible by 3\n",
      "1996 is divisible by 2\n",
      "1997 is PRIME\n",
      "1998 is divisible by 2\n",
      "1999 is PRIME\n",
      "2000 is divisible by 2\n",
      "2001 is divisible by 3\n",
      "2002 is divisible by 2\n",
      "2003 is PRIME\n",
      "2004 is divisible by 2\n",
      "2005 is divisible by 5\n",
      "2006 is divisible by 2\n",
      "2007 is divisible by 3\n",
      "2008 is divisible by 2\n",
      "2009 is divisible by 7\n",
      "2010 is divisible by 2\n",
      "2011 is PRIME\n",
      "2012 is divisible by 2\n",
      "2013 is divisible by 3\n",
      "2014 is divisible by 2\n",
      "2015 is divisible by 5\n",
      "2016 is divisible by 2\n",
      "2017 is PRIME\n",
      "2018 is divisible by 2\n",
      "2019 is divisible by 3\n",
      "2020 is divisible by 2\n",
      "2021 is divisible by 43\n",
      "2022 is divisible by 2\n",
      "2023 is divisible by 7\n",
      "2024 is divisible by 2\n",
      "2025 is divisible by 3\n",
      "2026 is divisible by 2\n",
      "2027 is PRIME\n",
      "2028 is divisible by 2\n",
      "2029 is PRIME\n",
      "2030 is divisible by 2\n",
      "2031 is divisible by 3\n",
      "2032 is divisible by 2\n",
      "2033 is divisible by 19\n",
      "2034 is divisible by 2\n",
      "2035 is divisible by 5\n",
      "2036 is divisible by 2\n",
      "2037 is divisible by 3\n",
      "2038 is divisible by 2\n",
      "2039 is PRIME\n",
      "2040 is divisible by 2\n",
      "2041 is divisible by 13\n",
      "2042 is divisible by 2\n",
      "2043 is divisible by 3\n",
      "2044 is divisible by 2\n",
      "2045 is divisible by 5\n",
      "2046 is divisible by 2\n",
      "2047 is divisible by 23\n",
      "2048 is divisible by 2\n",
      "2049 is divisible by 3\n",
      "2050 is divisible by 2\n",
      "2051 is divisible by 7\n",
      "2052 is divisible by 2\n",
      "2053 is PRIME\n",
      "2054 is divisible by 2\n",
      "2055 is divisible by 3\n",
      "2056 is divisible by 2\n",
      "2057 is divisible by 11\n",
      "2058 is divisible by 2\n",
      "2059 is divisible by 29\n",
      "2060 is divisible by 2\n",
      "2061 is divisible by 3\n",
      "2062 is divisible by 2\n",
      "2063 is PRIME\n",
      "2064 is divisible by 2\n",
      "2065 is divisible by 5\n",
      "2066 is divisible by 2\n",
      "2067 is divisible by 3\n",
      "2068 is divisible by 2\n",
      "2069 is PRIME\n",
      "2070 is divisible by 2\n",
      "2071 is divisible by 19\n",
      "2072 is divisible by 2\n",
      "2073 is divisible by 3\n",
      "2074 is divisible by 2\n",
      "2075 is divisible by 5\n",
      "2076 is divisible by 2\n",
      "2077 is divisible by 31\n",
      "2078 is divisible by 2\n",
      "2079 is divisible by 3\n",
      "2080 is divisible by 2\n",
      "2081 is PRIME\n",
      "2082 is divisible by 2\n",
      "2083 is PRIME\n",
      "2084 is divisible by 2\n",
      "2085 is divisible by 3\n",
      "2086 is divisible by 2\n",
      "2087 is PRIME\n",
      "2088 is divisible by 2\n",
      "2089 is PRIME\n",
      "2090 is divisible by 2\n",
      "2091 is divisible by 3\n",
      "2092 is divisible by 2\n",
      "2093 is divisible by 7\n",
      "2094 is divisible by 2\n",
      "2095 is divisible by 5\n",
      "2096 is divisible by 2\n",
      "2097 is divisible by 3\n",
      "2098 is divisible by 2\n",
      "2099 is PRIME\n",
      "2100 is divisible by 2\n",
      "2101 is divisible by 11\n",
      "2102 is divisible by 2\n",
      "2103 is divisible by 3\n",
      "2104 is divisible by 2\n",
      "2105 is divisible by 5\n",
      "2106 is divisible by 2\n",
      "2107 is divisible by 7\n",
      "2108 is divisible by 2\n",
      "2109 is divisible by 3\n",
      "2110 is divisible by 2\n",
      "2111 is PRIME\n",
      "2112 is divisible by 2\n",
      "2113 is PRIME\n",
      "2114 is divisible by 2\n",
      "2115 is divisible by 3\n",
      "2116 is divisible by 2\n",
      "2117 is divisible by 29\n",
      "2118 is divisible by 2\n",
      "2119 is divisible by 13\n",
      "2120 is divisible by 2\n",
      "2121 is divisible by 3\n",
      "2122 is divisible by 2\n",
      "2123 is divisible by 11\n",
      "2124 is divisible by 2\n",
      "2125 is divisible by 5\n",
      "2126 is divisible by 2\n",
      "2127 is divisible by 3\n",
      "2128 is divisible by 2\n",
      "2129 is PRIME\n",
      "2130 is divisible by 2\n",
      "2131 is PRIME\n",
      "2132 is divisible by 2\n",
      "2133 is divisible by 3\n",
      "2134 is divisible by 2\n",
      "2135 is divisible by 5\n",
      "2136 is divisible by 2\n",
      "2137 is PRIME\n",
      "2138 is divisible by 2\n",
      "2139 is divisible by 3\n",
      "2140 is divisible by 2\n",
      "2141 is PRIME\n",
      "2142 is divisible by 2\n",
      "2143 is PRIME\n",
      "2144 is divisible by 2\n",
      "2145 is divisible by 3\n",
      "2146 is divisible by 2\n",
      "2147 is divisible by 19\n",
      "2148 is divisible by 2\n",
      "2149 is divisible by 7\n",
      "2150 is divisible by 2\n",
      "2151 is divisible by 3\n",
      "2152 is divisible by 2\n",
      "2153 is PRIME\n",
      "2154 is divisible by 2\n",
      "2155 is divisible by 5\n",
      "2156 is divisible by 2\n",
      "2157 is divisible by 3\n",
      "2158 is divisible by 2\n",
      "2159 is divisible by 17\n",
      "2160 is divisible by 2\n",
      "2161 is PRIME\n",
      "2162 is divisible by 2\n",
      "2163 is divisible by 3\n",
      "2164 is divisible by 2\n",
      "2165 is divisible by 5\n",
      "2166 is divisible by 2\n",
      "2167 is divisible by 11\n",
      "2168 is divisible by 2\n",
      "2169 is divisible by 3\n",
      "2170 is divisible by 2\n",
      "2171 is divisible by 13\n",
      "2172 is divisible by 2\n",
      "2173 is divisible by 41\n",
      "2174 is divisible by 2\n",
      "2175 is divisible by 3\n",
      "2176 is divisible by 2\n",
      "2177 is divisible by 7\n",
      "2178 is divisible by 2\n",
      "2179 is PRIME\n",
      "2180 is divisible by 2\n",
      "2181 is divisible by 3\n",
      "2182 is divisible by 2\n",
      "2183 is divisible by 37\n",
      "2184 is divisible by 2\n",
      "2185 is divisible by 5\n",
      "2186 is divisible by 2\n",
      "2187 is divisible by 3\n",
      "2188 is divisible by 2\n",
      "2189 is divisible by 11\n",
      "2190 is divisible by 2\n",
      "2191 is divisible by 7\n",
      "2192 is divisible by 2\n",
      "2193 is divisible by 3\n",
      "2194 is divisible by 2\n",
      "2195 is divisible by 5\n",
      "2196 is divisible by 2\n",
      "2197 is divisible by 13\n",
      "2198 is divisible by 2\n",
      "2199 is divisible by 3\n",
      "2200 is divisible by 2\n",
      "2201 is divisible by 31\n",
      "2202 is divisible by 2\n",
      "2203 is PRIME\n",
      "2204 is divisible by 2\n",
      "2205 is divisible by 3\n",
      "2206 is divisible by 2\n",
      "2207 is PRIME\n",
      "2208 is divisible by 2\n",
      "2209 is divisible by 47\n",
      "2210 is divisible by 2\n",
      "2211 is divisible by 3\n",
      "2212 is divisible by 2\n",
      "2213 is PRIME\n",
      "2214 is divisible by 2\n",
      "2215 is divisible by 5\n",
      "2216 is divisible by 2\n",
      "2217 is divisible by 3\n",
      "2218 is divisible by 2\n",
      "2219 is divisible by 7\n",
      "2220 is divisible by 2\n",
      "2221 is PRIME\n",
      "2222 is divisible by 2\n",
      "2223 is divisible by 3\n",
      "2224 is divisible by 2\n",
      "2225 is divisible by 5\n",
      "2226 is divisible by 2\n",
      "2227 is divisible by 17\n",
      "2228 is divisible by 2\n",
      "2229 is divisible by 3\n",
      "2230 is divisible by 2\n",
      "2231 is divisible by 23\n",
      "2232 is divisible by 2\n",
      "2233 is divisible by 7\n",
      "2234 is divisible by 2\n",
      "2235 is divisible by 3\n",
      "2236 is divisible by 2\n",
      "2237 is PRIME\n",
      "2238 is divisible by 2\n",
      "2239 is PRIME\n",
      "2240 is divisible by 2\n",
      "2241 is divisible by 3\n",
      "2242 is divisible by 2\n",
      "2243 is PRIME\n",
      "2244 is divisible by 2\n",
      "2245 is divisible by 5\n",
      "2246 is divisible by 2\n",
      "2247 is divisible by 3\n",
      "2248 is divisible by 2\n",
      "2249 is divisible by 13\n",
      "2250 is divisible by 2\n",
      "2251 is PRIME\n",
      "2252 is divisible by 2\n",
      "2253 is divisible by 3\n",
      "2254 is divisible by 2\n",
      "2255 is divisible by 5\n",
      "2256 is divisible by 2\n",
      "2257 is divisible by 37\n",
      "2258 is divisible by 2\n",
      "2259 is divisible by 3\n",
      "2260 is divisible by 2\n",
      "2261 is divisible by 7\n",
      "2262 is divisible by 2\n",
      "2263 is divisible by 31\n",
      "2264 is divisible by 2\n",
      "2265 is divisible by 3\n",
      "2266 is divisible by 2\n",
      "2267 is PRIME\n",
      "2268 is divisible by 2\n",
      "2269 is PRIME\n",
      "2270 is divisible by 2\n",
      "2271 is divisible by 3\n",
      "2272 is divisible by 2\n",
      "2273 is PRIME\n",
      "2274 is divisible by 2\n",
      "2275 is divisible by 5\n",
      "2276 is divisible by 2\n",
      "2277 is divisible by 3\n",
      "2278 is divisible by 2\n",
      "2279 is divisible by 43\n",
      "2280 is divisible by 2\n",
      "2281 is PRIME\n",
      "2282 is divisible by 2\n",
      "2283 is divisible by 3\n",
      "2284 is divisible by 2\n",
      "2285 is divisible by 5\n",
      "2286 is divisible by 2\n",
      "2287 is PRIME\n",
      "2288 is divisible by 2\n",
      "2289 is divisible by 3\n",
      "2290 is divisible by 2\n",
      "2291 is divisible by 29\n",
      "2292 is divisible by 2\n",
      "2293 is PRIME\n",
      "2294 is divisible by 2\n",
      "2295 is divisible by 3\n",
      "2296 is divisible by 2\n",
      "2297 is PRIME\n",
      "2298 is divisible by 2\n",
      "2299 is divisible by 11\n",
      "2300 is divisible by 2\n",
      "2301 is divisible by 3\n",
      "2302 is divisible by 2\n",
      "2303 is divisible by 7\n",
      "2304 is divisible by 2\n",
      "2305 is divisible by 5\n",
      "2306 is divisible by 2\n",
      "2307 is divisible by 3\n",
      "2308 is divisible by 2\n",
      "2309 is PRIME\n",
      "2310 is divisible by 2\n",
      "2311 is PRIME\n",
      "2312 is divisible by 2\n",
      "2313 is divisible by 3\n",
      "2314 is divisible by 2\n",
      "2315 is divisible by 5\n",
      "2316 is divisible by 2\n",
      "2317 is divisible by 7\n",
      "2318 is divisible by 2\n",
      "2319 is divisible by 3\n",
      "2320 is divisible by 2\n",
      "2321 is divisible by 11\n",
      "2322 is divisible by 2\n",
      "2323 is divisible by 23\n",
      "2324 is divisible by 2\n",
      "2325 is divisible by 3\n",
      "2326 is divisible by 2\n",
      "2327 is divisible by 13\n",
      "2328 is divisible by 2\n",
      "2329 is divisible by 17\n",
      "2330 is divisible by 2\n",
      "2331 is divisible by 3\n",
      "2332 is divisible by 2\n",
      "2333 is PRIME\n",
      "2334 is divisible by 2\n",
      "2335 is divisible by 5\n",
      "2336 is divisible by 2\n",
      "2337 is divisible by 3\n",
      "2338 is divisible by 2\n",
      "2339 is PRIME\n",
      "2340 is divisible by 2\n",
      "2341 is PRIME\n",
      "2342 is divisible by 2\n",
      "2343 is divisible by 3\n",
      "2344 is divisible by 2\n",
      "2345 is divisible by 5\n",
      "2346 is divisible by 2\n",
      "2347 is PRIME\n",
      "2348 is divisible by 2\n",
      "2349 is divisible by 3\n",
      "2350 is divisible by 2\n",
      "2351 is PRIME\n",
      "2352 is divisible by 2\n",
      "2353 is divisible by 13\n",
      "2354 is divisible by 2\n",
      "2355 is divisible by 3\n",
      "2356 is divisible by 2\n",
      "2357 is PRIME\n",
      "2358 is divisible by 2\n",
      "2359 is divisible by 7\n",
      "2360 is divisible by 2\n",
      "2361 is divisible by 3\n",
      "2362 is divisible by 2\n",
      "2363 is divisible by 17\n",
      "2364 is divisible by 2\n",
      "2365 is divisible by 5\n",
      "2366 is divisible by 2\n",
      "2367 is divisible by 3\n",
      "2368 is divisible by 2\n",
      "2369 is divisible by 23\n",
      "2370 is divisible by 2\n",
      "2371 is PRIME\n",
      "2372 is divisible by 2\n",
      "2373 is divisible by 3\n",
      "2374 is divisible by 2\n",
      "2375 is divisible by 5\n",
      "2376 is divisible by 2\n",
      "2377 is PRIME\n",
      "2378 is divisible by 2\n",
      "2379 is divisible by 3\n",
      "2380 is divisible by 2\n",
      "2381 is PRIME\n",
      "2382 is divisible by 2\n",
      "2383 is PRIME\n",
      "2384 is divisible by 2\n",
      "2385 is divisible by 3\n",
      "2386 is divisible by 2\n",
      "2387 is divisible by 7\n",
      "2388 is divisible by 2\n",
      "2389 is PRIME\n",
      "2390 is divisible by 2\n",
      "2391 is divisible by 3\n",
      "2392 is divisible by 2\n",
      "2393 is PRIME\n",
      "2394 is divisible by 2\n",
      "2395 is divisible by 5\n",
      "2396 is divisible by 2\n",
      "2397 is divisible by 3\n",
      "2398 is divisible by 2\n",
      "2399 is PRIME\n",
      "2400 is divisible by 2\n",
      "2401 is divisible by 7\n",
      "2402 is divisible by 2\n",
      "2403 is divisible by 3\n",
      "2404 is divisible by 2\n",
      "2405 is divisible by 5\n",
      "2406 is divisible by 2\n",
      "2407 is divisible by 29\n",
      "2408 is divisible by 2\n",
      "2409 is divisible by 3\n",
      "2410 is divisible by 2\n",
      "2411 is PRIME\n",
      "2412 is divisible by 2\n",
      "2413 is divisible by 19\n",
      "2414 is divisible by 2\n",
      "2415 is divisible by 3\n",
      "2416 is divisible by 2\n",
      "2417 is PRIME\n",
      "2418 is divisible by 2\n",
      "2419 is divisible by 41\n",
      "2420 is divisible by 2\n",
      "2421 is divisible by 3\n",
      "2422 is divisible by 2\n",
      "2423 is PRIME\n",
      "2424 is divisible by 2\n",
      "2425 is divisible by 5\n",
      "2426 is divisible by 2\n",
      "2427 is divisible by 3\n",
      "2428 is divisible by 2\n",
      "2429 is divisible by 7\n",
      "2430 is divisible by 2\n",
      "2431 is divisible by 11\n",
      "2432 is divisible by 2\n",
      "2433 is divisible by 3\n",
      "2434 is divisible by 2\n",
      "2435 is divisible by 5\n",
      "2436 is divisible by 2\n",
      "2437 is PRIME\n",
      "2438 is divisible by 2\n",
      "2439 is divisible by 3\n",
      "2440 is divisible by 2\n",
      "2441 is PRIME\n",
      "2442 is divisible by 2\n",
      "2443 is divisible by 7\n",
      "2444 is divisible by 2\n",
      "2445 is divisible by 3\n",
      "2446 is divisible by 2\n",
      "2447 is PRIME\n",
      "2448 is divisible by 2\n",
      "2449 is divisible by 31\n",
      "2450 is divisible by 2\n",
      "2451 is divisible by 3\n",
      "2452 is divisible by 2\n",
      "2453 is divisible by 11\n",
      "2454 is divisible by 2\n",
      "2455 is divisible by 5\n",
      "2456 is divisible by 2\n",
      "2457 is divisible by 3\n",
      "2458 is divisible by 2\n",
      "2459 is PRIME\n",
      "2460 is divisible by 2\n",
      "2461 is divisible by 23\n",
      "2462 is divisible by 2\n",
      "2463 is divisible by 3\n",
      "2464 is divisible by 2\n",
      "2465 is divisible by 5\n",
      "2466 is divisible by 2\n",
      "2467 is PRIME\n",
      "2468 is divisible by 2\n",
      "2469 is divisible by 3\n",
      "2470 is divisible by 2\n",
      "2471 is divisible by 7\n",
      "2472 is divisible by 2\n",
      "2473 is PRIME\n",
      "2474 is divisible by 2\n",
      "2475 is divisible by 3\n",
      "2476 is divisible by 2\n",
      "2477 is PRIME\n",
      "2478 is divisible by 2\n",
      "2479 is divisible by 37\n",
      "2480 is divisible by 2\n",
      "2481 is divisible by 3\n",
      "2482 is divisible by 2\n",
      "2483 is divisible by 13\n",
      "2484 is divisible by 2\n",
      "2485 is divisible by 5\n",
      "2486 is divisible by 2\n",
      "2487 is divisible by 3\n",
      "2488 is divisible by 2\n",
      "2489 is divisible by 19\n",
      "2490 is divisible by 2\n",
      "2491 is divisible by 47\n",
      "2492 is divisible by 2\n",
      "2493 is divisible by 3\n",
      "2494 is divisible by 2\n",
      "2495 is divisible by 5\n",
      "2496 is divisible by 2\n",
      "2497 is divisible by 11\n",
      "2498 is divisible by 2\n",
      "2499 is divisible by 3\n",
      "2500 is divisible by 2\n",
      "2501 is divisible by 41\n",
      "2502 is divisible by 2\n",
      "2503 is PRIME\n",
      "2504 is divisible by 2\n",
      "2505 is divisible by 3\n",
      "2506 is divisible by 2\n",
      "2507 is divisible by 23\n",
      "2508 is divisible by 2\n",
      "2509 is divisible by 13\n",
      "2510 is divisible by 2\n",
      "2511 is divisible by 3\n",
      "2512 is divisible by 2\n",
      "2513 is divisible by 7\n",
      "2514 is divisible by 2\n",
      "2515 is divisible by 5\n",
      "2516 is divisible by 2\n",
      "2517 is divisible by 3\n",
      "2518 is divisible by 2\n",
      "2519 is divisible by 11\n",
      "2520 is divisible by 2\n",
      "2521 is PRIME\n",
      "2522 is divisible by 2\n",
      "2523 is divisible by 3\n",
      "2524 is divisible by 2\n",
      "2525 is divisible by 5\n",
      "2526 is divisible by 2\n",
      "2527 is divisible by 7\n",
      "2528 is divisible by 2\n",
      "2529 is divisible by 3\n",
      "2530 is divisible by 2\n",
      "2531 is PRIME\n",
      "2532 is divisible by 2\n",
      "2533 is divisible by 17\n",
      "2534 is divisible by 2\n",
      "2535 is divisible by 3\n",
      "2536 is divisible by 2\n",
      "2537 is divisible by 43\n",
      "2538 is divisible by 2\n",
      "2539 is PRIME\n",
      "2540 is divisible by 2\n",
      "2541 is divisible by 3\n",
      "2542 is divisible by 2\n",
      "2543 is PRIME\n",
      "2544 is divisible by 2\n",
      "2545 is divisible by 5\n",
      "2546 is divisible by 2\n",
      "2547 is divisible by 3\n",
      "2548 is divisible by 2\n",
      "2549 is PRIME\n",
      "2550 is divisible by 2\n",
      "2551 is PRIME\n",
      "2552 is divisible by 2\n",
      "2553 is divisible by 3\n",
      "2554 is divisible by 2\n",
      "2555 is divisible by 5\n",
      "2556 is divisible by 2\n",
      "2557 is PRIME\n",
      "2558 is divisible by 2\n",
      "2559 is divisible by 3\n",
      "2560 is divisible by 2\n",
      "2561 is divisible by 13\n",
      "2562 is divisible by 2\n",
      "2563 is divisible by 11\n",
      "2564 is divisible by 2\n",
      "2565 is divisible by 3\n",
      "2566 is divisible by 2\n",
      "2567 is divisible by 17\n",
      "2568 is divisible by 2\n",
      "2569 is divisible by 7\n",
      "2570 is divisible by 2\n",
      "2571 is divisible by 3\n",
      "2572 is divisible by 2\n",
      "2573 is divisible by 31\n",
      "2574 is divisible by 2\n",
      "2575 is divisible by 5\n",
      "2576 is divisible by 2\n",
      "2577 is divisible by 3\n",
      "2578 is divisible by 2\n",
      "2579 is PRIME\n",
      "2580 is divisible by 2\n",
      "2581 is divisible by 29\n",
      "2582 is divisible by 2\n",
      "2583 is divisible by 3\n",
      "2584 is divisible by 2\n",
      "2585 is divisible by 5\n",
      "2586 is divisible by 2\n",
      "2587 is divisible by 13\n",
      "2588 is divisible by 2\n",
      "2589 is divisible by 3\n",
      "2590 is divisible by 2\n",
      "2591 is PRIME\n",
      "2592 is divisible by 2\n",
      "2593 is PRIME\n",
      "2594 is divisible by 2\n",
      "2595 is divisible by 3\n",
      "2596 is divisible by 2\n",
      "2597 is divisible by 7\n",
      "2598 is divisible by 2\n",
      "2599 is divisible by 23\n"
     ]
    }
   ],
   "source": [
    "for num in range(2, 2600): # 1\n",
    "    is_prime = True\n",
    "    for possible_divisor in range(2, num): # 2 , 2..num-1\n",
    "        if num % possible_divisor == 0: # 3\n",
    "            print(num, 'is divisible by', possible_divisor) # 4\n",
    "            is_prime = False\n",
    "            break # 5\n",
    "    if is_prime: # == True\n",
    "        print(num, 'is PRIME')"
   ]
  },
  {
   "cell_type": "code",
   "execution_count": 151,
   "id": "e7be1829-aa62-4638-985e-3017fa25a7d8",
   "metadata": {},
   "outputs": [
    {
     "name": "stdout",
     "output_type": "stream",
     "text": [
      "2 is PRIME\n",
      "3 is PRIME\n",
      "4 is divisible by 2\n",
      "5 is PRIME\n",
      "6 is divisible by 2\n",
      "7 is PRIME\n",
      "8 is divisible by 2\n",
      "9 is divisible by 3\n",
      "10 is divisible by 2\n",
      "11 is PRIME\n",
      "12 is divisible by 2\n",
      "13 is PRIME\n",
      "14 is divisible by 2\n",
      "15 is divisible by 3\n",
      "16 is divisible by 2\n",
      "17 is PRIME\n",
      "18 is divisible by 2\n",
      "19 is PRIME\n",
      "20 is divisible by 2\n",
      "21 is divisible by 3\n",
      "22 is divisible by 2\n",
      "23 is PRIME\n",
      "24 is divisible by 2\n",
      "25 is divisible by 5\n"
     ]
    }
   ],
   "source": [
    "# Bonus feature that not everyone knows\n",
    "for num in range(2, 26): # 1\n",
    "    for possible_divisor in range(2, num): # 2 , 2..num-1\n",
    "        if num % possible_divisor == 0: # 3\n",
    "            print(num, 'is divisible by', possible_divisor) # 4\n",
    "            break # 5\n",
    "    else: # this code is run iff we did not break (i.e., loop terminate normally)\n",
    "        print(num, 'is PRIME')"
   ]
  },
  {
   "cell_type": "code",
   "execution_count": 152,
   "id": "35d9554d-1733-43fb-8d92-9383e26c0fd2",
   "metadata": {},
   "outputs": [
    {
     "data": {
      "text/plain": [
       "'1'"
      ]
     },
     "execution_count": 152,
     "metadata": {},
     "output_type": "execute_result"
    }
   ],
   "source": [
    "str(1)"
   ]
  },
  {
   "cell_type": "code",
   "execution_count": 153,
   "id": "b00bc13f-3b80-4f75-87c4-f93d9d4ac37d",
   "metadata": {},
   "outputs": [
    {
     "data": {
      "text/plain": [
       "'1.1'"
      ]
     },
     "execution_count": 153,
     "metadata": {},
     "output_type": "execute_result"
    }
   ],
   "source": [
    "str(1.1)"
   ]
  },
  {
   "cell_type": "code",
   "execution_count": 154,
   "id": "4a23d697-8409-48b8-b4fe-54d8d93d68b1",
   "metadata": {},
   "outputs": [
    {
     "data": {
      "text/plain": [
       "'string'"
      ]
     },
     "execution_count": 154,
     "metadata": {},
     "output_type": "execute_result"
    }
   ],
   "source": [
    "str('string')"
   ]
  },
  {
   "cell_type": "code",
   "execution_count": 155,
   "id": "d136e449-183b-40f5-ba57-00b0b3195133",
   "metadata": {},
   "outputs": [
    {
     "name": "stdout",
     "output_type": "stream",
     "text": [
      "1\n"
     ]
    }
   ],
   "source": [
    "print(1)"
   ]
  },
  {
   "cell_type": "code",
   "execution_count": 156,
   "id": "e07261c1-216c-45a0-ac3f-3476f9bab06d",
   "metadata": {},
   "outputs": [
    {
     "name": "stdout",
     "output_type": "stream",
     "text": [
      "1.1\n"
     ]
    }
   ],
   "source": [
    "print(1.1)"
   ]
  },
  {
   "cell_type": "code",
   "execution_count": 157,
   "id": "9a6b9c82-7f96-4e1d-aaab-3bb8239ad218",
   "metadata": {},
   "outputs": [
    {
     "name": "stdout",
     "output_type": "stream",
     "text": [
      "1.1\n"
     ]
    }
   ],
   "source": [
    "print('1.1')"
   ]
  },
  {
   "cell_type": "code",
   "execution_count": 158,
   "id": "baf781f7-09d9-4b4b-b49b-f4bf1862cc2a",
   "metadata": {},
   "outputs": [
    {
     "data": {
      "text/plain": [
       "2"
      ]
     },
     "execution_count": 158,
     "metadata": {},
     "output_type": "execute_result"
    }
   ],
   "source": [
    "len('hi')"
   ]
  },
  {
   "cell_type": "code",
   "execution_count": 159,
   "id": "9057598e-0354-4c41-9049-e5a562cf3b7a",
   "metadata": {},
   "outputs": [
    {
     "ename": "TypeError",
     "evalue": "object of type 'int' has no len()",
     "output_type": "error",
     "traceback": [
      "\u001b[0;31m---------------------------------------------------------------------------\u001b[0m",
      "\u001b[0;31mTypeError\u001b[0m                                 Traceback (most recent call last)",
      "Input \u001b[0;32mIn [159]\u001b[0m, in \u001b[0;36m<cell line: 1>\u001b[0;34m()\u001b[0m\n\u001b[0;32m----> 1\u001b[0m \u001b[38;5;28;43mlen\u001b[39;49m\u001b[43m(\u001b[49m\u001b[38;5;241;43m4\u001b[39;49m\u001b[43m)\u001b[49m\n",
      "\u001b[0;31mTypeError\u001b[0m: object of type 'int' has no len()"
     ]
    }
   ],
   "source": [
    "len(4)"
   ]
  },
  {
   "cell_type": "code",
   "execution_count": 160,
   "id": "edf70745-344d-4150-bfcf-3ea065d31499",
   "metadata": {},
   "outputs": [],
   "source": [
    "n = 1 "
   ]
  },
  {
   "cell_type": "code",
   "execution_count": 161,
   "id": "ce98efdf-4e7b-4679-aec5-c1b7ec232daa",
   "metadata": {},
   "outputs": [
    {
     "data": {
      "text/plain": [
       "140537772566832"
      ]
     },
     "execution_count": 161,
     "metadata": {},
     "output_type": "execute_result"
    }
   ],
   "source": [
    "id(n)"
   ]
  },
  {
   "cell_type": "code",
   "execution_count": 162,
   "id": "77ee3d20-241a-43b0-adb7-d1317158d6a9",
   "metadata": {},
   "outputs": [
    {
     "data": {
      "text/plain": [
       "140537772871488"
      ]
     },
     "execution_count": 162,
     "metadata": {},
     "output_type": "execute_result"
    }
   ],
   "source": [
    "id(id)"
   ]
  },
  {
   "cell_type": "code",
   "execution_count": 163,
   "id": "408ad537-89db-4e11-9b2a-cdcf01d94921",
   "metadata": {},
   "outputs": [
    {
     "data": {
      "text/plain": [
       "140536967369168"
      ]
     },
     "execution_count": 163,
     "metadata": {},
     "output_type": "execute_result"
    }
   ],
   "source": [
    "id(math)"
   ]
  },
  {
   "cell_type": "code",
   "execution_count": 164,
   "id": "9737d77e-4924-4b07-9c85-2225f355572d",
   "metadata": {},
   "outputs": [
    {
     "data": {
      "text/plain": [
       "4"
      ]
     },
     "execution_count": 164,
     "metadata": {},
     "output_type": "execute_result"
    }
   ],
   "source": [
    "max(2, 4)"
   ]
  },
  {
   "cell_type": "code",
   "execution_count": 165,
   "id": "7da37031-a7e1-4fcd-a16b-44e21f996e88",
   "metadata": {},
   "outputs": [
    {
     "data": {
      "text/plain": [
       "4"
      ]
     },
     "execution_count": 165,
     "metadata": {},
     "output_type": "execute_result"
    }
   ],
   "source": [
    "max(2, 4, 3)"
   ]
  },
  {
   "cell_type": "code",
   "execution_count": 166,
   "id": "86b4ab31-c3a1-4c4e-a2a4-88d7f6c6974c",
   "metadata": {},
   "outputs": [
    {
     "data": {
      "text/plain": [
       "1.99"
      ]
     },
     "execution_count": 166,
     "metadata": {},
     "output_type": "execute_result"
    }
   ],
   "source": [
    "max(1.2, -1.2, 1.99)"
   ]
  },
  {
   "cell_type": "code",
   "execution_count": 167,
   "id": "8716a8fc-2662-4be2-8004-a052d2d2ba38",
   "metadata": {},
   "outputs": [
    {
     "data": {
      "text/plain": [
       "'this'"
      ]
     },
     "execution_count": 167,
     "metadata": {},
     "output_type": "execute_result"
    }
   ],
   "source": [
    "max('this', 'that', 'ok')"
   ]
  },
  {
   "cell_type": "code",
   "execution_count": 168,
   "id": "4c4eb653-8409-478e-9bc1-102f73114ed0",
   "metadata": {},
   "outputs": [
    {
     "data": {
      "text/plain": [
       "True"
      ]
     },
     "execution_count": 168,
     "metadata": {},
     "output_type": "execute_result"
    }
   ],
   "source": [
    "'ok' < 'this'"
   ]
  },
  {
   "cell_type": "code",
   "execution_count": 169,
   "id": "61abc464-73a5-4950-827e-9500cc676cf4",
   "metadata": {},
   "outputs": [],
   "source": [
    "a, b, o, p = 'b', 'a', 'p', 'o'"
   ]
  },
  {
   "cell_type": "code",
   "execution_count": 170,
   "id": "10edd1d2-b1b6-438e-853a-da16f238968d",
   "metadata": {},
   "outputs": [
    {
     "data": {
      "text/plain": [
       "'b'"
      ]
     },
     "execution_count": 170,
     "metadata": {},
     "output_type": "execute_result"
    }
   ],
   "source": [
    "a"
   ]
  },
  {
   "cell_type": "code",
   "execution_count": 173,
   "id": "955a9008-4c71-4ad8-8462-411c3ac462c2",
   "metadata": {},
   "outputs": [
    {
     "data": {
      "text/plain": [
       "'b'"
      ]
     },
     "execution_count": 173,
     "metadata": {},
     "output_type": "execute_result"
    }
   ],
   "source": [
    "max('1', a)"
   ]
  },
  {
   "cell_type": "code",
   "execution_count": 174,
   "id": "a7198eb2-5bb9-4b63-9a33-b49c27e3dd8e",
   "metadata": {},
   "outputs": [
    {
     "data": {
      "text/plain": [
       "True"
      ]
     },
     "execution_count": 174,
     "metadata": {},
     "output_type": "execute_result"
    }
   ],
   "source": [
    "':' < 'A'"
   ]
  },
  {
   "cell_type": "code",
   "execution_count": 175,
   "id": "118f0224-8861-4ef1-9ce6-f4dfaf43043e",
   "metadata": {},
   "outputs": [
    {
     "data": {
      "text/plain": [
       "58"
      ]
     },
     "execution_count": 175,
     "metadata": {},
     "output_type": "execute_result"
    }
   ],
   "source": [
    "ord(':')"
   ]
  },
  {
   "cell_type": "code",
   "execution_count": 176,
   "id": "a1a04e6c-87a5-4a1d-bee1-57d13fe16a10",
   "metadata": {},
   "outputs": [
    {
     "data": {
      "text/plain": [
       "65"
      ]
     },
     "execution_count": 176,
     "metadata": {},
     "output_type": "execute_result"
    }
   ],
   "source": [
    "ord('A')"
   ]
  },
  {
   "cell_type": "code",
   "execution_count": 177,
   "id": "050cc7e5-6bed-4760-bc70-e834aa043ea0",
   "metadata": {},
   "outputs": [
    {
     "data": {
      "text/plain": [
       "97"
      ]
     },
     "execution_count": 177,
     "metadata": {},
     "output_type": "execute_result"
    }
   ],
   "source": [
    "ord('a')"
   ]
  },
  {
   "cell_type": "code",
   "execution_count": 182,
   "id": "93c42490-bf36-481d-a5be-da885f51b60e",
   "metadata": {},
   "outputs": [],
   "source": [
    "string = 'testing'"
   ]
  },
  {
   "cell_type": "code",
   "execution_count": 183,
   "id": "8b7a612b-6b93-4a54-8ae0-2d5d1894001e",
   "metadata": {},
   "outputs": [],
   "source": [
    "s = 'blah'"
   ]
  },
  {
   "cell_type": "code",
   "execution_count": 184,
   "id": "af4627c8-69d6-4542-ae1e-9b924868ec82",
   "metadata": {},
   "outputs": [
    {
     "data": {
      "text/plain": [
       "'blah'"
      ]
     },
     "execution_count": 184,
     "metadata": {},
     "output_type": "execute_result"
    }
   ],
   "source": [
    "s"
   ]
  },
  {
   "cell_type": "code",
   "execution_count": 185,
   "id": "97492898-3203-4653-977c-6c00d2f53c1d",
   "metadata": {},
   "outputs": [
    {
     "name": "stdout",
     "output_type": "stream",
     "text": [
      "Help on built-in function find:\n",
      "\n",
      "find(...) method of builtins.str instance\n",
      "    S.find(sub[, start[, end]]) -> int\n",
      "    \n",
      "    Return the lowest index in S where substring sub is found,\n",
      "    such that sub is contained within S[start:end].  Optional\n",
      "    arguments start and end are interpreted as in slice notation.\n",
      "    \n",
      "    Return -1 on failure.\n",
      "\n"
     ]
    }
   ],
   "source": [
    "help(s.find)"
   ]
  },
  {
   "cell_type": "code",
   "execution_count": 186,
   "id": "deb078d8-7c22-40ae-8398-b99dc69289ac",
   "metadata": {},
   "outputs": [
    {
     "name": "stdout",
     "output_type": "stream",
     "text": [
      "Help on built-in function count:\n",
      "\n",
      "count(...) method of builtins.str instance\n",
      "    S.count(sub[, start[, end]]) -> int\n",
      "    \n",
      "    Return the number of non-overlapping occurrences of substring sub in\n",
      "    string S[start:end].  Optional arguments start and end are\n",
      "    interpreted as in slice notation.\n",
      "\n"
     ]
    }
   ],
   "source": [
    "help(s.count)"
   ]
  },
  {
   "cell_type": "code",
   "execution_count": 187,
   "id": "052bfb3e-a732-4a0b-9fe2-6174b18a3b5b",
   "metadata": {},
   "outputs": [],
   "source": [
    "s = 'string'"
   ]
  },
  {
   "cell_type": "code",
   "execution_count": 188,
   "id": "2e74cdd8-1480-4d8f-a1d3-4a1f832cbf9b",
   "metadata": {},
   "outputs": [
    {
     "data": {
      "text/plain": [
       "'s'"
      ]
     },
     "execution_count": 188,
     "metadata": {},
     "output_type": "execute_result"
    }
   ],
   "source": [
    "s[0]"
   ]
  },
  {
   "cell_type": "code",
   "execution_count": 189,
   "id": "ae5ca884-88d0-4814-b733-195a70a182ef",
   "metadata": {},
   "outputs": [
    {
     "ename": "TypeError",
     "evalue": "'str' object does not support item assignment",
     "output_type": "error",
     "traceback": [
      "\u001b[0;31m---------------------------------------------------------------------------\u001b[0m",
      "\u001b[0;31mTypeError\u001b[0m                                 Traceback (most recent call last)",
      "Input \u001b[0;32mIn [189]\u001b[0m, in \u001b[0;36m<cell line: 1>\u001b[0;34m()\u001b[0m\n\u001b[0;32m----> 1\u001b[0m s[\u001b[38;5;241m0\u001b[39m] \u001b[38;5;241m=\u001b[39m \u001b[38;5;124m'\u001b[39m\u001b[38;5;124mS\u001b[39m\u001b[38;5;124m'\u001b[39m\n",
      "\u001b[0;31mTypeError\u001b[0m: 'str' object does not support item assignment"
     ]
    }
   ],
   "source": [
    "s[0] = 'S'"
   ]
  },
  {
   "cell_type": "code",
   "execution_count": 190,
   "id": "2a3a63de-c3ee-4cae-ba49-5a10c4579ba5",
   "metadata": {},
   "outputs": [],
   "source": [
    "s = 'String'"
   ]
  },
  {
   "cell_type": "markdown",
   "id": "e2cb4a64-a5de-48bd-af57-8841fe0ed734",
   "metadata": {},
   "source": [
    "## Quick Lab: String Functions\n",
    "* write a Python program to read in a string and then print it out as\n",
    "  * a title\n",
    "  * all upper case\n",
    "  * all lower case\n",
    "* also, replace all vowels in the string with the letter 'x'\n",
    "   * you can use the __`.replace()`__ method to replace each vowel, one at a time"
   ]
  },
  {
   "cell_type": "code",
   "execution_count": 194,
   "id": "b1559c6d-0db9-4cd2-b19f-e6a2aa2b7049",
   "metadata": {},
   "outputs": [],
   "source": [
    "# 1. get a string from user\n",
    "# 2. .title() it\n",
    "# 3. .upper() it\n",
    "# 4. .lower() it\n",
    "# 5. for each vowel in 'aeiou':\n",
    "# 6.      use .replace() to replace that vowel with 'x'"
   ]
  },
  {
   "cell_type": "code",
   "execution_count": 9,
   "id": "6741460f-6d70-48bf-9981-66bce4d67520",
   "metadata": {},
   "outputs": [
    {
     "name": "stdin",
     "output_type": "stream",
     "text": [
      "Enter some text:  The quick brown fox jumps over the lazy dog\n"
     ]
    },
    {
     "name": "stdout",
     "output_type": "stream",
     "text": [
      "The Quick Brown Fox Jumps Over The Lazy Dog\n",
      "THE QUICK BROWN FOX JUMPS OVER THE LAZY DOG\n",
      "the quick brown fox jumps over the lazy dog\n",
      "After replacing a ... The quick brown fox jumps over the lxzy dog\n",
      "After replacing e ... Thx quick brown fox jumps ovxr thx lxzy dog\n",
      "After replacing i ... Thx quxck brown fox jumps ovxr thx lxzy dog\n",
      "After replacing o ... Thx quxck brxwn fxx jumps xvxr thx lxzy dxg\n",
      "After replacing u ... Thx qxxck brxwn fxx jxmps xvxr thx lxzy dxg\n"
     ]
    }
   ],
   "source": [
    "text = input('Enter some text: ') # 1\n",
    "print(text.title(), text.upper(), text.lower(), sep='\\n') # 2, 3, 4\n",
    "\n",
    "for vowel in 'aeiou': # 5\n",
    "    text = text.replace(vowel, 'x') # 6 replace one vowel at a time\n",
    "    print('After replacing', vowel, '...', text)"
   ]
  },
  {
   "cell_type": "markdown",
   "id": "3f4beed2-ddaa-4c21-a260-12d259c20664",
   "metadata": {},
   "source": [
    "## Lab: String Functions\n",
    "* write a Python program to read in a string and print it out such that\n",
    "  * the first, third, fifth, etc. letters are **lower** case\n",
    "  * the second, fourth, sixth, etc. letters are **UPPER** case\n",
    "  * e.g., if the input is __Guido van Rossum__, the output would be:\n",
    "    * __gUiDo vAn rOsSuM__"
   ]
  },
  {
   "cell_type": "code",
   "execution_count": null,
   "id": "8a8547fa-05d1-4b59-91d3-b8e7abc994d3",
   "metadata": {},
   "outputs": [],
   "source": [
    "# 1. get a string from the user\n",
    "# 2. for each index of the string, 0..len(string)-1\n",
    "# 3.     if index is even, print the letter in the string as lower case\n",
    "# 4.     else (odd) print the letter in the string as upper case\n"
   ]
  },
  {
   "cell_type": "code",
   "execution_count": 1,
   "id": "3734f660-04a2-4c2f-8829-443d3c103588",
   "metadata": {},
   "outputs": [
    {
     "name": "stdout",
     "output_type": "stream",
     "text": [
      "something\n"
     ]
    }
   ],
   "source": [
    "text = input('Enter some text: ') # 1\n",
    "for index in range(0, len(text)): # 2\n",
    "    if index % 2 == 0: # 3\n",
    "        print(text[index].lower(), end='')\n",
    "    else:\n",
    "        print(text[index].upper(), end='')"
   ]
  },
  {
   "cell_type": "code",
   "execution_count": 2,
   "id": "5570cca2-e8e8-477d-af3d-afc1b5169400",
   "metadata": {},
   "outputs": [
    {
     "name": "stdout",
     "output_type": "stream",
     "text": [
      "again\n"
     ]
    }
   ],
   "source": [
    "# 1. get a string from the user\n",
    "# 2. for each character in the string:\n",
    "# 3.    if last character was upper, make this one lower\n",
    "# 4.    if last character was lower, make the one upper"
   ]
  },
  {
   "cell_type": "code",
   "execution_count": 10,
   "id": "554c43be-ec05-40b4-969a-13f7c3de6211",
   "metadata": {},
   "outputs": [
    {
     "name": "stdin",
     "output_type": "stream",
     "text": [
      "Enter a input word :  golang\n"
     ]
    },
    {
     "name": "stdout",
     "output_type": "stream",
     "text": [
      "gOlAnG"
     ]
    }
   ],
   "source": [
    "# Aru's solution\n",
    "\n",
    "input_string = input(\"Enter a input word : \") # input ALWAYS return a string\n",
    "make_cap = False\n",
    "\n",
    "for input_letter in input_string:\n",
    "    if make_cap:\n",
    "        print(input_letter.upper(), end=\"\")\n",
    "        make_cap = False\n",
    "    else:\n",
    "        print(input_letter.lower(), end=\"\")\n",
    "        make_cap = True"
   ]
  },
  {
   "cell_type": "code",
   "execution_count": 11,
   "id": "9b0fd3ea-90d4-44f5-8228-0303add4859f",
   "metadata": {},
   "outputs": [],
   "source": [
    "s = 'string'"
   ]
  },
  {
   "cell_type": "code",
   "execution_count": 12,
   "id": "94f19f14-8e66-4c58-b21c-b66e348512fd",
   "metadata": {},
   "outputs": [
    {
     "data": {
      "text/plain": [
       "4347441952"
      ]
     },
     "execution_count": 12,
     "metadata": {},
     "output_type": "execute_result"
    }
   ],
   "source": [
    "id(str)"
   ]
  },
  {
   "cell_type": "code",
   "execution_count": 13,
   "id": "a8379901-7619-4c98-a5c2-3b9ee1d61947",
   "metadata": {},
   "outputs": [
    {
     "data": {
      "text/plain": [
       "4347403088"
      ]
     },
     "execution_count": 13,
     "metadata": {},
     "output_type": "execute_result"
    }
   ],
   "source": [
    "id(int)"
   ]
  },
  {
   "cell_type": "code",
   "execution_count": 14,
   "id": "a64241f5-3d1c-4d6a-a184-6ffbe5d733b8",
   "metadata": {
    "jupyter": {
     "source_hidden": true
    },
    "tags": []
   },
   "outputs": [
    {
     "data": {
      "text/plain": [
       "4347394368"
      ]
     },
     "execution_count": 14,
     "metadata": {},
     "output_type": "execute_result"
    }
   ],
   "source": [
    "id(float)"
   ]
  },
  {
   "cell_type": "code",
   "execution_count": 16,
   "id": "b538c8f2-fe88-4f7b-a7c2-69e296f995e9",
   "metadata": {},
   "outputs": [],
   "source": [
    "words = 'this that other'.split()"
   ]
  },
  {
   "cell_type": "code",
   "execution_count": 17,
   "id": "429d2366-0a23-4c1c-a456-5b2844af7953",
   "metadata": {},
   "outputs": [
    {
     "data": {
      "text/plain": [
       "['this', 'that', 'other']"
      ]
     },
     "execution_count": 17,
     "metadata": {},
     "output_type": "execute_result"
    }
   ],
   "source": [
    "words"
   ]
  },
  {
   "cell_type": "code",
   "execution_count": 18,
   "id": "743154d2-d64d-494b-a4f9-7d2cf1e7c123",
   "metadata": {},
   "outputs": [
    {
     "ename": "AttributeError",
     "evalue": "'list' object has no attribute 'join'",
     "output_type": "error",
     "traceback": [
      "\u001b[0;31m---------------------------------------------------------------------------\u001b[0m",
      "\u001b[0;31mAttributeError\u001b[0m                            Traceback (most recent call last)",
      "Input \u001b[0;32mIn [18]\u001b[0m, in \u001b[0;36m<cell line: 1>\u001b[0;34m()\u001b[0m\n\u001b[0;32m----> 1\u001b[0m \u001b[43mwords\u001b[49m\u001b[38;5;241;43m.\u001b[39;49m\u001b[43mjoin\u001b[49m(\u001b[38;5;124m'\u001b[39m\u001b[38;5;124m \u001b[39m\u001b[38;5;124m'\u001b[39m)\n",
      "\u001b[0;31mAttributeError\u001b[0m: 'list' object has no attribute 'join'"
     ]
    }
   ],
   "source": [
    "words.join(' ')"
   ]
  },
  {
   "cell_type": "code",
   "execution_count": 19,
   "id": "f61faff4-e71a-47d9-b1fc-a6afee89ed14",
   "metadata": {},
   "outputs": [
    {
     "name": "stdout",
     "output_type": "stream",
     "text": [
      "Help on method_descriptor:\n",
      "\n",
      "join(self, iterable, /)\n",
      "    Concatenate any number of strings.\n",
      "    \n",
      "    The string whose method is called is inserted in between each given string.\n",
      "    The result is returned as a new string.\n",
      "    \n",
      "    Example: '.'.join(['ab', 'pq', 'rs']) -> 'ab.pq.rs'\n",
      "\n"
     ]
    }
   ],
   "source": [
    "help(str.join)"
   ]
  },
  {
   "cell_type": "code",
   "execution_count": 20,
   "id": "78db86ae-92f9-4d60-935d-012517ec84d9",
   "metadata": {},
   "outputs": [
    {
     "data": {
      "text/plain": [
       "['this', 'that', 'other']"
      ]
     },
     "execution_count": 20,
     "metadata": {},
     "output_type": "execute_result"
    }
   ],
   "source": [
    "words"
   ]
  },
  {
   "cell_type": "code",
   "execution_count": 21,
   "id": "d3556eb8-0ec1-4b98-9e61-a55df49a242a",
   "metadata": {
    "collapsed": true,
    "jupyter": {
     "outputs_hidden": true
    },
    "tags": []
   },
   "outputs": [
    {
     "data": {
      "text/plain": [
       "'this that other'"
      ]
     },
     "execution_count": 21,
     "metadata": {},
     "output_type": "execute_result"
    }
   ],
   "source": [
    "' '.join(words)"
   ]
  },
  {
   "cell_type": "code",
   "execution_count": 23,
   "id": "31d133d1-adb5-407e-a826-89568df6948b",
   "metadata": {},
   "outputs": [
    {
     "data": {
      "text/plain": [
       "'this, that, other'"
      ]
     },
     "execution_count": 23,
     "metadata": {},
     "output_type": "execute_result"
    }
   ],
   "source": [
    "', '.join(words)"
   ]
  },
  {
   "cell_type": "code",
   "execution_count": 24,
   "id": "aa2063dd-edd1-49ef-bdaa-0ce9f100be54",
   "metadata": {},
   "outputs": [],
   "source": [
    "count = 4"
   ]
  },
  {
   "cell_type": "code",
   "execution_count": 25,
   "id": "cbc7ef10-196e-40d5-85eb-a429b4c2644f",
   "metadata": {},
   "outputs": [
    {
     "data": {
      "text/plain": [
       "'4'"
      ]
     },
     "execution_count": 25,
     "metadata": {},
     "output_type": "execute_result"
    }
   ],
   "source": [
    "str(count)"
   ]
  },
  {
   "cell_type": "code",
   "execution_count": 26,
   "id": "f07229c7-5838-4bfb-bd45-53439b1c6692",
   "metadata": {},
   "outputs": [
    {
     "data": {
      "text/plain": [
       "4"
      ]
     },
     "execution_count": 26,
     "metadata": {},
     "output_type": "execute_result"
    }
   ],
   "source": [
    "count"
   ]
  },
  {
   "cell_type": "code",
   "execution_count": 27,
   "id": "61bb732a-2695-465f-8b6c-b319a003739e",
   "metadata": {},
   "outputs": [
    {
     "name": "stdout",
     "output_type": "stream",
     "text": [
      "4\n"
     ]
    }
   ],
   "source": [
    "print(count)"
   ]
  },
  {
   "cell_type": "code",
   "execution_count": 1,
   "id": "3271ec05-3ce0-459b-b0c3-1dd75f5c039d",
   "metadata": {},
   "outputs": [
    {
     "data": {
      "text/plain": [
       "2"
      ]
     },
     "execution_count": 1,
     "metadata": {},
     "output_type": "execute_result"
    }
   ],
   "source": [
    "len('hi')"
   ]
  },
  {
   "cell_type": "code",
   "execution_count": 2,
   "id": "541cac57-e271-4ec5-bf7b-153a3aafec17",
   "metadata": {},
   "outputs": [
    {
     "data": {
      "text/plain": [
       "3"
      ]
     },
     "execution_count": 2,
     "metadata": {},
     "output_type": "execute_result"
    }
   ],
   "source": [
    "len([1, 2, 3])"
   ]
  },
  {
   "cell_type": "code",
   "execution_count": 3,
   "id": "82ff4d60-a331-400a-9c69-3a36ac274b4b",
   "metadata": {},
   "outputs": [],
   "source": [
    "nums = [1, 2]"
   ]
  },
  {
   "cell_type": "code",
   "execution_count": 4,
   "id": "86d2573b-fbef-4e98-bc38-df0168a86166",
   "metadata": {},
   "outputs": [
    {
     "data": {
      "text/plain": [
       "True"
      ]
     },
     "execution_count": 4,
     "metadata": {},
     "output_type": "execute_result"
    }
   ],
   "source": [
    "'s' in 'string'"
   ]
  },
  {
   "cell_type": "code",
   "execution_count": 5,
   "id": "3e5e360d-f417-41f0-ae57-7773e7c9b2da",
   "metadata": {},
   "outputs": [
    {
     "data": {
      "text/plain": [
       "True"
      ]
     },
     "execution_count": 5,
     "metadata": {},
     "output_type": "execute_result"
    }
   ],
   "source": [
    "3 in [1, 2, 3, 4]"
   ]
  },
  {
   "cell_type": "code",
   "execution_count": 6,
   "id": "230cc6fb-f46e-413f-9b7e-5d2a8c95d2bd",
   "metadata": {},
   "outputs": [
    {
     "name": "stdout",
     "output_type": "stream",
     "text": [
      "hello! 1\n",
      "hello! 2\n",
      "hello! 3\n",
      "hello! 4\n",
      "hello! 5\n",
      "hello! 6\n",
      "hello! 7\n",
      "hello! 8\n",
      "hello! 9\n",
      "hello! 10\n"
     ]
    }
   ],
   "source": [
    "for count in range(1, 11): # counting from 1 to 10\n",
    "    print('hello!', count)"
   ]
  },
  {
   "cell_type": "code",
   "execution_count": 12,
   "id": "fe106665-eff9-4277-886b-dfcfdfc0d6d2",
   "metadata": {
    "jupyter": {
     "source_hidden": true
    },
    "tags": []
   },
   "outputs": [
    {
     "name": "stdout",
     "output_type": "stream",
     "text": [
      "hello! 0\n",
      "hello! 1\n",
      "hello! 2\n",
      "hello! 3\n",
      "hello! 4\n",
      "hello! 5\n",
      "hello! 6\n",
      "hello! 7\n",
      "hello! 8\n",
      "hello! 9\n"
     ]
    }
   ],
   "source": [
    "for _ in range(10): # \"do something 10 times\" (it could be that we are counting from 0 to 9)\n",
    "    print('hello!')"
   ]
  },
  {
   "cell_type": "code",
   "execution_count": 13,
   "id": "554272ce-f0b7-4d95-b637-1d56b326fdf3",
   "metadata": {},
   "outputs": [],
   "source": [
    "nums = [1, 2, 5]"
   ]
  },
  {
   "cell_type": "code",
   "execution_count": 14,
   "id": "d1307e7e-6a6b-4d39-a051-0f11b30353a4",
   "metadata": {},
   "outputs": [
    {
     "name": "stdout",
     "output_type": "stream",
     "text": [
      "Help on built-in function remove:\n",
      "\n",
      "remove(value, /) method of builtins.list instance\n",
      "    Remove first occurrence of value.\n",
      "    \n",
      "    Raises ValueError if the value is not present.\n",
      "\n"
     ]
    }
   ],
   "source": [
    "help(nums.remove)"
   ]
  },
  {
   "cell_type": "code",
   "execution_count": 15,
   "id": "92f271be-ee50-41b4-be7b-c232badaae8f",
   "metadata": {},
   "outputs": [],
   "source": [
    "nums = [1, 2, 5, 2, 2, 2]"
   ]
  },
  {
   "cell_type": "code",
   "execution_count": 16,
   "id": "f11ea993-98c7-4452-8280-2f11c2bdb1b1",
   "metadata": {},
   "outputs": [],
   "source": [
    "nums.reverse()"
   ]
  },
  {
   "cell_type": "code",
   "execution_count": 17,
   "id": "aea63cc9-adfd-4bd8-bf88-bd4b25e8c80c",
   "metadata": {},
   "outputs": [
    {
     "data": {
      "text/plain": [
       "[2, 2, 2, 5, 2, 1]"
      ]
     },
     "execution_count": 17,
     "metadata": {},
     "output_type": "execute_result"
    }
   ],
   "source": [
    "nums"
   ]
  },
  {
   "cell_type": "code",
   "execution_count": 18,
   "id": "9a463d21-373f-46fa-8c32-59489cbd45e6",
   "metadata": {},
   "outputs": [],
   "source": [
    "for _ in range(3):\n",
    "    nums.remove(2)"
   ]
  },
  {
   "cell_type": "code",
   "execution_count": 19,
   "id": "afbde973-1299-478f-801c-6986e3edc3a1",
   "metadata": {},
   "outputs": [
    {
     "data": {
      "text/plain": [
       "[5, 2, 1]"
      ]
     },
     "execution_count": 19,
     "metadata": {},
     "output_type": "execute_result"
    }
   ],
   "source": [
    "nums"
   ]
  },
  {
   "cell_type": "code",
   "execution_count": 20,
   "id": "9824dfc7-db8f-475f-8235-3c28b02ade68",
   "metadata": {},
   "outputs": [],
   "source": [
    "nums.reverse()"
   ]
  },
  {
   "cell_type": "code",
   "execution_count": 21,
   "id": "bb2d6e1d-c3fb-4441-b0d9-6d2ea9f02fe8",
   "metadata": {},
   "outputs": [
    {
     "data": {
      "text/plain": [
       "[1, 2, 5]"
      ]
     },
     "execution_count": 21,
     "metadata": {},
     "output_type": "execute_result"
    }
   ],
   "source": [
    "nums"
   ]
  },
  {
   "cell_type": "code",
   "execution_count": 22,
   "id": "1c0e6db9-a03d-44fe-8db9-babf841a4538",
   "metadata": {},
   "outputs": [],
   "source": [
    "nums = [1, 2, 5, 2, 2, 2, 1, 3]"
   ]
  },
  {
   "cell_type": "code",
   "execution_count": 23,
   "id": "7eca9eed-6c89-44e3-9d8b-8d1be0447c4d",
   "metadata": {},
   "outputs": [
    {
     "name": "stdout",
     "output_type": "stream",
     "text": [
      "just deleted index 5\n",
      "just deleted index 4\n",
      "just deleted index 3\n",
      "just deleted index 1\n"
     ]
    }
   ],
   "source": [
    "for index in range(len(nums) - 1, -1, -1):\n",
    "    if nums[index] == 2:\n",
    "        del nums[index]\n",
    "        print('just deleted index', index)"
   ]
  },
  {
   "cell_type": "code",
   "execution_count": 25,
   "id": "bee7fa5e-8946-4b91-8d6d-ef35226e3975",
   "metadata": {},
   "outputs": [],
   "source": [
    "nums = [1, 4, 3, -2, 7, 2]"
   ]
  },
  {
   "cell_type": "code",
   "execution_count": 26,
   "id": "e445ff11-ec3f-4f9e-bd0e-0f75dc84104a",
   "metadata": {},
   "outputs": [
    {
     "data": {
      "text/plain": [
       "[-2, 1, 2, 3, 4, 7]"
      ]
     },
     "execution_count": 26,
     "metadata": {},
     "output_type": "execute_result"
    }
   ],
   "source": [
    "sorted(nums)"
   ]
  },
  {
   "cell_type": "code",
   "execution_count": 27,
   "id": "f214db84-3564-4734-904e-283a4b6cdf6e",
   "metadata": {},
   "outputs": [
    {
     "data": {
      "text/plain": [
       "[1, 4, 3, -2, 7, 2]"
      ]
     },
     "execution_count": 27,
     "metadata": {},
     "output_type": "execute_result"
    }
   ],
   "source": [
    "nums"
   ]
  },
  {
   "cell_type": "code",
   "execution_count": 28,
   "id": "844a13e8-f219-4b37-a770-54e3f4c7c91e",
   "metadata": {},
   "outputs": [],
   "source": [
    "sorted_nums = sorted(nums)"
   ]
  },
  {
   "cell_type": "code",
   "execution_count": 29,
   "id": "55c5fbc5-e50c-43f6-92c8-d9cbd2fe6edc",
   "metadata": {},
   "outputs": [
    {
     "data": {
      "text/plain": [
       "[1, 4, 3, -2, 7, 2]"
      ]
     },
     "execution_count": 29,
     "metadata": {},
     "output_type": "execute_result"
    }
   ],
   "source": [
    "nums"
   ]
  },
  {
   "cell_type": "code",
   "execution_count": 30,
   "id": "2e8c9726-f287-4ed8-a34a-5ab2e5cfb9ef",
   "metadata": {},
   "outputs": [
    {
     "data": {
      "text/plain": [
       "[-2, 1, 2, 3, 4, 7]"
      ]
     },
     "execution_count": 30,
     "metadata": {},
     "output_type": "execute_result"
    }
   ],
   "source": [
    "sorted_nums"
   ]
  },
  {
   "cell_type": "code",
   "execution_count": 31,
   "id": "8e0e86d4-1038-49b0-b60c-96cb65b08a45",
   "metadata": {},
   "outputs": [
    {
     "data": {
      "text/plain": [
       "[1, 4, 3, -2, 7, 2]"
      ]
     },
     "execution_count": 31,
     "metadata": {},
     "output_type": "execute_result"
    }
   ],
   "source": [
    "nums"
   ]
  },
  {
   "cell_type": "code",
   "execution_count": 32,
   "id": "a801ed48-c6b7-4b27-bc72-5b27fe9ce586",
   "metadata": {},
   "outputs": [
    {
     "data": {
      "text/plain": [
       "[1, 4, 3, -2, 7, 2]"
      ]
     },
     "execution_count": 32,
     "metadata": {},
     "output_type": "execute_result"
    }
   ],
   "source": [
    "nums"
   ]
  },
  {
   "cell_type": "code",
   "execution_count": 33,
   "id": "15e270ef-b175-42ec-8af1-f72c3391eef1",
   "metadata": {},
   "outputs": [],
   "source": [
    "nums.sort()"
   ]
  },
  {
   "cell_type": "code",
   "execution_count": 34,
   "id": "d54ab2dd-3af8-4ea4-a661-f4220c795026",
   "metadata": {},
   "outputs": [
    {
     "name": "stdout",
     "output_type": "stream",
     "text": [
      "Help on built-in function sort:\n",
      "\n",
      "sort(*, key=None, reverse=False) method of builtins.list instance\n",
      "    Sort the list in ascending order and return None.\n",
      "    \n",
      "    The sort is in-place (i.e. the list itself is modified) and stable (i.e. the\n",
      "    order of two equal elements is maintained).\n",
      "    \n",
      "    If a key function is given, apply it once to each list item and sort them,\n",
      "    ascending or descending, according to their function values.\n",
      "    \n",
      "    The reverse flag can be set to sort in descending order.\n",
      "\n"
     ]
    }
   ],
   "source": [
    "help(nums.sort)"
   ]
  },
  {
   "cell_type": "code",
   "execution_count": 35,
   "id": "888fc4c0-dc01-41eb-a99a-9fa8361ddb3c",
   "metadata": {},
   "outputs": [
    {
     "data": {
      "text/plain": [
       "'1'"
      ]
     },
     "execution_count": 35,
     "metadata": {},
     "output_type": "execute_result"
    }
   ],
   "source": [
    "str(1)"
   ]
  },
  {
   "cell_type": "code",
   "execution_count": 36,
   "id": "0d0cfdf5-a40d-48f7-a724-8ecd9f5179d0",
   "metadata": {},
   "outputs": [],
   "source": [
    "str_version_of_1 = str(1)"
   ]
  },
  {
   "cell_type": "code",
   "execution_count": 37,
   "id": "38cac678-a04c-4642-9e70-b4db7398a350",
   "metadata": {},
   "outputs": [
    {
     "data": {
      "text/plain": [
       "'1'"
      ]
     },
     "execution_count": 37,
     "metadata": {},
     "output_type": "execute_result"
    }
   ],
   "source": [
    "str_version_of_1"
   ]
  },
  {
   "cell_type": "code",
   "execution_count": 38,
   "id": "80761de9-0f7a-473c-aecb-e1e70f3117a8",
   "metadata": {},
   "outputs": [
    {
     "data": {
      "text/plain": [
       "[-2, 1, 2, 3, 4, 7]"
      ]
     },
     "execution_count": 38,
     "metadata": {},
     "output_type": "execute_result"
    }
   ],
   "source": [
    "nums"
   ]
  },
  {
   "cell_type": "code",
   "execution_count": 39,
   "id": "10b0d33d-f94e-488c-953f-16c9b5a73cc3",
   "metadata": {},
   "outputs": [],
   "source": [
    "nums.sort(reverse=True)"
   ]
  },
  {
   "cell_type": "code",
   "execution_count": 40,
   "id": "fa000104-7b51-49f6-b54c-48ab4015196f",
   "metadata": {},
   "outputs": [
    {
     "data": {
      "text/plain": [
       "[7, 4, 3, 2, 1, -2]"
      ]
     },
     "execution_count": 40,
     "metadata": {},
     "output_type": "execute_result"
    }
   ],
   "source": [
    "nums"
   ]
  },
  {
   "cell_type": "code",
   "execution_count": 41,
   "id": "1c2794ee-5233-4e9c-b9d6-37c06e8a1403",
   "metadata": {},
   "outputs": [
    {
     "data": {
      "text/plain": [
       "[7, 4, 3, 2, 1, -2]"
      ]
     },
     "execution_count": 41,
     "metadata": {},
     "output_type": "execute_result"
    }
   ],
   "source": [
    "nums"
   ]
  },
  {
   "cell_type": "code",
   "execution_count": 48,
   "id": "934cc245-b7d8-4a3a-8559-f57706ef5b02",
   "metadata": {},
   "outputs": [],
   "source": [
    "nums = [1, 4, 3, -2, 7, 2]"
   ]
  },
  {
   "cell_type": "code",
   "execution_count": 43,
   "id": "06ee6bd9-a383-4d9a-b91a-7357243cd7c1",
   "metadata": {},
   "outputs": [],
   "source": [
    "nums = sorted(nums) # wrong process, right answer, extra work ... don't do this!"
   ]
  },
  {
   "cell_type": "code",
   "execution_count": 44,
   "id": "2f60e328-b437-4f36-8d11-966f42acedb4",
   "metadata": {},
   "outputs": [
    {
     "data": {
      "text/plain": [
       "[-2, 1, 2, 3, 4, 7]"
      ]
     },
     "execution_count": 44,
     "metadata": {},
     "output_type": "execute_result"
    }
   ],
   "source": [
    "nums"
   ]
  },
  {
   "cell_type": "code",
   "execution_count": 45,
   "id": "dbb7d84a-eb0b-450f-aa1d-5c1b032e3754",
   "metadata": {},
   "outputs": [
    {
     "data": {
      "text/plain": [
       "[-2, 1, 2, 3, 4, 7]"
      ]
     },
     "execution_count": 45,
     "metadata": {},
     "output_type": "execute_result"
    }
   ],
   "source": [
    "nums"
   ]
  },
  {
   "cell_type": "code",
   "execution_count": 49,
   "id": "ac2c7a7d-f30f-4666-a162-c0cb28fc5822",
   "metadata": {},
   "outputs": [],
   "source": [
    "nums = nums.sort() # right process, wrong answer, sorting was done in place, but you lost it..."
   ]
  },
  {
   "cell_type": "code",
   "execution_count": 50,
   "id": "963fe298-bf58-45e0-a6b4-b8a6749f7e88",
   "metadata": {},
   "outputs": [
    {
     "name": "stdout",
     "output_type": "stream",
     "text": [
      "None\n"
     ]
    }
   ],
   "source": [
    "print(nums)"
   ]
  },
  {
   "cell_type": "code",
   "execution_count": 52,
   "id": "1c6dd77a-f474-4070-b557-5f5b64d21e09",
   "metadata": {},
   "outputs": [
    {
     "name": "stdout",
     "output_type": "stream",
     "text": [
      "hello\n"
     ]
    }
   ],
   "source": [
    "return_value = print('hello')"
   ]
  },
  {
   "cell_type": "code",
   "execution_count": 53,
   "id": "7d0555f4-fe9e-4415-be64-2611b23870f5",
   "metadata": {},
   "outputs": [
    {
     "name": "stdout",
     "output_type": "stream",
     "text": [
      "None\n"
     ]
    }
   ],
   "source": [
    "print(return_value)"
   ]
  },
  {
   "cell_type": "code",
   "execution_count": 54,
   "id": "07b3a044-06ca-4d89-bab9-c2229bafa83c",
   "metadata": {},
   "outputs": [
    {
     "ename": "TypeError",
     "evalue": "'int' object is not iterable",
     "output_type": "error",
     "traceback": [
      "\u001b[0;31m---------------------------------------------------------------------------\u001b[0m",
      "\u001b[0;31mTypeError\u001b[0m                                 Traceback (most recent call last)",
      "Input \u001b[0;32mIn [54]\u001b[0m, in \u001b[0;36m<cell line: 1>\u001b[0;34m()\u001b[0m\n\u001b[0;32m----> 1\u001b[0m \u001b[38;5;28;43msorted\u001b[39;49m\u001b[43m(\u001b[49m\u001b[38;5;241;43m4\u001b[39;49m\u001b[43m)\u001b[49m\n",
      "\u001b[0;31mTypeError\u001b[0m: 'int' object is not iterable"
     ]
    }
   ],
   "source": [
    "sorted(4)"
   ]
  },
  {
   "cell_type": "code",
   "execution_count": 55,
   "id": "b17c0998-1565-4666-bf69-ad50d25e575a",
   "metadata": {},
   "outputs": [
    {
     "data": {
      "text/plain": [
       "[4]"
      ]
     },
     "execution_count": 55,
     "metadata": {},
     "output_type": "execute_result"
    }
   ],
   "source": [
    "sorted([4])"
   ]
  },
  {
   "cell_type": "code",
   "execution_count": 56,
   "id": "d5d4c3a7-edf3-4c6a-91b1-02e7b4fecac8",
   "metadata": {},
   "outputs": [
    {
     "data": {
      "text/plain": [
       "['a', 'b', 'c', 'k', 'r', 's', 's', 't', 'u']"
      ]
     },
     "execution_count": 56,
     "metadata": {},
     "output_type": "execute_result"
    }
   ],
   "source": [
    "sorted('starbucks')"
   ]
  },
  {
   "cell_type": "code",
   "execution_count": 57,
   "id": "ce4fdf7f-b1bf-4b3d-abd9-9ec00b835e13",
   "metadata": {},
   "outputs": [
    {
     "name": "stdin",
     "output_type": "stream",
     "text": [
      "Enter:  apple fig pear\n"
     ]
    }
   ],
   "source": [
    "thing = input('Enter: ')"
   ]
  },
  {
   "cell_type": "code",
   "execution_count": 59,
   "id": "1e97c381-b3b2-40c7-87aa-aa5f2c52d924",
   "metadata": {},
   "outputs": [
    {
     "data": {
      "text/plain": [
       "['apple', 'fig', 'pear']"
      ]
     },
     "execution_count": 59,
     "metadata": {},
     "output_type": "execute_result"
    }
   ],
   "source": [
    "thing.split()"
   ]
  },
  {
   "cell_type": "code",
   "execution_count": 60,
   "id": "0bf276c7-8ad6-43ee-bbf0-e0e9e79ab3b3",
   "metadata": {},
   "outputs": [
    {
     "name": "stdin",
     "output_type": "stream",
     "text": [
      "Enter:  lemon lime guava apple fig fig\n"
     ]
    }
   ],
   "source": [
    "thing = input('Enter: ').split()"
   ]
  },
  {
   "cell_type": "code",
   "execution_count": 61,
   "id": "1207b65c-0c71-44bc-b0d4-1b30e417d7ec",
   "metadata": {},
   "outputs": [
    {
     "data": {
      "text/plain": [
       "['lemon', 'lime', 'guava', 'apple', 'fig', 'fig']"
      ]
     },
     "execution_count": 61,
     "metadata": {},
     "output_type": "execute_result"
    }
   ],
   "source": [
    "thing"
   ]
  },
  {
   "cell_type": "code",
   "execution_count": 62,
   "id": "f8db6dd8-e54c-433e-9cff-1d933a3e787f",
   "metadata": {},
   "outputs": [
    {
     "name": "stdin",
     "output_type": "stream",
     "text": [
      "Enter:  one two three\n"
     ]
    }
   ],
   "source": [
    "words = input('Enter: ').split()"
   ]
  },
  {
   "cell_type": "code",
   "execution_count": 63,
   "id": "cb89b79a-261b-4a76-a8b1-d9498ad350b0",
   "metadata": {},
   "outputs": [
    {
     "data": {
      "text/plain": [
       "['one', 'two', 'three']"
      ]
     },
     "execution_count": 63,
     "metadata": {},
     "output_type": "execute_result"
    }
   ],
   "source": [
    "words"
   ]
  },
  {
   "cell_type": "code",
   "execution_count": 64,
   "id": "9a66d50f-cf69-4013-8133-3bc99350c460",
   "metadata": {},
   "outputs": [
    {
     "data": {
      "text/plain": [
       "True"
      ]
     },
     "execution_count": 64,
     "metadata": {},
     "output_type": "execute_result"
    }
   ],
   "source": [
    "1 in [1, 3, 5]"
   ]
  },
  {
   "cell_type": "code",
   "execution_count": 65,
   "id": "6fddc847-d580-4f2f-9349-7626c771ce93",
   "metadata": {},
   "outputs": [
    {
     "data": {
      "text/plain": [
       "False"
      ]
     },
     "execution_count": 65,
     "metadata": {},
     "output_type": "execute_result"
    }
   ],
   "source": [
    "2 in [1, 3, 5]"
   ]
  },
  {
   "cell_type": "code",
   "execution_count": 66,
   "id": "fd2ab1e0-c80f-41a0-b4f3-49b54e24eae9",
   "metadata": {},
   "outputs": [
    {
     "data": {
      "text/plain": [
       "True"
      ]
     },
     "execution_count": 66,
     "metadata": {},
     "output_type": "execute_result"
    }
   ],
   "source": [
    "2 not in [1, 3, 5]"
   ]
  },
  {
   "cell_type": "code",
   "execution_count": 67,
   "id": "d40279cc-2786-41c8-8785-caec65d47ffd",
   "metadata": {},
   "outputs": [
    {
     "name": "stdout",
     "output_type": "stream",
     "text": [
      "not there\n"
     ]
    }
   ],
   "source": [
    "if 2 not in [1, 3, 5]:\n",
    "    print('not there')"
   ]
  },
  {
   "cell_type": "code",
   "execution_count": 68,
   "id": "a0c055fb-5799-467b-bc80-996bb9be4dd5",
   "metadata": {},
   "outputs": [
    {
     "name": "stdout",
     "output_type": "stream",
     "text": [
      "not there\n"
     ]
    }
   ],
   "source": [
    "if not 2 in [1, 3, 5]:\n",
    "    print('not there')"
   ]
  },
  {
   "cell_type": "markdown",
   "id": "f0f2f868-2ad5-4219-bd4c-54664dc7bd8f",
   "metadata": {},
   "source": [
    "## Quick Lab: Lists\n",
    "* Write a Python program to read in a list of items possibly containing duplicates, and then constructs a __new__ list containing the elements from the original list, in the order they were entered, but with duplicates only occurring ONCE in the new list, e.g.,\n",
    "<p/>\n",
    "<pre>\n",
    "Enter a list of items: <b>apple cherry banana apple lemon cherry lemon</b>\n",
    "apple cherry banana lemon"
   ]
  },
  {
   "cell_type": "code",
   "execution_count": 69,
   "id": "e994297f-5ca7-4fec-9cd5-05152fc6d675",
   "metadata": {},
   "outputs": [],
   "source": [
    "# Steps!\n",
    "# 1. read a string\n",
    "# 2. split it into a list\n",
    "# 3. make a new empty list\n",
    "# 4. for each item in the original list:\n",
    "# 5.    if it's not in the new list:\n",
    "# 6.       add it"
   ]
  },
  {
   "cell_type": "code",
   "execution_count": 80,
   "id": "d2316a26-d7c2-433f-9554-3bfb48f4e9f4",
   "metadata": {},
   "outputs": [
    {
     "name": "stdin",
     "output_type": "stream",
     "text": [
      "Enter a list of items:  APPLE cherry banana Apple lemon cherry lemon\n"
     ]
    }
   ],
   "source": [
    "input_string = input('Enter a list of items: ').lower()\n",
    "words = input_string.split() # 1 and 2"
   ]
  },
  {
   "cell_type": "code",
   "execution_count": 81,
   "id": "bf6fa190-f7a7-483f-8358-920819e5591a",
   "metadata": {},
   "outputs": [
    {
     "data": {
      "text/plain": [
       "['apple', 'cherry', 'banana', 'apple', 'lemon', 'cherry', 'lemon']"
      ]
     },
     "execution_count": 81,
     "metadata": {},
     "output_type": "execute_result"
    }
   ],
   "source": [
    "words"
   ]
  },
  {
   "cell_type": "code",
   "execution_count": 87,
   "id": "94de437c-63a1-40e6-b49e-7a34660a56cc",
   "metadata": {},
   "outputs": [
    {
     "name": "stdout",
     "output_type": "stream",
     "text": [
      "processing apple at position 0: adding to new list...\n",
      "processing cherry at position 1: adding to new list...\n",
      "processing banana at position 2: adding to new list...\n",
      "processing apple at position 3: not adding cuz it's already in the new list\n",
      "processing lemon at position 4: adding to new list...\n",
      "processing cherry at position 5: not adding cuz it's already in the new list\n",
      "processing lemon at position 6: not adding cuz it's already in the new list\n"
     ]
    }
   ],
   "source": [
    "no_dupe_words = [] # 3\n",
    "\n",
    "for word in words: # 4\n",
    "    if word not in no_dupe_words: # 5\n",
    "        no_dupe_words.append(word) # 6"
   ]
  },
  {
   "cell_type": "code",
   "execution_count": 79,
   "id": "1cc5ba2f-0b46-455b-9fc5-2c28f1b170d6",
   "metadata": {},
   "outputs": [
    {
     "data": {
      "text/plain": [
       "['apple', 'cherry', 'banana', 'lemon']"
      ]
     },
     "execution_count": 79,
     "metadata": {},
     "output_type": "execute_result"
    }
   ],
   "source": [
    "no_dupe_words"
   ]
  },
  {
   "cell_type": "markdown",
   "id": "b3071b29-5dc6-4715-b3e7-949bc8f97c62",
   "metadata": {},
   "source": [
    "## Group Lab: Lists\n",
    "* Write a Python program to maintain a list \n",
    "  * Read input until the user enters 'quit'\n",
    "  * Words that the user enters should be added to the list\n",
    "  * If a word begins with '-' (e.g., '-foo') it should be removed from the list\n",
    "  * If the user enters only a '-', the list should be reversed\n",
    "  * After each operation, print the list\n",
    "  * Extras:\n",
    "      * If user enters more than one word (e.g, __foo bar__), add \"foo\" and \"bar\" to the list, rather than \"foo bar\"\n",
    "      * Same for \"-\", i.e., __-foo bar__ would remove \"foo\" and \"bar\" from the  list"
   ]
  },
  {
   "cell_type": "code",
   "execution_count": 89,
   "id": "bf40b9d7-f475-4d52-8a2d-060d30b2f31c",
   "metadata": {},
   "outputs": [
    {
     "name": "stdin",
     "output_type": "stream",
     "text": [
      "Enter:  command\n"
     ]
    },
    {
     "name": "stdout",
     "output_type": "stream",
     "text": [
      "keep going\n"
     ]
    },
    {
     "name": "stdin",
     "output_type": "stream",
     "text": [
      "Enter:  quit\n"
     ]
    }
   ],
   "source": [
    "# while the user has not said 'quit', keep asking them to say something\n",
    "while 'quit' not in input('Enter: '):\n",
    "    print('keep going')"
   ]
  },
  {
   "cell_type": "code",
   "execution_count": 94,
   "id": "78173bae-d45f-48ae-91b6-4b7705dc343e",
   "metadata": {},
   "outputs": [
    {
     "name": "stdin",
     "output_type": "stream",
     "text": [
      "Enter blah blah:  apple\n"
     ]
    },
    {
     "name": "stdout",
     "output_type": "stream",
     "text": [
      "add apple\n"
     ]
    },
    {
     "name": "stdin",
     "output_type": "stream",
     "text": [
      "Enter blah blah:  fig\n"
     ]
    },
    {
     "name": "stdout",
     "output_type": "stream",
     "text": [
      "add fig\n"
     ]
    },
    {
     "name": "stdin",
     "output_type": "stream",
     "text": [
      "Enter blah blah:  quit\n"
     ]
    }
   ],
   "source": [
    "command = input('Enter blah blah: ')\n",
    "while 'quit' not in command:\n",
    "    # process: add the word to the list\n",
    "    print('add', command)\n",
    "    command = input('Enter blah blah: ')"
   ]
  },
  {
   "cell_type": "code",
   "execution_count": 2,
   "id": "a5aeec2d-89a2-4eb7-9f0c-c334e3ec4f8b",
   "metadata": {},
   "outputs": [
    {
     "name": "stdout",
     "output_type": "stream",
     "text": [
      "add \n"
     ]
    },
    {
     "name": "stdin",
     "output_type": "stream",
     "text": [
      "Enter blah blah:  turn right\n"
     ]
    },
    {
     "name": "stdout",
     "output_type": "stream",
     "text": [
      "add turn right\n"
     ]
    },
    {
     "name": "stdin",
     "output_type": "stream",
     "text": [
      "Enter blah blah:  apple\n"
     ]
    },
    {
     "name": "stdout",
     "output_type": "stream",
     "text": [
      "add apple\n"
     ]
    },
    {
     "name": "stdin",
     "output_type": "stream",
     "text": [
      "Enter blah blah:  ok quit\n"
     ]
    }
   ],
   "source": [
    "# let's only ask for input once\n",
    "command = ''\n",
    "while 'quit' not in command:\n",
    "    # process: add the word to the list\n",
    "    print('add', command)\n",
    "    command = input('Enter blah blah: ')"
   ]
  },
  {
   "cell_type": "code",
   "execution_count": 3,
   "id": "30158b43-54ea-4f6f-a505-6668ab10d329",
   "metadata": {},
   "outputs": [
    {
     "name": "stdin",
     "output_type": "stream",
     "text": [
      "Enter blah blah:  apple\n"
     ]
    },
    {
     "name": "stdout",
     "output_type": "stream",
     "text": [
      "process apple\n"
     ]
    },
    {
     "name": "stdin",
     "output_type": "stream",
     "text": [
      "Enter blah blah:  fig\n"
     ]
    },
    {
     "name": "stdout",
     "output_type": "stream",
     "text": [
      "process fig\n"
     ]
    },
    {
     "name": "stdin",
     "output_type": "stream",
     "text": [
      "Enter blah blah:  I want to quit\n"
     ]
    }
   ],
   "source": [
    "# let's only ask for input once\n",
    "command = ''\n",
    "while 'quit' not in command:\n",
    "    command = input('Enter blah blah: ')\n",
    "    if 'quit' in command: # if they want to quit, leave\n",
    "        break\n",
    "    print('process', command)"
   ]
  },
  {
   "cell_type": "code",
   "execution_count": 5,
   "id": "d1ecb0a4-0bec-48c0-b51c-bba6b47e6838",
   "metadata": {},
   "outputs": [
    {
     "name": "stdin",
     "output_type": "stream",
     "text": [
      "Enter blah blah:  this\n"
     ]
    },
    {
     "name": "stdout",
     "output_type": "stream",
     "text": [
      "process this\n"
     ]
    },
    {
     "name": "stdin",
     "output_type": "stream",
     "text": [
      "Enter blah blah:  that\n"
     ]
    },
    {
     "name": "stdout",
     "output_type": "stream",
     "text": [
      "process that\n"
     ]
    },
    {
     "name": "stdin",
     "output_type": "stream",
     "text": [
      "Enter blah blah:  go right\n"
     ]
    },
    {
     "name": "stdout",
     "output_type": "stream",
     "text": [
      "process go right\n"
     ]
    },
    {
     "name": "stdin",
     "output_type": "stream",
     "text": [
      "Enter blah blah:  quit i say\n"
     ]
    }
   ],
   "source": [
    "# let's only ask for input once\n",
    "while True: # infinite loop\n",
    "    command = input('Enter blah blah: ')\n",
    "    if 'quit' in command: # if they want to quit, leave\n",
    "        break\n",
    "    print('process', command)"
   ]
  },
  {
   "cell_type": "code",
   "execution_count": 7,
   "id": "79538f5c-4ca5-4739-8662-6bcbe0665baa",
   "metadata": {},
   "outputs": [
    {
     "ename": "SyntaxError",
     "evalue": "invalid syntax (1348603320.py, line 1)",
     "output_type": "error",
     "traceback": [
      "\u001b[0;36m  Input \u001b[0;32mIn [7]\u001b[0;36m\u001b[0m\n\u001b[0;31m    while (input_string = input('Enter: ')) != 'quit':\u001b[0m\n\u001b[0m                        ^\u001b[0m\n\u001b[0;31mSyntaxError\u001b[0m\u001b[0;31m:\u001b[0m invalid syntax\n"
     ]
    }
   ],
   "source": [
    "while (input_string = input('Enter: ')) != 'quit': \n",
    "    print('process input')"
   ]
  },
  {
   "cell_type": "code",
   "execution_count": 9,
   "id": "d073b2f2-d381-46db-b8c0-cbf3abfdd517",
   "metadata": {},
   "outputs": [
    {
     "name": "stdin",
     "output_type": "stream",
     "text": [
      "Enter:  go right\n"
     ]
    },
    {
     "name": "stdout",
     "output_type": "stream",
     "text": [
      "process go right\n"
     ]
    },
    {
     "name": "stdin",
     "output_type": "stream",
     "text": [
      "Enter:  apple\n"
     ]
    },
    {
     "name": "stdout",
     "output_type": "stream",
     "text": [
      "process apple\n"
     ]
    },
    {
     "name": "stdin",
     "output_type": "stream",
     "text": [
      "Enter:  quit\n"
     ]
    }
   ],
   "source": [
    "while (input_string := input('Enter: ')) != 'quit': \n",
    "    print('process', input_string)"
   ]
  },
  {
   "cell_type": "code",
   "execution_count": 11,
   "id": "02c4615b-a84f-40e3-919d-76656353213f",
   "metadata": {},
   "outputs": [
    {
     "name": "stdin",
     "output_type": "stream",
     "text": [
      "Enter:  apple\n"
     ]
    },
    {
     "name": "stdout",
     "output_type": "stream",
     "text": [
      "['apple']\n"
     ]
    },
    {
     "name": "stdin",
     "output_type": "stream",
     "text": [
      "Enter:  -apple\n"
     ]
    },
    {
     "name": "stdout",
     "output_type": "stream",
     "text": [
      "['apple', '-apple']\n"
     ]
    },
    {
     "name": "stdin",
     "output_type": "stream",
     "text": [
      "Enter:  quit\n"
     ]
    }
   ],
   "source": [
    "words = []\n",
    "\n",
    "while (word := input('Enter: ')) != 'quit': \n",
    "    words.append(word)\n",
    "    print(words)"
   ]
  },
  {
   "cell_type": "code",
   "execution_count": 15,
   "id": "baec6370-9ec8-4817-809b-a3b6a288b062",
   "metadata": {},
   "outputs": [
    {
     "name": "stdin",
     "output_type": "stream",
     "text": [
      "Enter:  apple\n"
     ]
    },
    {
     "name": "stdout",
     "output_type": "stream",
     "text": [
      "['apple']\n"
     ]
    },
    {
     "name": "stdin",
     "output_type": "stream",
     "text": [
      "Enter:  fig\n"
     ]
    },
    {
     "name": "stdout",
     "output_type": "stream",
     "text": [
      "['apple', 'fig']\n"
     ]
    },
    {
     "name": "stdin",
     "output_type": "stream",
     "text": [
      "Enter:  pear\n"
     ]
    },
    {
     "name": "stdout",
     "output_type": "stream",
     "text": [
      "['apple', 'fig', 'pear']\n"
     ]
    },
    {
     "name": "stdin",
     "output_type": "stream",
     "text": [
      "Enter:  -fig\n"
     ]
    },
    {
     "name": "stdout",
     "output_type": "stream",
     "text": [
      "['apple', 'pear']\n"
     ]
    },
    {
     "name": "stdin",
     "output_type": "stream",
     "text": [
      "Enter:  -fig\n"
     ]
    },
    {
     "ename": "ValueError",
     "evalue": "list.remove(x): x not in list",
     "output_type": "error",
     "traceback": [
      "\u001b[0;31m---------------------------------------------------------------------------\u001b[0m",
      "\u001b[0;31mValueError\u001b[0m                                Traceback (most recent call last)",
      "Input \u001b[0;32mIn [15]\u001b[0m, in \u001b[0;36m<cell line: 3>\u001b[0;34m()\u001b[0m\n\u001b[1;32m      3\u001b[0m \u001b[38;5;28;01mwhile\u001b[39;00m (word \u001b[38;5;241m:=\u001b[39m \u001b[38;5;28minput\u001b[39m(\u001b[38;5;124m'\u001b[39m\u001b[38;5;124mEnter: \u001b[39m\u001b[38;5;124m'\u001b[39m)) \u001b[38;5;241m!=\u001b[39m \u001b[38;5;124m'\u001b[39m\u001b[38;5;124mquit\u001b[39m\u001b[38;5;124m'\u001b[39m: \u001b[38;5;66;03m# keep going until user enters 'quit'\u001b[39;00m\n\u001b[1;32m      4\u001b[0m     \u001b[38;5;66;03m# look for '-' at beginning of word\u001b[39;00m\n\u001b[1;32m      5\u001b[0m     \u001b[38;5;28;01mif\u001b[39;00m word[\u001b[38;5;241m0\u001b[39m] \u001b[38;5;241m==\u001b[39m \u001b[38;5;124m'\u001b[39m\u001b[38;5;124m-\u001b[39m\u001b[38;5;124m'\u001b[39m: \u001b[38;5;66;03m# this is removal\u001b[39;00m\n\u001b[1;32m      6\u001b[0m         \u001b[38;5;66;03m# need to remove the word without the hyphen at the beginning\u001b[39;00m\n\u001b[0;32m----> 7\u001b[0m         \u001b[43mwords\u001b[49m\u001b[38;5;241;43m.\u001b[39;49m\u001b[43mremove\u001b[49m\u001b[43m(\u001b[49m\u001b[43mword\u001b[49m\u001b[43m[\u001b[49m\u001b[38;5;241;43m1\u001b[39;49m\u001b[43m:\u001b[49m\u001b[43m]\u001b[49m\u001b[43m)\u001b[49m\n\u001b[1;32m      8\u001b[0m     \u001b[38;5;28;01melse\u001b[39;00m: \u001b[38;5;66;03m# did not start with -\u001b[39;00m\n\u001b[1;32m      9\u001b[0m         words\u001b[38;5;241m.\u001b[39mappend(word)\n",
      "\u001b[0;31mValueError\u001b[0m: list.remove(x): x not in list"
     ]
    }
   ],
   "source": [
    "words = []\n",
    "\n",
    "while (word := input('Enter: ')) != 'quit': # keep going until user enters 'quit'\n",
    "    # look for '-' at beginning of word\n",
    "    if word[0] == '-': # this is removal\n",
    "        # need to remove the word without the hyphen at the beginning\n",
    "        words.remove(word[1:])\n",
    "    else: # did not start with -\n",
    "        words.append(word)\n",
    "    print(words)"
   ]
  },
  {
   "cell_type": "code",
   "execution_count": 12,
   "id": "9011393f-949d-41f3-9aab-4cd1e4c08292",
   "metadata": {},
   "outputs": [],
   "source": [
    "word = '-apple'"
   ]
  },
  {
   "cell_type": "code",
   "execution_count": 13,
   "id": "18d6449a-5b2d-4729-8bd5-6cbf1717d27e",
   "metadata": {},
   "outputs": [
    {
     "data": {
      "text/plain": [
       "'-'"
      ]
     },
     "execution_count": 13,
     "metadata": {},
     "output_type": "execute_result"
    }
   ],
   "source": [
    "word[0]"
   ]
  },
  {
   "cell_type": "code",
   "execution_count": 14,
   "id": "14d3a814-19c2-448f-9bb7-2d80c6c1dffe",
   "metadata": {},
   "outputs": [
    {
     "data": {
      "text/plain": [
       "'apple'"
      ]
     },
     "execution_count": 14,
     "metadata": {},
     "output_type": "execute_result"
    }
   ],
   "source": [
    "word[1:]"
   ]
  },
  {
   "cell_type": "code",
   "execution_count": 44,
   "id": "40b3e632-4bc3-473a-8f8c-01a6469bea57",
   "metadata": {},
   "outputs": [
    {
     "name": "stdin",
     "output_type": "stream",
     "text": [
      "Enter:  apple fig pear\n"
     ]
    },
    {
     "name": "stdout",
     "output_type": "stream",
     "text": [
      "['apple fig pear']\n"
     ]
    },
    {
     "name": "stdin",
     "output_type": "stream",
     "text": [
      "Enter:  apple\n"
     ]
    },
    {
     "name": "stdout",
     "output_type": "stream",
     "text": [
      "['apple fig pear', 'apple']\n"
     ]
    },
    {
     "name": "stdin",
     "output_type": "stream",
     "text": [
      "Enter:  apple\n"
     ]
    },
    {
     "name": "stdout",
     "output_type": "stream",
     "text": [
      "['apple fig pear', 'apple', 'apple']\n"
     ]
    },
    {
     "name": "stdin",
     "output_type": "stream",
     "text": [
      "Enter:  -apple\n"
     ]
    },
    {
     "name": "stdout",
     "output_type": "stream",
     "text": [
      "['apple fig pear', 'apple']\n"
     ]
    },
    {
     "name": "stdin",
     "output_type": "stream",
     "text": [
      "Enter:  quit\n"
     ]
    }
   ],
   "source": [
    "words = []\n",
    "\n",
    "while (word := input('Enter: ')) != 'quit': # keep going until user enters 'quit'\n",
    "    # look for '-' at beginning of word\n",
    "    if word == '': # they just hit RETURN / ENTER\n",
    "        continue\n",
    "    if word[0] == '-': # first char is a - (this is removal or reversal of the list)\n",
    "        if word == '-': # exactly a -, so reverse the list\n",
    "            if len(words) < 2:\n",
    "                print('Does not make sense to reverse a list with fewer than two items!')\n",
    "            else:\n",
    "                words = words[::-1] \n",
    "            #words.reverse()\n",
    "        else:\n",
    "            # need to remove the word without the hyphen at the beginning\n",
    "            if word[1:] not in words:\n",
    "                print(word, 'not in list!')\n",
    "            else:\n",
    "                words.remove(word[1:])\n",
    "    else: # did not start with -\n",
    "        words.append(word)\n",
    "    print(words)"
   ]
  },
  {
   "cell_type": "code",
   "execution_count": 16,
   "id": "74625bd6-8477-490a-b6a0-66a031b2de9e",
   "metadata": {},
   "outputs": [],
   "source": [
    "word = '-apple'"
   ]
  },
  {
   "cell_type": "code",
   "execution_count": 17,
   "id": "dee60f77-8e05-4ac1-9858-2942490c9183",
   "metadata": {},
   "outputs": [
    {
     "data": {
      "text/plain": [
       "'-'"
      ]
     },
     "execution_count": 17,
     "metadata": {},
     "output_type": "execute_result"
    }
   ],
   "source": [
    "word[0]"
   ]
  },
  {
   "cell_type": "code",
   "execution_count": 18,
   "id": "91230939-2430-4457-97d6-6bf68e4d2cfe",
   "metadata": {},
   "outputs": [
    {
     "data": {
      "text/plain": [
       "False"
      ]
     },
     "execution_count": 18,
     "metadata": {},
     "output_type": "execute_result"
    }
   ],
   "source": [
    "word == '-'"
   ]
  },
  {
   "cell_type": "code",
   "execution_count": 19,
   "id": "2b2b8228-7172-4c73-acea-b0b66ed34580",
   "metadata": {},
   "outputs": [],
   "source": [
    "word = '-'"
   ]
  },
  {
   "cell_type": "code",
   "execution_count": 20,
   "id": "323f308d-9c52-48d5-911d-4b6e33097eef",
   "metadata": {},
   "outputs": [
    {
     "data": {
      "text/plain": [
       "'-'"
      ]
     },
     "execution_count": 20,
     "metadata": {},
     "output_type": "execute_result"
    }
   ],
   "source": [
    "word[0]"
   ]
  },
  {
   "cell_type": "code",
   "execution_count": 21,
   "id": "b7b4b0e6-4823-4a95-9510-06049fac1e07",
   "metadata": {},
   "outputs": [
    {
     "data": {
      "text/plain": [
       "True"
      ]
     },
     "execution_count": 21,
     "metadata": {},
     "output_type": "execute_result"
    }
   ],
   "source": [
    "word == '-'"
   ]
  },
  {
   "cell_type": "code",
   "execution_count": 36,
   "id": "24ff24b1-d382-4eea-aa4e-171f24d1f25a",
   "metadata": {},
   "outputs": [],
   "source": [
    "word = ''"
   ]
  },
  {
   "cell_type": "code",
   "execution_count": 37,
   "id": "db66d634-7fde-4352-8333-7b6e143e765b",
   "metadata": {},
   "outputs": [
    {
     "data": {
      "text/plain": [
       "0"
      ]
     },
     "execution_count": 37,
     "metadata": {},
     "output_type": "execute_result"
    }
   ],
   "source": [
    "len(word)"
   ]
  },
  {
   "cell_type": "code",
   "execution_count": 38,
   "id": "504078a8-b520-4ba2-a648-59e94857be7c",
   "metadata": {},
   "outputs": [
    {
     "ename": "IndexError",
     "evalue": "string index out of range",
     "output_type": "error",
     "traceback": [
      "\u001b[0;31m---------------------------------------------------------------------------\u001b[0m",
      "\u001b[0;31mIndexError\u001b[0m                                Traceback (most recent call last)",
      "Input \u001b[0;32mIn [38]\u001b[0m, in \u001b[0;36m<cell line: 1>\u001b[0;34m()\u001b[0m\n\u001b[0;32m----> 1\u001b[0m \u001b[43mword\u001b[49m\u001b[43m[\u001b[49m\u001b[38;5;241;43m0\u001b[39;49m\u001b[43m]\u001b[49m\n",
      "\u001b[0;31mIndexError\u001b[0m: string index out of range"
     ]
    }
   ],
   "source": [
    "word[0]"
   ]
  },
  {
   "cell_type": "code",
   "execution_count": 39,
   "id": "95484618-05ff-4115-bc18-6d3841f84972",
   "metadata": {},
   "outputs": [
    {
     "data": {
      "text/plain": [
       "False"
      ]
     },
     "execution_count": 39,
     "metadata": {},
     "output_type": "execute_result"
    }
   ],
   "source": [
    "word.startswith('-')"
   ]
  },
  {
   "cell_type": "code",
   "execution_count": 47,
   "id": "b4d64b0a-9f22-471f-8c06-b83b3a65764f",
   "metadata": {},
   "outputs": [],
   "source": [
    "stuff = 'this that other'.split() # pythonic way to create a list"
   ]
  },
  {
   "cell_type": "code",
   "execution_count": 48,
   "id": "bb790838-8c4f-4b7d-a933-d3b377a73f09",
   "metadata": {},
   "outputs": [
    {
     "data": {
      "text/plain": [
       "['this', 'that', 'other']"
      ]
     },
     "execution_count": 48,
     "metadata": {},
     "output_type": "execute_result"
    }
   ],
   "source": [
    "stuff"
   ]
  },
  {
   "cell_type": "code",
   "execution_count": 49,
   "id": "f78f99ba-864c-49d3-8841-c7b8b6236546",
   "metadata": {},
   "outputs": [
    {
     "data": {
      "text/plain": [
       "<enumerate at 0x7ff41896c480>"
      ]
     },
     "execution_count": 49,
     "metadata": {},
     "output_type": "execute_result"
    }
   ],
   "source": [
    "enumerate(stuff)"
   ]
  },
  {
   "cell_type": "code",
   "execution_count": 50,
   "id": "d72fc2d6-f77a-4eba-b3fd-6c6e8df1f965",
   "metadata": {},
   "outputs": [
    {
     "name": "stdout",
     "output_type": "stream",
     "text": [
      "0 this\n",
      "1 that\n",
      "2 other\n"
     ]
    }
   ],
   "source": [
    "for index, word in enumerate(stuff):\n",
    "    print(index, word)"
   ]
  },
  {
   "cell_type": "code",
   "execution_count": 51,
   "id": "b7549330-106e-4584-b4c7-5bb111008435",
   "metadata": {},
   "outputs": [],
   "source": [
    "import math"
   ]
  },
  {
   "cell_type": "code",
   "execution_count": 52,
   "id": "268e7d79-9b7e-4fb3-a4a0-f36571cef77a",
   "metadata": {},
   "outputs": [],
   "source": [
    "from math import sin, cos, pi"
   ]
  },
  {
   "cell_type": "code",
   "execution_count": 53,
   "id": "08d5e3e2-b6fc-483c-ae3d-cc36d683f64e",
   "metadata": {},
   "outputs": [
    {
     "data": {
      "text/plain": [
       "1.0"
      ]
     },
     "execution_count": 53,
     "metadata": {},
     "output_type": "execute_result"
    }
   ],
   "source": [
    "cos(0)"
   ]
  },
  {
   "cell_type": "code",
   "execution_count": 54,
   "id": "91a56b86-c7fc-428c-ba28-47cd0208f431",
   "metadata": {},
   "outputs": [
    {
     "data": {
      "text/plain": [
       "1.0"
      ]
     },
     "execution_count": 54,
     "metadata": {},
     "output_type": "execute_result"
    }
   ],
   "source": [
    "sin(pi / 2.0)"
   ]
  },
  {
   "cell_type": "code",
   "execution_count": 56,
   "id": "df71c9d0-9c33-40d6-939a-8d8e0166cbe3",
   "metadata": {},
   "outputs": [],
   "source": [
    "assert True"
   ]
  },
  {
   "cell_type": "code",
   "execution_count": 57,
   "id": "b63935ad-485b-40bb-b13c-bcdff59fcd57",
   "metadata": {},
   "outputs": [
    {
     "ename": "AssertionError",
     "evalue": "",
     "output_type": "error",
     "traceback": [
      "\u001b[0;31m---------------------------------------------------------------------------\u001b[0m",
      "\u001b[0;31mAssertionError\u001b[0m                            Traceback (most recent call last)",
      "Input \u001b[0;32mIn [57]\u001b[0m, in \u001b[0;36m<cell line: 1>\u001b[0;34m()\u001b[0m\n\u001b[0;32m----> 1\u001b[0m \u001b[38;5;28;01massert\u001b[39;00m \u001b[38;5;241m3\u001b[39m \u001b[38;5;241m>\u001b[39m \u001b[38;5;241m4\u001b[39m\n",
      "\u001b[0;31mAssertionError\u001b[0m: "
     ]
    }
   ],
   "source": [
    "assert 3 > 4"
   ]
  },
  {
   "cell_type": "code",
   "execution_count": 58,
   "id": "365008d4-6ed5-4d60-bc6d-608118845390",
   "metadata": {},
   "outputs": [],
   "source": [
    "fruits = 'apple lemon cherry fig lime watermelon'.split() "
   ]
  },
  {
   "cell_type": "code",
   "execution_count": 59,
   "id": "f9dda541-6a76-4d80-8d0e-f35c14e2fe9c",
   "metadata": {},
   "outputs": [
    {
     "data": {
      "text/plain": [
       "['apple', 'lemon', 'cherry', 'fig', 'lime', 'watermelon']"
      ]
     },
     "execution_count": 59,
     "metadata": {},
     "output_type": "execute_result"
    }
   ],
   "source": [
    "fruits"
   ]
  },
  {
   "cell_type": "code",
   "execution_count": 60,
   "id": "dd09d851-edfa-4faf-8ba2-bab2747d7df8",
   "metadata": {},
   "outputs": [
    {
     "data": {
      "text/plain": [
       "6"
      ]
     },
     "execution_count": 60,
     "metadata": {},
     "output_type": "execute_result"
    }
   ],
   "source": [
    "len('string')"
   ]
  },
  {
   "cell_type": "code",
   "execution_count": 62,
   "id": "9979f69b-c0c6-47a5-ba07-53e1d6f8ef2b",
   "metadata": {},
   "outputs": [
    {
     "data": {
      "text/plain": [
       "'g'"
      ]
     },
     "execution_count": 62,
     "metadata": {},
     "output_type": "execute_result"
    }
   ],
   "source": [
    "'string'[5]"
   ]
  },
  {
   "cell_type": "code",
   "execution_count": 64,
   "id": "27d474c0-32f9-43ae-9a43-68a714974af0",
   "metadata": {},
   "outputs": [
    {
     "data": {
      "text/plain": [
       "['s', 't', 'r', 'i', 'n', 'g']"
      ]
     },
     "execution_count": 64,
     "metadata": {},
     "output_type": "execute_result"
    }
   ],
   "source": [
    "list('string')"
   ]
  },
  {
   "cell_type": "code",
   "execution_count": 66,
   "id": "7f4f400b-d1b1-469e-a76c-2591680c245d",
   "metadata": {},
   "outputs": [
    {
     "data": {
      "text/plain": [
       "True"
      ]
     },
     "execution_count": 66,
     "metadata": {},
     "output_type": "execute_result"
    }
   ],
   "source": [
    "'apple'[-1] in 'aeiouy'"
   ]
  },
  {
   "cell_type": "code",
   "execution_count": 67,
   "id": "08a42ece-8b29-47f5-a980-ef0ac6e762e1",
   "metadata": {},
   "outputs": [
    {
     "data": {
      "text/plain": [
       "False"
      ]
     },
     "execution_count": 67,
     "metadata": {},
     "output_type": "execute_result"
    }
   ],
   "source": [
    "'milk'[-1] in 'aeiouy'"
   ]
  },
  {
   "cell_type": "code",
   "execution_count": 68,
   "id": "c481bb1f-012d-4423-96f8-2767827db2b2",
   "metadata": {},
   "outputs": [
    {
     "data": {
      "text/plain": [
       "[1, 2, 3, 4, 5, 6, 7, 8, 9, 10]"
      ]
     },
     "execution_count": 68,
     "metadata": {},
     "output_type": "execute_result"
    }
   ],
   "source": [
    "list(range(1, 11))"
   ]
  },
  {
   "cell_type": "code",
   "execution_count": 70,
   "id": "dacc0209-be62-4497-a772-debba64b785f",
   "metadata": {},
   "outputs": [
    {
     "name": "stdout",
     "output_type": "stream",
     "text": [
      "[1, 2, 3, 4, 5, 6, 7, 8, 9, 10, 11, 12, 13, 14, 15, 16, 17, 18, 19, 20, 21, 22, 23, 24, 25, 26, 27, 28, 29, 30, 31, 32, 33, 34, 35, 36, 37, 38, 39, 40, 41, 42, 43, 44, 45, 46, 47, 48, 49, 50, 51, 52, 53, 54, 55, 56, 57, 58, 59, 60, 61, 62, 63, 64, 65, 66, 67, 68, 69, 70, 71, 72, 73, 74, 75, 76, 77, 78, 79, 80, 81, 82, 83, 84, 85, 86, 87, 88, 89, 90, 91, 92, 93, 94, 95, 96, 97, 98, 99, 100]\n"
     ]
    }
   ],
   "source": [
    "print(list(range(1, 101)))"
   ]
  },
  {
   "cell_type": "code",
   "execution_count": 72,
   "id": "3d1ec946-3783-4813-901b-1d26368bdece",
   "metadata": {},
   "outputs": [
    {
     "name": "stdout",
     "output_type": "stream",
     "text": [
      "[10, 11, 12, 13, 14, 15, 16, 17, 18, 19, 20, 21, 22, 23, 24, 25, 26, 27, 28, 29, 30]\n"
     ]
    }
   ],
   "source": [
    "print(list(range(10, 31)))"
   ]
  },
  {
   "cell_type": "code",
   "execution_count": 74,
   "id": "05e1ce12-aa93-4570-aaa8-7b456dae2902",
   "metadata": {},
   "outputs": [
    {
     "name": "stdout",
     "output_type": "stream",
     "text": [
      "[5, 10, 15, 20, 25, 30, 35, 40, 45, 50, 55, 60, 65, 70, 75, 80, 85, 90, 95, 100]\n"
     ]
    }
   ],
   "source": [
    "print(list(range(5, 101, 5)))"
   ]
  },
  {
   "cell_type": "markdown",
   "id": "03030630-b7a2-43b5-880c-691157bc1e7b",
   "metadata": {},
   "source": [
    "## Lab: List Comprehensions\n",
    "*  Start with Cartesian product example (colors x sizes of t-shirts) and add a third list, __`sleeves = ['short', 'long']`__ then write a new listcomp which generates the Cartesian product __`colors x sizes x sleeves`__. __`tshirts`__ should look like this:<pre><b>\n",
    "    [['black', 'S', 'short'],\n",
    "     ['black', 'S', 'long'],\n",
    "     ['black', 'M', 'short'],\n",
    "     ['black', 'M', 'long'],\n",
    "     ['black', 'L', 'short'],\n",
    "     ['black', 'L', 'long'],\n",
    "     ['white', 'S', 'short'],\n",
    "     ['white', 'S', 'long'],\n",
    "     ['white', 'M', 'short'],\n",
    "     ['white', 'M', 'long'],\n",
    "     ['white', 'L', 'short'],\n",
    "     ['white', 'L', 'long']]\n",
    "     \n",
    " </b></pre>\n",
    "* Use a list comprehension to create a list of the squares of the integers from 1 to 25 (i.e, 1, 4, 9, 16, …, 625)\n",
    "* Given a list of words, create a second list which contains all the words from the first list which do not end with a vowel\n",
    "* Use a list comprehension to create a list of the integers from 1 to 100 which are not divisible by 5\n",
    "* Use a list comprehension and __`zip()`__ to create a list of lists, where the list items are name and ID number that you grabbed from separate lists of names and ID numbers\n",
    "  * start with a list of, say, 5 names ['John', 'Mary', 'Edward', 'Linda', 'Dinesh']\n",
    "  * and a list of, say, 5 ID numbers [1003, 2043, 8762, 7862, 1093]\n",
    "  * additional wrinkle: do not include any names whose corresponding ID is -1"
   ]
  },
  {
   "cell_type": "code",
   "execution_count": 75,
   "id": "51fb8cce-8f8e-44b6-9212-87d54c78f8ce",
   "metadata": {},
   "outputs": [],
   "source": [
    "colors = ['black', 'white']\n",
    "sizes = ['S', 'M', 'L', 'XL']\n",
    "sleeves = ['short', 'long']"
   ]
  },
  {
   "cell_type": "code",
   "execution_count": 79,
   "id": "ef849898-d185-48c0-9fb3-88c5b43bb950",
   "metadata": {},
   "outputs": [
    {
     "data": {
      "text/plain": [
       "[['black', 'S', 'short'],\n",
       " ['black', 'S', 'long'],\n",
       " ['black', 'M', 'short'],\n",
       " ['black', 'M', 'long'],\n",
       " ['black', 'L', 'short'],\n",
       " ['black', 'L', 'long'],\n",
       " ['black', 'XL', 'short'],\n",
       " ['black', 'XL', 'long'],\n",
       " ['white', 'S', 'short'],\n",
       " ['white', 'S', 'long'],\n",
       " ['white', 'M', 'short'],\n",
       " ['white', 'M', 'long'],\n",
       " ['white', 'L', 'short'],\n",
       " ['white', 'L', 'long'],\n",
       " ['white', 'XL', 'short'],\n",
       " ['white', 'XL', 'long']]"
      ]
     },
     "execution_count": 79,
     "metadata": {},
     "output_type": "execute_result"
    }
   ],
   "source": [
    "tshirts = [[color, size, sleeve] for color in colors\n",
    "                                    for size in sizes\n",
    "                                       for sleeve in sleeves]\n",
    "tshirts"
   ]
  },
  {
   "cell_type": "code",
   "execution_count": 86,
   "id": "ec5c5413-b113-46e1-bd78-bf4ea0def168",
   "metadata": {},
   "outputs": [
    {
     "name": "stdout",
     "output_type": "stream",
     "text": [
      "[1, 4, 9, 16, 25, 36, 49, 64, 81, 100, 121, 144, 169, 196, 225, 256, 289, 324, 361, 400, 441, 484, 529, 576, 625]\n"
     ]
    }
   ],
   "source": [
    "# squares 1..25\n",
    "squares = [num ** 2 for num in range(1, 26)]\n",
    "print(squares)"
   ]
  },
  {
   "cell_type": "code",
   "execution_count": 85,
   "id": "e9697acf-9f7b-4ea3-9d5a-155b24f8c7cb",
   "metadata": {},
   "outputs": [
    {
     "name": "stdout",
     "output_type": "stream",
     "text": [
      "['fig', 'pear', 'lemon']\n"
     ]
    }
   ],
   "source": [
    "words = 'apple fig pear banana guava lime lemon'.split()\n",
    "no_end_in_vowel = [word for word in words \n",
    "                            if word[-1] not in 'aeiou']\n",
    "print(no_end_in_vowel)"
   ]
  },
  {
   "cell_type": "code",
   "execution_count": 87,
   "id": "23a72c91-6e88-4719-9767-3ace4c8aa0c1",
   "metadata": {},
   "outputs": [
    {
     "name": "stdout",
     "output_type": "stream",
     "text": [
      "[1, 2, 3, 4, 6, 7, 8, 9, 11, 12, 13, 14, 16, 17, 18, 19, 21, 22, 23, 24, 26, 27, 28, 29, 31, 32, 33, 34, 36, 37, 38, 39, 41, 42, 43, 44, 46, 47, 48, 49, 51, 52, 53, 54, 56, 57, 58, 59, 61, 62, 63, 64, 66, 67, 68, 69, 71, 72, 73, 74, 76, 77, 78, 79, 81, 82, 83, 84, 86, 87, 88, 89, 91, 92, 93, 94, 96, 97, 98, 99]\n"
     ]
    }
   ],
   "source": [
    "no_divis_by_5 = [num for num in range(1, 101)\n",
    "                         if num % 5 != 0]\n",
    "print(no_divis_by_5)"
   ]
  },
  {
   "cell_type": "code",
   "execution_count": 88,
   "id": "4ef93430-e84d-4a68-8245-18934976d4af",
   "metadata": {},
   "outputs": [
    {
     "name": "stdout",
     "output_type": "stream",
     "text": [
      "[['John', 1003], ['Mary', 2043], ['Edward', 8762], ['Linda', 7862], ['Dinesh', 1093]]\n"
     ]
    }
   ],
   "source": [
    "names = ['John', 'Mary', 'Edward', 'Linda', 'Dinesh']\n",
    "ids = [1003, 2043, 8762, 7862, 1093]\n",
    "employees = [[name, id] for name, id in zip(names, ids)]\n",
    "print(employees)"
   ]
  },
  {
   "cell_type": "code",
   "execution_count": 89,
   "id": "03782caf-381b-4698-844b-54eb4570d49c",
   "metadata": {},
   "outputs": [
    {
     "name": "stdout",
     "output_type": "stream",
     "text": [
      "[['John', 1003], ['Mary', 2043], ['Linda', 7862]]\n"
     ]
    }
   ],
   "source": [
    "ids = [1003, 2043, -1, 7862, -1]\n",
    "employees = [[name, id] for name, id in zip(names, ids)\n",
    "                            if id != -1]\n",
    "print(employees)"
   ]
  },
  {
   "cell_type": "code",
   "execution_count": 90,
   "id": "3f20688f-957a-47f3-bbae-a1dc1af4d34e",
   "metadata": {},
   "outputs": [],
   "source": [
    "one_element_list = [3]"
   ]
  },
  {
   "cell_type": "code",
   "execution_count": 91,
   "id": "d9364d45-c497-447f-88bd-5ac587c3b61f",
   "metadata": {},
   "outputs": [],
   "source": [
    "quot, rem = divmod(23, 7) # tuple unpacking"
   ]
  },
  {
   "cell_type": "code",
   "execution_count": 92,
   "id": "7cf93b38-19b6-4d35-876d-ac0b98ede7e6",
   "metadata": {},
   "outputs": [
    {
     "data": {
      "text/plain": [
       "3"
      ]
     },
     "execution_count": 92,
     "metadata": {},
     "output_type": "execute_result"
    }
   ],
   "source": [
    "quot"
   ]
  },
  {
   "cell_type": "code",
   "execution_count": 94,
   "id": "a6c6c621-ea4f-4c11-8b62-7b04a29026c3",
   "metadata": {},
   "outputs": [
    {
     "data": {
      "text/plain": [
       "2"
      ]
     },
     "execution_count": 94,
     "metadata": {},
     "output_type": "execute_result"
    }
   ],
   "source": [
    "rem"
   ]
  },
  {
   "cell_type": "code",
   "execution_count": 95,
   "id": "344adc40-4062-490b-98ae-1630b33ae829",
   "metadata": {},
   "outputs": [
    {
     "data": {
      "text/plain": [
       "(3, 2)"
      ]
     },
     "execution_count": 95,
     "metadata": {},
     "output_type": "execute_result"
    }
   ],
   "source": [
    "divmod(23, 7)"
   ]
  },
  {
   "cell_type": "code",
   "execution_count": 96,
   "id": "4119bdc1-8b65-472f-8617-e9aadc6c4928",
   "metadata": {},
   "outputs": [],
   "source": [
    "t = 1, 2, 3"
   ]
  },
  {
   "cell_type": "code",
   "execution_count": 97,
   "id": "fed55691-495b-4370-864f-6dffce888373",
   "metadata": {},
   "outputs": [
    {
     "data": {
      "text/plain": [
       "(1, 2, 3)"
      ]
     },
     "execution_count": 97,
     "metadata": {},
     "output_type": "execute_result"
    }
   ],
   "source": [
    "t"
   ]
  },
  {
   "cell_type": "code",
   "execution_count": 98,
   "id": "f7c12e5d-b675-4ed4-8c8b-723f9b27cb04",
   "metadata": {},
   "outputs": [
    {
     "ename": "AttributeError",
     "evalue": "'tuple' object has no attribute 'append'",
     "output_type": "error",
     "traceback": [
      "\u001b[0;31m---------------------------------------------------------------------------\u001b[0m",
      "\u001b[0;31mAttributeError\u001b[0m                            Traceback (most recent call last)",
      "Input \u001b[0;32mIn [98]\u001b[0m, in \u001b[0;36m<cell line: 1>\u001b[0;34m()\u001b[0m\n\u001b[0;32m----> 1\u001b[0m \u001b[43mt\u001b[49m\u001b[38;5;241;43m.\u001b[39;49m\u001b[43mappend\u001b[49m(\u001b[38;5;241m4\u001b[39m)\n",
      "\u001b[0;31mAttributeError\u001b[0m: 'tuple' object has no attribute 'append'"
     ]
    }
   ],
   "source": [
    "t.append(4)"
   ]
  },
  {
   "cell_type": "code",
   "execution_count": 99,
   "id": "38d96bab-2e9d-4601-92b0-8545efff5d35",
   "metadata": {},
   "outputs": [
    {
     "data": {
      "text/plain": [
       "'Starbucks'"
      ]
     },
     "execution_count": 99,
     "metadata": {},
     "output_type": "execute_result"
    }
   ],
   "source": [
    "'Star' + 'bucks'"
   ]
  },
  {
   "cell_type": "code",
   "execution_count": 101,
   "id": "d3e59d62-5193-4e30-b405-58d272cee8db",
   "metadata": {},
   "outputs": [
    {
     "data": {
      "text/plain": [
       "(1, 2, 3, 4, 5)"
      ]
     },
     "execution_count": 101,
     "metadata": {},
     "output_type": "execute_result"
    }
   ],
   "source": [
    "t + (4, 5)"
   ]
  },
  {
   "cell_type": "code",
   "execution_count": 102,
   "id": "5a1459ca-e662-48ff-b329-a428e5ae20f5",
   "metadata": {},
   "outputs": [],
   "source": [
    "t = t + (4, 5)"
   ]
  },
  {
   "cell_type": "code",
   "execution_count": 103,
   "id": "e7f310e9-3b67-4ef0-917c-c973692dd3a4",
   "metadata": {},
   "outputs": [
    {
     "data": {
      "text/plain": [
       "(1, 2, 3, 4, 5)"
      ]
     },
     "execution_count": 103,
     "metadata": {},
     "output_type": "execute_result"
    }
   ],
   "source": [
    "t"
   ]
  },
  {
   "cell_type": "markdown",
   "id": "53e978a0-e989-4715-a63e-6a53e0cc4b8b",
   "metadata": {},
   "source": [
    "## Lab: Tuples\n",
    "* We don't really know enough yet to use a tuple in interesting ways, so instead let's just tinker around with tuples here in the notebook...\n",
    "  * Create a tuple representing a city w/fields of your own choosing (e.g., city name, state/country, population, elevation, etc.)\n",
    "  * \"Add\" a field to the tuple–since tuples are immutable, you will have to do this by concatenating tuples\n",
    "  * Using the _in_ operator, check to see if a particular value is in the tuple\n",
    "  * Using the __`.index()`__ method, find the position of a particular value in the tuple"
   ]
  },
  {
   "cell_type": "code",
   "execution_count": 117,
   "id": "96f8ab04-d6d0-4d03-8d8a-92114d530446",
   "metadata": {},
   "outputs": [
    {
     "data": {
      "text/plain": [
       "('Jakarta', 'Indonesia', 255.4, 26, '22-June-1527')"
      ]
     },
     "execution_count": 117,
     "metadata": {},
     "output_type": "execute_result"
    }
   ],
   "source": [
    "city = 'Jakarta', 'Indonesia', 255.4, 26, '22-June-1527'\n",
    "city"
   ]
  },
  {
   "cell_type": "code",
   "execution_count": 116,
   "id": "0f3f0799-d66f-43b5-b8fc-f3369f22d920",
   "metadata": {},
   "outputs": [
    {
     "data": {
      "text/plain": [
       "('Jakarta', 'Indonesia', 255.4, 26, '22-June-1527', 10.56)"
      ]
     },
     "execution_count": 116,
     "metadata": {},
     "output_type": "execute_result"
    }
   ],
   "source": [
    "city + (10.56,)"
   ]
  },
  {
   "cell_type": "code",
   "execution_count": 118,
   "id": "e3160010-cc81-4432-8e20-56b4a52c2711",
   "metadata": {},
   "outputs": [],
   "source": [
    "city = city + (10.56,)"
   ]
  },
  {
   "cell_type": "code",
   "execution_count": 119,
   "id": "a6455927-b236-4e52-821b-5a369dcbf70f",
   "metadata": {},
   "outputs": [
    {
     "data": {
      "text/plain": [
       "('Jakarta', 'Indonesia', 255.4, 26, '22-June-1527', 10.56)"
      ]
     },
     "execution_count": 119,
     "metadata": {},
     "output_type": "execute_result"
    }
   ],
   "source": [
    "city"
   ]
  },
  {
   "cell_type": "code",
   "execution_count": 121,
   "id": "82648bb2-397c-4fee-af19-9e5843b80af8",
   "metadata": {},
   "outputs": [
    {
     "data": {
      "text/plain": [
       "True"
      ]
     },
     "execution_count": 121,
     "metadata": {},
     "output_type": "execute_result"
    }
   ],
   "source": [
    "'Indonesia' in city"
   ]
  },
  {
   "cell_type": "code",
   "execution_count": 110,
   "id": "a74d89bc-622c-4fc8-b097-c39a763001cf",
   "metadata": {},
   "outputs": [
    {
     "data": {
      "text/plain": [
       "5"
      ]
     },
     "execution_count": 110,
     "metadata": {},
     "output_type": "execute_result"
    }
   ],
   "source": [
    "city.index(10.56)"
   ]
  },
  {
   "cell_type": "code",
   "execution_count": 123,
   "id": "a56ba160-560d-4616-82e1-98a1b034a96e",
   "metadata": {},
   "outputs": [
    {
     "name": "stdout",
     "output_type": "stream",
     "text": [
      "0 Jakarta\n",
      "1 Indonesia\n",
      "2 255.4\n",
      "3 26\n",
      "4 22-June-1527\n",
      "5 10.56\n"
     ]
    }
   ],
   "source": [
    "for index, field in enumerate(city):\n",
    "    print(index, field)"
   ]
  },
  {
   "cell_type": "code",
   "execution_count": 124,
   "id": "650d7058-421d-4640-a644-b880478899bd",
   "metadata": {},
   "outputs": [
    {
     "data": {
      "text/plain": [
       "'Jakarta'"
      ]
     },
     "execution_count": 124,
     "metadata": {},
     "output_type": "execute_result"
    }
   ],
   "source": [
    "city[0]"
   ]
  },
  {
   "cell_type": "code",
   "execution_count": 125,
   "id": "bdbc17ba-081a-4ea5-b468-a34db86bbaa0",
   "metadata": {},
   "outputs": [
    {
     "data": {
      "text/plain": [
       "10.56"
      ]
     },
     "execution_count": 125,
     "metadata": {},
     "output_type": "execute_result"
    }
   ],
   "source": [
    "city[-1]"
   ]
  },
  {
   "cell_type": "code",
   "execution_count": 126,
   "id": "7154cb4d-be59-4539-843f-b9260a3bf247",
   "metadata": {},
   "outputs": [],
   "source": [
    "nums = 1, 2, 6, -7, 18"
   ]
  },
  {
   "cell_type": "code",
   "execution_count": 127,
   "id": "48c24d76-b110-44ee-ad9e-646f7dd6737d",
   "metadata": {},
   "outputs": [
    {
     "data": {
      "text/plain": [
       "(1, 2, 6, -7, 18)"
      ]
     },
     "execution_count": 127,
     "metadata": {},
     "output_type": "execute_result"
    }
   ],
   "source": [
    "nums"
   ]
  },
  {
   "cell_type": "code",
   "execution_count": 128,
   "id": "14cc3276-acd5-4bb5-a39d-d2024b1f677a",
   "metadata": {},
   "outputs": [],
   "source": [
    "x, y = 1, 3 "
   ]
  },
  {
   "cell_type": "code",
   "execution_count": 129,
   "id": "c9c86746-a3b7-467f-8a75-5cc53f4d4b8a",
   "metadata": {},
   "outputs": [],
   "source": [
    "x, y = y, x"
   ]
  },
  {
   "cell_type": "code",
   "execution_count": 130,
   "id": "11fc4ab9-5431-4a66-a036-a9961d0559ef",
   "metadata": {},
   "outputs": [
    {
     "data": {
      "text/plain": [
       "3"
      ]
     },
     "execution_count": 130,
     "metadata": {},
     "output_type": "execute_result"
    }
   ],
   "source": [
    "x"
   ]
  },
  {
   "cell_type": "code",
   "execution_count": 131,
   "id": "f13e259e-31e0-494f-95eb-44a56b6b3fe8",
   "metadata": {},
   "outputs": [
    {
     "data": {
      "text/plain": [
       "1"
      ]
     },
     "execution_count": 131,
     "metadata": {},
     "output_type": "execute_result"
    }
   ],
   "source": [
    "y"
   ]
  },
  {
   "cell_type": "code",
   "execution_count": 132,
   "id": "173552cd-d02c-49b2-b2d3-679d8e52f3f7",
   "metadata": {},
   "outputs": [],
   "source": [
    "t = 1, 1, 1"
   ]
  },
  {
   "cell_type": "code",
   "execution_count": 133,
   "id": "288cc30a-05e9-4b6e-a3bb-330b1f50546f",
   "metadata": {},
   "outputs": [
    {
     "data": {
      "text/plain": [
       "(1, 1, 1)"
      ]
     },
     "execution_count": 133,
     "metadata": {},
     "output_type": "execute_result"
    }
   ],
   "source": [
    "t"
   ]
  },
  {
   "cell_type": "code",
   "execution_count": 134,
   "id": "c58afd7f-eff6-4a20-9c9f-9ae0b0ccf46d",
   "metadata": {},
   "outputs": [],
   "source": [
    "name = 'toan'"
   ]
  },
  {
   "cell_type": "code",
   "execution_count": 135,
   "id": "4f42ad44-7051-4843-bdad-cd9321d0509d",
   "metadata": {
    "tags": []
   },
   "outputs": [
    {
     "ename": "TypeError",
     "evalue": "'str' object does not support item assignment",
     "output_type": "error",
     "traceback": [
      "\u001b[0;31m---------------------------------------------------------------------------\u001b[0m",
      "\u001b[0;31mTypeError\u001b[0m                                 Traceback (most recent call last)",
      "Input \u001b[0;32mIn [135]\u001b[0m, in \u001b[0;36m<cell line: 1>\u001b[0;34m()\u001b[0m\n\u001b[0;32m----> 1\u001b[0m name[\u001b[38;5;241m0\u001b[39m] \u001b[38;5;241m=\u001b[39m \u001b[38;5;124m'\u001b[39m\u001b[38;5;124mT\u001b[39m\u001b[38;5;124m'\u001b[39m\n",
      "\u001b[0;31mTypeError\u001b[0m: 'str' object does not support item assignment"
     ]
    }
   ],
   "source": [
    "name[0] = 'T'"
   ]
  },
  {
   "cell_type": "code",
   "execution_count": 136,
   "id": "7762c7da-2634-4542-bc63-c589a6784cdc",
   "metadata": {},
   "outputs": [],
   "source": [
    "name = 'Toan'"
   ]
  },
  {
   "cell_type": "code",
   "execution_count": 137,
   "id": "e42b73f2-f5b6-4a05-b76d-9530ef002411",
   "metadata": {},
   "outputs": [],
   "source": [
    "# not a real matrix, just a list of lists\n",
    "matrix = [\n",
    "    [1, 2, 3],\n",
    "    [4, 5, 6],\n",
    "    [7, 8, 9]\n",
    "]"
   ]
  },
  {
   "cell_type": "code",
   "execution_count": 138,
   "id": "c8001d09-d00f-4da6-a3c9-d1ead8fa0e1d",
   "metadata": {},
   "outputs": [
    {
     "data": {
      "text/plain": [
       "list"
      ]
     },
     "execution_count": 138,
     "metadata": {},
     "output_type": "execute_result"
    }
   ],
   "source": [
    "type(matrix)"
   ]
  },
  {
   "cell_type": "code",
   "execution_count": 139,
   "id": "7a171b1a-6a40-448e-9001-268020c4b8c2",
   "metadata": {},
   "outputs": [
    {
     "data": {
      "text/plain": [
       "[[1, 2, 3], [4, 5, 6], [7, 8, 9]]"
      ]
     },
     "execution_count": 139,
     "metadata": {},
     "output_type": "execute_result"
    }
   ],
   "source": [
    "matrix"
   ]
  },
  {
   "cell_type": "code",
   "execution_count": 140,
   "id": "c01c6f56-7b2d-4d21-9a00-d1d9e60d6955",
   "metadata": {},
   "outputs": [
    {
     "data": {
      "text/plain": [
       "[1, 2, 3]"
      ]
     },
     "execution_count": 140,
     "metadata": {},
     "output_type": "execute_result"
    }
   ],
   "source": [
    "matrix[0]"
   ]
  },
  {
   "cell_type": "code",
   "execution_count": 141,
   "id": "642ec2c2-679a-464a-8764-492485b5ac32",
   "metadata": {},
   "outputs": [
    {
     "data": {
      "text/plain": [
       "1"
      ]
     },
     "execution_count": 141,
     "metadata": {},
     "output_type": "execute_result"
    }
   ],
   "source": [
    "matrix[0][0]"
   ]
  },
  {
   "cell_type": "code",
   "execution_count": 142,
   "id": "5d8e4e03-1c3a-44f3-a0a4-20f84ee4f63d",
   "metadata": {},
   "outputs": [],
   "source": [
    "my_dict = {}"
   ]
  },
  {
   "cell_type": "code",
   "execution_count": 143,
   "id": "3692da45-18ef-476a-9ac2-1329d096368a",
   "metadata": {},
   "outputs": [
    {
     "data": {
      "text/plain": [
       "dict"
      ]
     },
     "execution_count": 143,
     "metadata": {},
     "output_type": "execute_result"
    }
   ],
   "source": [
    "type(my_dict)"
   ]
  },
  {
   "cell_type": "code",
   "execution_count": 144,
   "id": "7edf45f9-4178-438d-9163-da25145ac653",
   "metadata": {},
   "outputs": [],
   "source": [
    "d = { 'X': 10, 'V': 5, 'I': 1 } # can be initialized when declared"
   ]
  },
  {
   "cell_type": "code",
   "execution_count": 145,
   "id": "96ebfa92-5479-43bc-a16b-73e8d8f57cd6",
   "metadata": {},
   "outputs": [
    {
     "data": {
      "text/plain": [
       "10"
      ]
     },
     "execution_count": 145,
     "metadata": {},
     "output_type": "execute_result"
    }
   ],
   "source": [
    "d['X']"
   ]
  },
  {
   "cell_type": "code",
   "execution_count": 146,
   "id": "6ba7ba43-55dd-442e-b279-2f4a6479ab8a",
   "metadata": {},
   "outputs": [
    {
     "data": {
      "text/plain": [
       "1"
      ]
     },
     "execution_count": 146,
     "metadata": {},
     "output_type": "execute_result"
    }
   ],
   "source": [
    "d['I']"
   ]
  },
  {
   "cell_type": "code",
   "execution_count": 147,
   "id": "1471e4f8-1d71-4f78-bd51-9af6e9fbc72d",
   "metadata": {},
   "outputs": [
    {
     "ename": "KeyError",
     "evalue": "1",
     "output_type": "error",
     "traceback": [
      "\u001b[0;31m---------------------------------------------------------------------------\u001b[0m",
      "\u001b[0;31mKeyError\u001b[0m                                  Traceback (most recent call last)",
      "Input \u001b[0;32mIn [147]\u001b[0m, in \u001b[0;36m<cell line: 1>\u001b[0;34m()\u001b[0m\n\u001b[0;32m----> 1\u001b[0m \u001b[43md\u001b[49m\u001b[43m[\u001b[49m\u001b[38;5;241;43m1\u001b[39;49m\u001b[43m]\u001b[49m\n",
      "\u001b[0;31mKeyError\u001b[0m: 1"
     ]
    }
   ],
   "source": [
    "d[1]"
   ]
  },
  {
   "cell_type": "code",
   "execution_count": 148,
   "id": "3350299c-6ca9-4890-ad7e-6cd3bf298308",
   "metadata": {},
   "outputs": [
    {
     "data": {
      "text/plain": [
       "{'X': 10, 'V': 5, 'I': 1}"
      ]
     },
     "execution_count": 148,
     "metadata": {},
     "output_type": "execute_result"
    }
   ],
   "source": [
    "d"
   ]
  },
  {
   "cell_type": "code",
   "execution_count": 149,
   "id": "4a505355-f571-4f70-a1dd-f5ca38267377",
   "metadata": {},
   "outputs": [
    {
     "name": "stdout",
     "output_type": "stream",
     "text": [
      "X\n",
      "V\n",
      "I\n"
     ]
    }
   ],
   "source": [
    "for thing in d:\n",
    "    print(thing)"
   ]
  },
  {
   "cell_type": "code",
   "execution_count": 150,
   "id": "32e6aeb7-2f96-4a3c-9ef4-663d556ce538",
   "metadata": {},
   "outputs": [
    {
     "name": "stdout",
     "output_type": "stream",
     "text": [
      "X 10\n",
      "V 5\n",
      "I 1\n"
     ]
    }
   ],
   "source": [
    "for thing in d:\n",
    "    print(thing, d[thing])"
   ]
  },
  {
   "cell_type": "code",
   "execution_count": 151,
   "id": "b4111d9c-c0dd-4db3-9579-8b15b9fd3d3b",
   "metadata": {},
   "outputs": [
    {
     "data": {
      "text/plain": [
       "{'X': 10, 'V': 5, 'I': 1}"
      ]
     },
     "execution_count": 151,
     "metadata": {},
     "output_type": "execute_result"
    }
   ],
   "source": [
    "d"
   ]
  },
  {
   "cell_type": "code",
   "execution_count": 152,
   "id": "0762be6a-292e-4d05-9adf-066ae00a28ea",
   "metadata": {},
   "outputs": [],
   "source": [
    "keys = d.keys()"
   ]
  },
  {
   "cell_type": "code",
   "execution_count": 153,
   "id": "00a8593f-ec16-4f87-a708-088ad18f5061",
   "metadata": {},
   "outputs": [
    {
     "data": {
      "text/plain": [
       "dict_keys(['X', 'V', 'I'])"
      ]
     },
     "execution_count": 153,
     "metadata": {},
     "output_type": "execute_result"
    }
   ],
   "source": [
    "keys"
   ]
  },
  {
   "cell_type": "code",
   "execution_count": 154,
   "id": "8d21af62-469a-430c-b56b-d38dc81bbe72",
   "metadata": {},
   "outputs": [
    {
     "data": {
      "text/plain": [
       "dict_keys"
      ]
     },
     "execution_count": 154,
     "metadata": {},
     "output_type": "execute_result"
    }
   ],
   "source": [
    "type(keys)"
   ]
  },
  {
   "cell_type": "code",
   "execution_count": 155,
   "id": "9dda5ddf-956c-488c-89ce-2abc36d32f19",
   "metadata": {},
   "outputs": [
    {
     "data": {
      "text/plain": [
       "{'X': 10, 'V': 5, 'I': 1}"
      ]
     },
     "execution_count": 155,
     "metadata": {},
     "output_type": "execute_result"
    }
   ],
   "source": [
    "d"
   ]
  },
  {
   "cell_type": "code",
   "execution_count": 158,
   "id": "d1d52ae8-345e-4389-9817-731b8d974c0f",
   "metadata": {},
   "outputs": [
    {
     "data": {
      "text/plain": [
       "False"
      ]
     },
     "execution_count": 158,
     "metadata": {},
     "output_type": "execute_result"
    }
   ],
   "source": [
    "10 in d"
   ]
  },
  {
   "cell_type": "code",
   "execution_count": 159,
   "id": "ada3bb68-3af3-4d91-82c3-43e98ad20085",
   "metadata": {},
   "outputs": [
    {
     "data": {
      "text/plain": [
       "True"
      ]
     },
     "execution_count": 159,
     "metadata": {},
     "output_type": "execute_result"
    }
   ],
   "source": [
    "10 in d.values()"
   ]
  },
  {
   "cell_type": "code",
   "execution_count": 167,
   "id": "43a56092-421d-4ae4-8d3e-324487d35351",
   "metadata": {},
   "outputs": [],
   "source": [
    "d = { 'foo': 45 }"
   ]
  },
  {
   "cell_type": "code",
   "execution_count": 168,
   "id": "2a0c3377-ae46-4afb-a179-b5449c658fbe",
   "metadata": {},
   "outputs": [
    {
     "name": "stdout",
     "output_type": "stream",
     "text": [
      "45\n"
     ]
    }
   ],
   "source": [
    "print(d['foo'])"
   ]
  },
  {
   "cell_type": "code",
   "execution_count": 169,
   "id": "43571caa-d608-4fdd-9917-15c8a47be805",
   "metadata": {},
   "outputs": [
    {
     "name": "stdout",
     "output_type": "stream",
     "text": [
      "45\n"
     ]
    }
   ],
   "source": [
    "print(d.get('foo'))"
   ]
  },
  {
   "cell_type": "code",
   "execution_count": 170,
   "id": "7699de68-362e-414f-870d-73ef912a4577",
   "metadata": {},
   "outputs": [
    {
     "data": {
      "text/plain": [
       "True"
      ]
     },
     "execution_count": 170,
     "metadata": {},
     "output_type": "execute_result"
    }
   ],
   "source": [
    "'foo' in d"
   ]
  },
  {
   "cell_type": "code",
   "execution_count": 171,
   "id": "1a115357-2681-4ca9-80cd-754f8bb8e5c8",
   "metadata": {},
   "outputs": [
    {
     "data": {
      "text/plain": [
       "{'foo': 45}"
      ]
     },
     "execution_count": 171,
     "metadata": {},
     "output_type": "execute_result"
    }
   ],
   "source": [
    "d"
   ]
  },
  {
   "cell_type": "code",
   "execution_count": 173,
   "id": "b98d35e4-baca-4861-a91b-bb1aeb6fb0dd",
   "metadata": {},
   "outputs": [],
   "source": [
    "d = {'venti': 20, 'tall': 12, 'grande': 16}"
   ]
  },
  {
   "cell_type": "code",
   "execution_count": 175,
   "id": "d6b7368c-7da4-42bc-a90e-5304955af83d",
   "metadata": {},
   "outputs": [
    {
     "data": {
      "text/plain": [
       "['grande', 'tall', 'venti']"
      ]
     },
     "execution_count": 175,
     "metadata": {},
     "output_type": "execute_result"
    }
   ],
   "source": [
    "sorted(d)"
   ]
  },
  {
   "cell_type": "code",
   "execution_count": 174,
   "id": "9a517591-1ba3-49ce-aac3-220ae9ceb96c",
   "metadata": {},
   "outputs": [
    {
     "name": "stdout",
     "output_type": "stream",
     "text": [
      "venti\n",
      "tall\n",
      "grande\n"
     ]
    }
   ],
   "source": [
    "for thing in d:\n",
    "    print(thing)"
   ]
  },
  {
   "cell_type": "code",
   "execution_count": 176,
   "id": "e6ef2802-11c9-4b7e-9f76-4fe87aba1eac",
   "metadata": {},
   "outputs": [
    {
     "data": {
      "text/plain": [
       "{'venti': 20, 'tall': 12, 'grande': 16}"
      ]
     },
     "execution_count": 176,
     "metadata": {},
     "output_type": "execute_result"
    }
   ],
   "source": [
    "d"
   ]
  },
  {
   "cell_type": "code",
   "execution_count": 177,
   "id": "57df51be-efee-4baa-ae7d-b9469b894891",
   "metadata": {},
   "outputs": [
    {
     "data": {
      "text/plain": [
       "20"
      ]
     },
     "execution_count": 177,
     "metadata": {},
     "output_type": "execute_result"
    }
   ],
   "source": [
    "d.get('venti')"
   ]
  },
  {
   "cell_type": "code",
   "execution_count": 178,
   "id": "2d84d7c3-517f-472b-9405-13d650e80d8c",
   "metadata": {},
   "outputs": [
    {
     "data": {
      "text/plain": [
       "20"
      ]
     },
     "execution_count": 178,
     "metadata": {},
     "output_type": "execute_result"
    }
   ],
   "source": [
    "d['venti']"
   ]
  },
  {
   "cell_type": "markdown",
   "id": "2e080448-c9be-491c-bcd8-6f1560e05cf4",
   "metadata": {},
   "source": [
    "## Lab: dictionary\n",
    "* use a dict to translate Roman numerals into their Hindu-Arabic equivalents\n",
    "1. load the dict with Roman numerals M (1000), D (500), C (100), L (50), X (10), V (5), I (1)\n",
    "2. read in a Roman numeral\n",
    "3. print Arabic equivalent\n",
    "4. try it with MCLX = 1000 + 100 + 50 + 10 = 1160\n",
    "4. __The rest of this could be homework...__\n",
    "4. __Deal with the case where a smaller number precedes a larger number, e.g., XC = 100 - 10 = 90, or MCM = 1000 + (1000-100) = 1900__\n",
    "  * e.g.,  __MCMXCIX = 1999__"
   ]
  },
  {
   "cell_type": "code",
   "execution_count": 182,
   "id": "9696ffec-35f7-41c7-82b8-1e8b1180079f",
   "metadata": {},
   "outputs": [],
   "source": [
    "roman_to_hindu_arabic = {\n",
    "    'M': 1000,\n",
    "    'D': 500,\n",
    "    'C': 100,\n",
    "    'L': (50),\n",
    "    'X': (10),\n",
    "    'V': (5),\n",
    "    'I': (1),\n",
    "}"
   ]
  },
  {
   "cell_type": "code",
   "execution_count": null,
   "id": "03744d67-b593-4b4d-86fa-1d50db5ec60c",
   "metadata": {},
   "outputs": [],
   "source": [
    "# If you want to do the homework...\n",
    "# Roman numerals including the complication\n",
    "# MCMXCIX = 1999\n",
    "# 1. get the number from the user, e.g., MCMXCIX\n",
    "# 2. PASS 1: convert each digit to Hindu-Arabic equivalent and put into a list\n",
    "# [ 1000, 100, 1000, 10, 100, 1, 10 ] (2221)\n",
    "# 3. PASS 2: check each number in the list\n",
    "# 4.    if a number is less than its neighbor (to the right), make it negative\n",
    "# [ 1000, -100, 1000, -10, 100, -1, 10 ] (1999)"
   ]
  },
  {
   "cell_type": "code",
   "execution_count": null,
   "id": "ba1afadd-de9a-415d-a01c-94d679b9535e",
   "metadata": {},
   "outputs": [],
   "source": [
    "# MCLX = 1160\n",
    "# XI = 11\n",
    "# CCCIII = 303\n",
    "# DCCI = 701"
   ]
  },
  {
   "cell_type": "code",
   "execution_count": 180,
   "id": "c18dca8a-97a7-4bde-bae8-322dad8a5e28",
   "metadata": {},
   "outputs": [],
   "source": [
    "# 1. get a Roman numeral from user\n",
    "# 1a. start with a running Hindu-Arabic total of 0\n",
    "# 2. for each digit in the roman numeral:\n",
    "# 3.   plug it into the dict and get Hindu-Arabic equivalent\n",
    "# 4.   add Hindu-Arabic equivalent to the running total\n",
    "# 5. print out running total"
   ]
  },
  {
   "cell_type": "code",
   "execution_count": 188,
   "id": "df1f435d-33b4-442f-97e4-b193382bb4f9",
   "metadata": {},
   "outputs": [
    {
     "name": "stdin",
     "output_type": "stream",
     "text": [
      "Enter a Roman numeral:  MCAX\n"
     ]
    }
   ],
   "source": [
    "roman = input('Enter a Roman numeral: ') # 1"
   ]
  },
  {
   "cell_type": "code",
   "execution_count": 190,
   "id": "fa2d977f-6506-4501-9150-8fcf12af9c35",
   "metadata": {},
   "outputs": [
    {
     "name": "stdout",
     "output_type": "stream",
     "text": [
      "bad digit A\n",
      "1110\n"
     ]
    }
   ],
   "source": [
    "running_total = 0 # 1a\n",
    "for digit in roman: # 2\n",
    "    # what could go wrong here?\n",
    "    if digit not in roman_to_hindu_arabic:\n",
    "        print('bad digit', digit)\n",
    "    else:\n",
    "        running_total += roman_to_hindu_arabic[digit] # 3, 4\n",
    "\n",
    "print(running_total)"
   ]
  },
  {
   "cell_type": "code",
   "execution_count": 187,
   "id": "ab428bca-78c2-4b2e-a569-ca824f8971fb",
   "metadata": {},
   "outputs": [
    {
     "name": "stdin",
     "output_type": "stream",
     "text": [
      "Enter a Roman numeral:  MCMXCIX\n"
     ]
    },
    {
     "name": "stdout",
     "output_type": "stream",
     "text": [
      "[1000, 100, 1000, 10, 100, 1, 10]\n",
      "[1000, -100, 1000, -10, 100, -1, 10]\n",
      "1999\n"
     ]
    }
   ],
   "source": [
    "# more complex version including negatives\n",
    "roman = input('Enter a Roman numeral: ')\n",
    "hindu_arabic_vals = [] # to hold the translated values\n",
    "# PASS 1\n",
    "for digit in roman: # for each Roman digit\n",
    "    hindu_arabic_vals.append(roman_to_hindu_arabic[digit]) # append Hindu-Arabic val to list\n",
    "\n",
    "print(hindu_arabic_vals) # debugging\n",
    "# PASS 2\n",
    "for index in range(len(hindu_arabic_vals) - 1): # for each Hindu-Arabic value\n",
    "    if hindu_arabic_vals[index] < hindu_arabic_vals[index + 1]: # less than neighbor?\n",
    "        hindu_arabic_vals[index] = -hindu_arabic_vals[index] # make it negative\n",
    "\n",
    "print(hindu_arabic_vals) # debugging\n",
    "print(sum(hindu_arabic_vals))"
   ]
  },
  {
   "cell_type": "code",
   "execution_count": 198,
   "id": "117e3ddf-f423-4bd3-8a68-b61f5e764936",
   "metadata": {},
   "outputs": [
    {
     "name": "stdout",
     "output_type": "stream",
     "text": [
      "1110\n"
     ]
    }
   ],
   "source": [
    "# Anastacia's solution, use .get()\n",
    "running_total = 0 # 1a\n",
    "for digit in roman: # 2\n",
    "    # what could go wrong here?\n",
    "    # if digit is invalid (and therefore not in dict), we can have get() return a 0\n",
    "    running_total += roman_to_hindu_arabic.get(digit, 0) # 3, 4\n",
    "\n",
    "print(running_total)"
   ]
  },
  {
   "cell_type": "code",
   "execution_count": 193,
   "id": "59fe503d-d46e-4ac0-bdca-7f1c00eeb1f6",
   "metadata": {},
   "outputs": [
    {
     "name": "stdout",
     "output_type": "stream",
     "text": [
      "Help on method_descriptor:\n",
      "\n",
      "get(self, key, default=None, /)\n",
      "    Return the value for key if key is in the dictionary, else default.\n",
      "\n"
     ]
    }
   ],
   "source": [
    "help(dict.get)"
   ]
  },
  {
   "cell_type": "code",
   "execution_count": 194,
   "id": "0700ad5a-8f70-4b11-bd22-2ce9ed2933fd",
   "metadata": {},
   "outputs": [],
   "source": [
    "d = {}"
   ]
  },
  {
   "cell_type": "code",
   "execution_count": 197,
   "id": "6154fbab-f3b4-4691-836c-283968ba91ff",
   "metadata": {},
   "outputs": [
    {
     "name": "stdout",
     "output_type": "stream",
     "text": [
      "0\n"
     ]
    }
   ],
   "source": [
    "print(d.get('anything', 0))"
   ]
  },
  {
   "cell_type": "code",
   "execution_count": 294,
   "id": "28408970-9719-4a98-9b53-7645cbd4b475",
   "metadata": {},
   "outputs": [
    {
     "name": "stdin",
     "output_type": "stream",
     "text": [
      "Enter a Roman numeral:  MCLX\n"
     ]
    },
    {
     "name": "stdout",
     "output_type": "stream",
     "text": [
      "0\n"
     ]
    }
   ],
   "source": [
    "roman = input('Enter a Roman numeral: ') # 1\n",
    "\n",
    "running_total = 0 # 1a\n",
    "for digit in roman: # 2\n",
    "    # what could go wrong here?\n",
    "    \"\"\"\n",
    "    if digit not in roman_to_hindu_arabic:\n",
    "        print('bad digit', digit)\n",
    "        break\n",
    "    else:\n",
    "        running_total += roman_to_hindu_arabic[digit] # 3, 4\n",
    "    \"\"\"\n",
    "else: # this gets run iff we didn't break\n",
    "    print(running_total)"
   ]
  },
  {
   "cell_type": "code",
   "execution_count": 202,
   "id": "b60ead36-fcc2-42c2-90f1-cbf9c1f0ba50",
   "metadata": {},
   "outputs": [
    {
     "data": {
      "text/plain": [
       "-936087975327120608"
      ]
     },
     "execution_count": 202,
     "metadata": {},
     "output_type": "execute_result"
    }
   ],
   "source": [
    "hash('Python')"
   ]
  },
  {
   "cell_type": "code",
   "execution_count": 203,
   "id": "33bf7b29-44f5-49bb-8cde-f2a5ec2d9a3a",
   "metadata": {},
   "outputs": [
    {
     "data": {
      "text/plain": [
       "-936087975327120608"
      ]
     },
     "execution_count": 203,
     "metadata": {},
     "output_type": "execute_result"
    }
   ],
   "source": [
    "hash('Python')"
   ]
  },
  {
   "cell_type": "code",
   "execution_count": 204,
   "id": "3ae34264-b7c3-4154-b308-c91063b3e94f",
   "metadata": {},
   "outputs": [],
   "source": [
    "s = { 1, 2, 5, 6 }"
   ]
  },
  {
   "cell_type": "code",
   "execution_count": 205,
   "id": "84cb85e4-8c45-4a8d-9665-fbddcc3e44f0",
   "metadata": {},
   "outputs": [
    {
     "data": {
      "text/plain": [
       "set"
      ]
     },
     "execution_count": 205,
     "metadata": {},
     "output_type": "execute_result"
    }
   ],
   "source": [
    "type(s)"
   ]
  },
  {
   "cell_type": "code",
   "execution_count": 206,
   "id": "a68dd8ec-bcb0-496a-800e-79f732ac20cb",
   "metadata": {},
   "outputs": [
    {
     "ename": "TypeError",
     "evalue": "'set' object is not subscriptable",
     "output_type": "error",
     "traceback": [
      "\u001b[0;31m---------------------------------------------------------------------------\u001b[0m",
      "\u001b[0;31mTypeError\u001b[0m                                 Traceback (most recent call last)",
      "Input \u001b[0;32mIn [206]\u001b[0m, in \u001b[0;36m<cell line: 1>\u001b[0;34m()\u001b[0m\n\u001b[0;32m----> 1\u001b[0m \u001b[43ms\u001b[49m\u001b[43m[\u001b[49m\u001b[38;5;241;43m0\u001b[39;49m\u001b[43m]\u001b[49m\n",
      "\u001b[0;31mTypeError\u001b[0m: 'set' object is not subscriptable"
     ]
    }
   ],
   "source": [
    "s[0]"
   ]
  },
  {
   "cell_type": "code",
   "execution_count": 207,
   "id": "18bac738-e54a-40b9-be82-82dd4df90b1e",
   "metadata": {},
   "outputs": [],
   "source": [
    "import random"
   ]
  },
  {
   "cell_type": "code",
   "execution_count": null,
   "id": "b83cf7a3-1b2e-465c-a735-bd2899b2f59f",
   "metadata": {},
   "outputs": [],
   "source": [
    "nums = [random.randint(1, 100) for _ in range(100)] # nums is a list of 100 random ints from 1 .. 100"
   ]
  },
  {
   "cell_type": "code",
   "execution_count": 210,
   "id": "6c6a45f6-add1-466e-9d7c-775e61311d3d",
   "metadata": {},
   "outputs": [],
   "source": [
    "nums = []\n",
    "for _ in range(100): # 100 times...\n",
    "    nums.append(random.randint(1, 100))"
   ]
  },
  {
   "cell_type": "code",
   "execution_count": 211,
   "id": "c5aba7a4-74e1-4187-a1a9-638c56ff9aba",
   "metadata": {},
   "outputs": [
    {
     "name": "stdout",
     "output_type": "stream",
     "text": [
      "[45, 69, 60, 43, 32, 27, 23, 91, 65, 16, 34, 78, 79, 55, 18, 83, 70, 76, 25, 53, 98, 7, 15, 7, 20, 88, 5, 14, 33, 79, 5, 60, 59, 88, 82, 86, 60, 36, 33, 90, 56, 36, 38, 15, 74, 98, 71, 52, 93, 19, 70, 41, 34, 69, 65, 96, 45, 86, 86, 6, 52, 34, 10, 41, 71, 64, 50, 32, 36, 5, 25, 37, 1, 46, 77, 1, 17, 68, 47, 97, 27, 18, 14, 63, 17, 75, 53, 58, 68, 56, 95, 27, 18, 81, 12, 29, 45, 44, 98, 48]\n"
     ]
    }
   ],
   "source": [
    "print(nums)"
   ]
  },
  {
   "cell_type": "code",
   "execution_count": 212,
   "id": "b624bc73-bada-40ef-850e-f4ad1966082d",
   "metadata": {},
   "outputs": [
    {
     "data": {
      "text/plain": [
       "100"
      ]
     },
     "execution_count": 212,
     "metadata": {},
     "output_type": "execute_result"
    }
   ],
   "source": [
    "len(nums)"
   ]
  },
  {
   "cell_type": "code",
   "execution_count": 215,
   "id": "8f0e6f1c-11bd-4d8c-9bad-df4eccee3524",
   "metadata": {},
   "outputs": [],
   "source": [
    "nums = list(set(nums))"
   ]
  },
  {
   "cell_type": "code",
   "execution_count": 216,
   "id": "bc7e7b27-48b1-48c5-8764-3c1a2667d512",
   "metadata": {},
   "outputs": [
    {
     "name": "stdout",
     "output_type": "stream",
     "text": [
      "[1, 5, 6, 7, 10, 12, 14, 15, 16, 17, 18, 19, 20, 23, 25, 27, 29, 32, 33, 34, 36, 37, 38, 41, 43, 44, 45, 46, 47, 48, 50, 52, 53, 55, 56, 58, 59, 60, 63, 64, 65, 68, 69, 70, 71, 74, 75, 76, 77, 78, 79, 81, 82, 83, 86, 88, 90, 91, 93, 95, 96, 97, 98]\n"
     ]
    }
   ],
   "source": [
    "print(nums)"
   ]
  },
  {
   "cell_type": "code",
   "execution_count": 208,
   "id": "46e8b147-2c8d-4b4b-a85b-cfcf19f672e0",
   "metadata": {},
   "outputs": [
    {
     "name": "stdout",
     "output_type": "stream",
     "text": [
      "Help on method randint in module random:\n",
      "\n",
      "randint(a, b) method of random.Random instance\n",
      "    Return random integer in range [a, b], including both end points.\n",
      "\n"
     ]
    }
   ],
   "source": [
    "help(random.randint)"
   ]
  },
  {
   "cell_type": "code",
   "execution_count": 209,
   "id": "0aaab751-77d8-4356-a881-4f8682d6c6f5",
   "metadata": {},
   "outputs": [
    {
     "name": "stdout",
     "output_type": "stream",
     "text": [
      "Help on method randrange in module random:\n",
      "\n",
      "randrange(start, stop=None, step=1) method of random.Random instance\n",
      "    Choose a random item from range(start, stop[, step]).\n",
      "    \n",
      "    This fixes the problem with randint() which includes the\n",
      "    endpoint; in Python this is usually not what you want.\n",
      "\n"
     ]
    }
   ],
   "source": [
    "help(random.randrange)"
   ]
  },
  {
   "cell_type": "code",
   "execution_count": 217,
   "id": "516a45ac-6753-4859-872a-60fe82f59c3d",
   "metadata": {},
   "outputs": [],
   "source": [
    "mylist = 'one two three four'.split()"
   ]
  },
  {
   "cell_type": "code",
   "execution_count": 219,
   "id": "4c1837e7-096f-4beb-9897-72d80f365b9b",
   "metadata": {},
   "outputs": [
    {
     "data": {
      "text/plain": [
       "['one', 'two', 'three', 'four']"
      ]
     },
     "execution_count": 219,
     "metadata": {},
     "output_type": "execute_result"
    }
   ],
   "source": [
    "mylist"
   ]
  },
  {
   "cell_type": "code",
   "execution_count": 220,
   "id": "314aa83a-8646-47b4-9e19-01927a10b00c",
   "metadata": {},
   "outputs": [
    {
     "data": {
      "text/plain": [
       "'four'"
      ]
     },
     "execution_count": 220,
     "metadata": {},
     "output_type": "execute_result"
    }
   ],
   "source": [
    "mylist.pop()"
   ]
  },
  {
   "cell_type": "code",
   "execution_count": 221,
   "id": "adc592b7-d7c6-433b-b38d-181ebb48a821",
   "metadata": {},
   "outputs": [
    {
     "data": {
      "text/plain": [
       "'two'"
      ]
     },
     "execution_count": 221,
     "metadata": {},
     "output_type": "execute_result"
    }
   ],
   "source": [
    "mylist.pop(1)"
   ]
  },
  {
   "cell_type": "code",
   "execution_count": 222,
   "id": "5bea57ff-a2b8-439d-85bb-2f85fa4b613d",
   "metadata": {},
   "outputs": [
    {
     "data": {
      "text/plain": [
       "['one', 'three']"
      ]
     },
     "execution_count": 222,
     "metadata": {},
     "output_type": "execute_result"
    }
   ],
   "source": [
    "mylist"
   ]
  },
  {
   "cell_type": "code",
   "execution_count": 223,
   "id": "9d41238f-f1cd-4973-bd3c-d2f1e87ed9ff",
   "metadata": {},
   "outputs": [
    {
     "name": "stdout",
     "output_type": "stream",
     "text": [
      "yep\n"
     ]
    }
   ],
   "source": [
    "if 5 > 3:\n",
    "    print('yep')"
   ]
  },
  {
   "cell_type": "code",
   "execution_count": 225,
   "id": "5b84af3d-74d7-4699-b5bd-c892d7ee7fd0",
   "metadata": {},
   "outputs": [],
   "source": [
    "if 'X' in 'Starbucks':\n",
    "    print('yep')"
   ]
  },
  {
   "cell_type": "code",
   "execution_count": 228,
   "id": "8acd3a50-edc7-4fb2-b6e0-167bdb30a8ae",
   "metadata": {},
   "outputs": [],
   "source": [
    "if 0.0:\n",
    "    print('yep')"
   ]
  },
  {
   "cell_type": "code",
   "execution_count": 233,
   "id": "b0411a28-1372-4117-862e-5aa8b3ec9869",
   "metadata": {},
   "outputs": [],
   "source": [
    "remainder = 32 % 8"
   ]
  },
  {
   "cell_type": "code",
   "execution_count": 234,
   "id": "bdd2222a-b71c-4051-87ee-892b5b8b76fb",
   "metadata": {},
   "outputs": [],
   "source": [
    "if remainder:\n",
    "    print('not a factor')"
   ]
  },
  {
   "cell_type": "code",
   "execution_count": 242,
   "id": "d8dcc9f0-65cb-4b0e-9659-b774da2fd813",
   "metadata": {},
   "outputs": [
    {
     "name": "stdin",
     "output_type": "stream",
     "text": [
      "Enter something:  \n"
     ]
    }
   ],
   "source": [
    "user_input = input('Enter something: ')"
   ]
  },
  {
   "cell_type": "code",
   "execution_count": 243,
   "id": "c1683c70-d53d-4438-84a7-71f5a1429bf4",
   "metadata": {},
   "outputs": [],
   "source": [
    "if len(user_input) > 0:\n",
    "    print('you entered', user_input)"
   ]
  },
  {
   "cell_type": "code",
   "execution_count": 245,
   "id": "9d791c12-b4c9-468f-8d7b-50a8fa10a60a",
   "metadata": {},
   "outputs": [],
   "source": [
    "if user_input: # i.e., if the user_input is non-empty, i.e., not ''\n",
    "    print('yep')"
   ]
  },
  {
   "cell_type": "markdown",
   "id": "38228669-c946-40f9-8690-3de0f126a4a5",
   "metadata": {},
   "source": [
    "## Lab: Sets\n",
    "* Use a set to find all of the unique words in the input and print them out in sorted order\n",
    "* If the user entered __There is no there there__, your program should print out \n",
    "   <pre><b>\n",
    "   is\n",
    "   no\n",
    "   there\n",
    "   </b></pre>\n",
    "* Note that `There` and `there` should be counted as the same word."
   ]
  },
  {
   "cell_type": "code",
   "execution_count": 247,
   "id": "86bf476f-fe35-4ecd-ae5d-e8e1cc51a5bd",
   "metadata": {},
   "outputs": [
    {
     "name": "stdin",
     "output_type": "stream",
     "text": [
      "Enter some words:  There is no there there\n"
     ]
    },
    {
     "data": {
      "text/plain": [
       "['there', 'is', 'no', 'there', 'there']"
      ]
     },
     "execution_count": 247,
     "metadata": {},
     "output_type": "execute_result"
    }
   ],
   "source": [
    "input('Enter some words: ').lower().split()"
   ]
  },
  {
   "cell_type": "code",
   "execution_count": 251,
   "id": "59cc8f96-46ff-4828-a081-25c7871917d6",
   "metadata": {},
   "outputs": [
    {
     "name": "stdin",
     "output_type": "stream",
     "text": [
      "Enter some words:  There is no there there\n"
     ]
    },
    {
     "name": "stdout",
     "output_type": "stream",
     "text": [
      "is\n",
      "no\n",
      "there\n"
     ]
    }
   ],
   "source": [
    "print('\\n'.join(sorted(set(input('Enter some words: ').lower().split()))))"
   ]
  },
  {
   "cell_type": "code",
   "execution_count": 253,
   "id": "bc9d3b6a-7af3-4b1f-8809-bf72d589305a",
   "metadata": {},
   "outputs": [
    {
     "name": "stdin",
     "output_type": "stream",
     "text": [
      "Enter some words:  There is no there there\n"
     ]
    }
   ],
   "source": [
    "words = input('Enter some words: ').lower().split()"
   ]
  },
  {
   "cell_type": "code",
   "execution_count": 254,
   "id": "030cb077-9b61-4127-b6f2-e10c9c5e0b14",
   "metadata": {},
   "outputs": [
    {
     "data": {
      "text/plain": [
       "['there', 'is', 'no', 'there', 'there']"
      ]
     },
     "execution_count": 254,
     "metadata": {},
     "output_type": "execute_result"
    }
   ],
   "source": [
    "words"
   ]
  },
  {
   "cell_type": "code",
   "execution_count": 256,
   "id": "31ab50c2-9236-4831-a201-1b40e9e11069",
   "metadata": {},
   "outputs": [],
   "source": [
    "no_dupe_words = sorted(set(words))"
   ]
  },
  {
   "cell_type": "code",
   "execution_count": 257,
   "id": "13558bfc-6550-4cdf-b488-266d8916e71d",
   "metadata": {},
   "outputs": [
    {
     "data": {
      "text/plain": [
       "['is', 'no', 'there']"
      ]
     },
     "execution_count": 257,
     "metadata": {},
     "output_type": "execute_result"
    }
   ],
   "source": [
    "no_dupe_words"
   ]
  },
  {
   "cell_type": "code",
   "execution_count": 258,
   "id": "61e571f6-05e0-4393-acab-c34c666722c8",
   "metadata": {},
   "outputs": [
    {
     "name": "stdout",
     "output_type": "stream",
     "text": [
      "is\n",
      "no\n",
      "there\n"
     ]
    }
   ],
   "source": [
    "print('\\n'.join(no_dupe_words))"
   ]
  },
  {
   "cell_type": "code",
   "execution_count": 263,
   "id": "f56ea714-d4e8-44d2-bbdc-3c4ac69cff5e",
   "metadata": {},
   "outputs": [
    {
     "name": "stdout",
     "output_type": "stream",
     "text": [
      "is no there\n"
     ]
    }
   ],
   "source": [
    "print(*no_dupe_words) # * = \"unpack\" operator (\"explode\")"
   ]
  },
  {
   "cell_type": "code",
   "execution_count": 260,
   "id": "3900bccd-46b0-4cf4-8711-b2d60ca53a7a",
   "metadata": {},
   "outputs": [
    {
     "name": "stdout",
     "output_type": "stream",
     "text": [
      "['is', 'no', 'there']\n"
     ]
    }
   ],
   "source": [
    "print(no_dupe_words) # how many objects are being printed?"
   ]
  },
  {
   "cell_type": "code",
   "execution_count": 262,
   "id": "d3b0f654-b011-4c09-a970-4cda75ca98c6",
   "metadata": {},
   "outputs": [
    {
     "name": "stdout",
     "output_type": "stream",
     "text": [
      "is\n",
      "no\n",
      "there\n"
     ]
    }
   ],
   "source": [
    "print(*no_dupe_words, sep='\\n') # same as print(no_dupe_words[0], no_dupe_words[1], no_dupe_words[2])"
   ]
  },
  {
   "cell_type": "code",
   "execution_count": 268,
   "id": "a1f07170-b353-4a14-821e-e9b2baaeef12",
   "metadata": {},
   "outputs": [
    {
     "name": "stdout",
     "output_type": "stream",
     "text": [
      "TWO roads diverged in a yellow wood,\n",
      "And sorry I could not travel both\n",
      "And be one traveler, long I stood\n",
      "And looked down one as far as I could\n",
      "To where it bent in the undergrowth;\n",
      "\n",
      "Then took the other, as just as fair,\n",
      "And having perhaps the better claim,\n",
      "Because it was grassy and wanted wear;\n",
      "Though as for that the passing there\n",
      "Had worn them really about the same,\n",
      "\n",
      "And both that morning equally lay\n",
      "In leaves no step had trodden black.\n",
      "Oh, I kept the first for another day!\n",
      "Yet knowing how way leads on to way,\n",
      "I doubted if I should ever come back.\n",
      "\n",
      "I shall be telling this with a sigh\n",
      "Somewhere ages and ages hence:\n",
      "Two roads diverged in a wood, and I—\n",
      "I took the one less traveled by,\n",
      "And that has made all the difference."
     ]
    }
   ],
   "source": [
    "with open('poem.txt') as infile:\n",
    "    for line in infile:\n",
    "        print(line, end='') # don't add a second \\n"
   ]
  },
  {
   "cell_type": "markdown",
   "id": "c516c863-fb5b-41a2-9124-dbe493666eeb",
   "metadata": {},
   "source": [
    "## Quick Lab: File I/O\n",
    "* write a Python program which prompts the user for a filename, then opens that file and writes the contents of the file to a new file, in reverse order, i.e.,\n",
    "\n",
    "<pre><b>\n",
    "    Original file       Reversed file\n",
    "    Line 1              Line 4\n",
    "    Line 2              Line 3\n",
    "    Line 3              Line 2\n",
    "    Line 4              Line 1\n",
    "</b></pre>"
   ]
  },
  {
   "cell_type": "code",
   "execution_count": 269,
   "id": "df4291fd-bcc5-4894-b5a8-391f12bf2c59",
   "metadata": {},
   "outputs": [
    {
     "name": "stdin",
     "output_type": "stream",
     "text": [
      "Enter file to read from:  poem.txt\n"
     ]
    }
   ],
   "source": [
    "filename = input('Enter file to read from: ')"
   ]
  },
  {
   "cell_type": "code",
   "execution_count": 277,
   "id": "abe8719a-2cc1-41c5-953b-07f5a5d65d86",
   "metadata": {},
   "outputs": [],
   "source": [
    "with open(filename) as infile: # open filename for reading\n",
    "    lines = infile.readlines()"
   ]
  },
  {
   "cell_type": "code",
   "execution_count": 278,
   "id": "84db1ea5-46ce-4d22-974a-dd3d7c4c356c",
   "metadata": {},
   "outputs": [
    {
     "data": {
      "text/plain": [
       "['TWO roads diverged in a yellow wood,\\n',\n",
       " 'And sorry I could not travel both\\n',\n",
       " 'And be one traveler, long I stood\\n',\n",
       " 'And looked down one as far as I could\\n',\n",
       " 'To where it bent in the undergrowth;\\n',\n",
       " '\\n',\n",
       " 'Then took the other, as just as fair,\\n',\n",
       " 'And having perhaps the better claim,\\n',\n",
       " 'Because it was grassy and wanted wear;\\n',\n",
       " 'Though as for that the passing there\\n',\n",
       " 'Had worn them really about the same,\\n',\n",
       " '\\n',\n",
       " 'And both that morning equally lay\\n',\n",
       " 'In leaves no step had trodden black.\\n',\n",
       " 'Oh, I kept the first for another day!\\n',\n",
       " 'Yet knowing how way leads on to way,\\n',\n",
       " 'I doubted if I should ever come back.\\n',\n",
       " '\\n',\n",
       " 'I shall be telling this with a sigh\\n',\n",
       " 'Somewhere ages and ages hence:\\n',\n",
       " 'Two roads diverged in a wood, and I—\\n',\n",
       " 'I took the one less traveled by,\\n',\n",
       " 'And that has made all the difference.\\n']"
      ]
     },
     "execution_count": 278,
     "metadata": {},
     "output_type": "execute_result"
    }
   ],
   "source": [
    "lines"
   ]
  },
  {
   "cell_type": "code",
   "execution_count": 284,
   "id": "34d45274-95fb-4235-8caa-83f9e21d8cdc",
   "metadata": {},
   "outputs": [],
   "source": [
    "with open(filename + '.rev', 'w') as outfile:\n",
    "    print(''.join(lines[::-1]), file=outfile)"
   ]
  },
  {
   "cell_type": "code",
   "execution_count": 280,
   "id": "ab00a005-88e1-4301-a6f1-6b177be5abe8",
   "metadata": {},
   "outputs": [
    {
     "name": "stdout",
     "output_type": "stream",
     "text": [
      "And that has made all the difference.\n",
      "I took the one less traveled by,\n",
      "Two roads diverged in a wood, and I—\n",
      "Somewhere ages and ages hence:\n",
      "I shall be telling this with a sigh\n",
      "\n",
      "I doubted if I should ever come back.\n",
      "Yet knowing how way leads on to way,\n",
      "Oh, I kept the first for another day!\n",
      "In leaves no step had trodden black.\n",
      "And both that morning equally lay\n",
      "\n",
      "Had worn them really about the same,\n",
      "Though as for that the passing there\n",
      "Because it was grassy and wanted wear;\n",
      "And having perhaps the better claim,\n",
      "Then took the other, as just as fair,\n",
      "\n",
      "To where it bent in the undergrowth;\n",
      "And looked down one as far as I could\n",
      "And be one traveler, long I stood\n",
      "And sorry I could not travel both\n",
      "TWO roads diverged in a yellow wood,\n",
      "\n"
     ]
    }
   ],
   "source": [
    "print(''.join(lines[::-1]))"
   ]
  },
  {
   "cell_type": "code",
   "execution_count": 282,
   "id": "ff4c7dff-9d0b-4e3a-b91d-f78ad52bea60",
   "metadata": {},
   "outputs": [
    {
     "name": "stdout",
     "output_type": "stream",
     "text": [
      "And that has made all the difference.\n",
      "I took the one less traveled by,\n",
      "Two roads diverged in a wood, and I—\n",
      "Somewhere ages and ages hence:\n",
      "I shall be telling this with a sigh\n",
      "\n",
      "I doubted if I should ever come back.\n",
      "Yet knowing how way leads on to way,\n",
      "Oh, I kept the first for another day!\n",
      "In leaves no step had trodden black.\n",
      "And both that morning equally lay\n",
      "\n",
      "Had worn them really about the same,\n",
      "Though as for that the passing there\n",
      "Because it was grassy and wanted wear;\n",
      "And having perhaps the better claim,\n",
      "Then took the other, as just as fair,\n",
      "\n",
      "To where it bent in the undergrowth;\n",
      "And looked down one as far as I could\n",
      "And be one traveler, long I stood\n",
      "And sorry I could not travel both\n",
      "TWO roads diverged in a yellow wood,\n",
      "\n"
     ]
    }
   ],
   "source": [
    "print(*lines[::-1], sep='')"
   ]
  },
  {
   "cell_type": "code",
   "execution_count": 285,
   "id": "301c205e-5e5d-449c-aa16-cceae622b833",
   "metadata": {},
   "outputs": [
    {
     "data": {
      "text/plain": [
       "['False',\n",
       " 'None',\n",
       " 'True',\n",
       " '__peg_parser__',\n",
       " 'and',\n",
       " 'as',\n",
       " 'assert',\n",
       " 'async',\n",
       " 'await',\n",
       " 'break',\n",
       " 'class',\n",
       " 'continue',\n",
       " 'def',\n",
       " 'del',\n",
       " 'elif',\n",
       " 'else',\n",
       " 'except',\n",
       " 'finally',\n",
       " 'for',\n",
       " 'from',\n",
       " 'global',\n",
       " 'if',\n",
       " 'import',\n",
       " 'in',\n",
       " 'is',\n",
       " 'lambda',\n",
       " 'nonlocal',\n",
       " 'not',\n",
       " 'or',\n",
       " 'pass',\n",
       " 'raise',\n",
       " 'return',\n",
       " 'try',\n",
       " 'while',\n",
       " 'with',\n",
       " 'yield']"
      ]
     },
     "execution_count": 285,
     "metadata": {},
     "output_type": "execute_result"
    }
   ],
   "source": [
    "import keyword\n",
    "keyword.kwlist"
   ]
  },
  {
   "cell_type": "code",
   "execution_count": 286,
   "id": "98baf5a7-c320-48f4-a358-dfee50d2ceeb",
   "metadata": {},
   "outputs": [],
   "source": [
    "x = 1"
   ]
  },
  {
   "cell_type": "code",
   "execution_count": 289,
   "id": "3e7312e2-9413-49df-bb70-03c671b27e19",
   "metadata": {},
   "outputs": [],
   "source": [
    "x: int = 1 # type hint... x should be an int"
   ]
  },
  {
   "cell_type": "code",
   "execution_count": 290,
   "id": "9164d9ad-b4eb-44e9-9b8f-9922233412a4",
   "metadata": {},
   "outputs": [],
   "source": [
    "x = 1.5"
   ]
  },
  {
   "cell_type": "code",
   "execution_count": 291,
   "id": "f986674f-7be5-43b4-a71a-534bc1ddf6b3",
   "metadata": {},
   "outputs": [],
   "source": [
    "string = \"\"\"this\n",
    "string continues on\n",
    "several lines\"\"\""
   ]
  },
  {
   "cell_type": "code",
   "execution_count": 293,
   "id": "4031c13a-4949-4f85-aeff-0f523444bd91",
   "metadata": {},
   "outputs": [
    {
     "name": "stdout",
     "output_type": "stream",
     "text": [
      "this\n",
      "string continues on\n",
      "several lines\n"
     ]
    }
   ],
   "source": [
    "print(string)"
   ]
  },
  {
   "cell_type": "code",
   "execution_count": 295,
   "id": "e30eec4e-361e-4b1f-a173-84b267284eae",
   "metadata": {},
   "outputs": [
    {
     "name": "stdout",
     "output_type": "stream",
     "text": [
      "Help on built-in function sin in module math:\n",
      "\n",
      "sin(x, /)\n",
      "    Return the sine of x (measured in radians).\n",
      "\n"
     ]
    }
   ],
   "source": [
    "import math\n",
    "help(math.sin)"
   ]
  },
  {
   "cell_type": "code",
   "execution_count": 297,
   "id": "6d76d70a-b972-41eb-9848-d226301cc54a",
   "metadata": {},
   "outputs": [
    {
     "name": "stdout",
     "output_type": "stream",
     "text": [
      "print this\n"
     ]
    }
   ],
   "source": [
    "retval = print('print this')"
   ]
  },
  {
   "cell_type": "code",
   "execution_count": 298,
   "id": "0af43e01-d6aa-4e4d-8698-8c51de2c3a05",
   "metadata": {},
   "outputs": [
    {
     "name": "stdout",
     "output_type": "stream",
     "text": [
      "None\n"
     ]
    }
   ],
   "source": [
    "print(retval)"
   ]
  },
  {
   "cell_type": "code",
   "execution_count": 301,
   "id": "5720ea39-8f4d-4573-b9db-4163a60aaf23",
   "metadata": {},
   "outputs": [],
   "source": [
    "mylist = [1, 43, 32, 18]"
   ]
  },
  {
   "cell_type": "code",
   "execution_count": 302,
   "id": "9397f940-843c-4e08-9fee-fa0a7b37b627",
   "metadata": {},
   "outputs": [],
   "source": [
    "mylist = mylist.sort()"
   ]
  },
  {
   "cell_type": "code",
   "execution_count": 303,
   "id": "e0aedd2c-f27e-4e13-9a2d-60dc4ccad211",
   "metadata": {},
   "outputs": [
    {
     "name": "stdout",
     "output_type": "stream",
     "text": [
      "None\n"
     ]
    }
   ],
   "source": [
    "print(mylist)"
   ]
  },
  {
   "cell_type": "code",
   "execution_count": 304,
   "id": "0af30193-e2b4-4158-a4ff-932af0b7ab74",
   "metadata": {},
   "outputs": [
    {
     "name": "stdout",
     "output_type": "stream",
     "text": [
      "1 2 3\n"
     ]
    }
   ],
   "source": [
    "print(1, 2, 3) # 1, 2, and 3 are *positional* arguments"
   ]
  },
  {
   "cell_type": "code",
   "execution_count": 306,
   "id": "3a10ff89-6e1d-475d-bc36-c29e24eac2c7",
   "metadata": {},
   "outputs": [
    {
     "name": "stdout",
     "output_type": "stream",
     "text": [
      "1 / 2 / 3\n"
     ]
    }
   ],
   "source": [
    "print(1, 2, 3, sep=' / ') # sep= is a keyword argument"
   ]
  },
  {
   "cell_type": "markdown",
   "id": "5437f95b-1e1e-4595-b8f3-70be8500e3ef",
   "metadata": {},
   "source": [
    "## Lab: functions\n",
    "* write at least one of these functions, take your pick...\n",
    "  * __`calculate`__ which is passed two operands and an operator and returns the calculated result, e.g., __`calculate(2, 4, '+')`__ would return 6\n",
    "  * Given a string, the function returns True or False whether the string is a pangram\n",
    "  * Given an integer as a parameter, the function sums up its digits. If the resulting sum contains more than 1 digit, the function should sum the digits again, e.g., __`sumdigits(1235)`__ should compute the sum of 1, 2, 3, and 5 (11), then compute the sum of 1 and 1, returning 2.\n",
    "  * Given a number as a parameter and returns a string version of the number with commas representing thousands, e.g., __`add_commas(12345)`__ would return \"12,345\"\n",
    "  * Demonstrate the Collatz Conjecture:\n",
    "    * for integer n > 1\n",
    "      * if n is even, then __`n = n // 2`__\n",
    "      * if n is odd, then __`n = n * 3 + 1`__\n",
    "    * ...will always converge to 1\n",
    "    * your function should take n and keep printing new value of n until n is 1 and then return\n",
    "  * given a 4-digit number where not all digits are the same, demonstrate __Kaprekar's Constant__ <pre>(6174)</pre>\n",
    "    * sort the digits of the number into descending and ascending order...\n",
    "    * then calculate the difference between the two new numbers\n",
    "    * keep doing the above until you get to 6174 (you always will)\n",
    "    * e.g., starting with the number 8991:\n",
    "    <br/><br/>\n",
    "    <pre>\n",
    "      9981 – 1899 = 8082\n",
    "      8820 – 0288 = 8532\n",
    "      8532 – 2358 = 6174\n",
    "      7641 – 1467 = 6174\n",
    "    </pre>"
   ]
  },
  {
   "cell_type": "code",
   "execution_count": 332,
   "id": "113183dd-0bae-4311-9fd5-b32e2d9c6893",
   "metadata": {},
   "outputs": [],
   "source": [
    "def collatz(n):\n",
    "    if type(n) != int: # argument must be an integer\n",
    "        raise TypeError('collatz function needs to be passed an integer')\n",
    "    # if we get here, then it means we got an int\n",
    "    if n <= 1:\n",
    "        raise ValueError('collatz needs to start with an int >= 2')\n",
    "    # if we get here, what do we know?\n",
    "    # we have an integer, and it is >= 2\n",
    "    count = 0\n",
    "    while n != 1: # n > 1\n",
    "        count += 1\n",
    "        print(f'{n:7d}', end=' ')\n",
    "        if count % 10 == 0: # we've printed a multiple of 10 numbers\n",
    "            print()\n",
    "        if n % 2 == 0: # is even?\n",
    "            n //= 2 # n = n // 2 divide by 2\n",
    "        else: # it's odd...\n",
    "            n = n * 3 + 1\n",
    "    print(f'{1:7d}')"
   ]
  },
  {
   "cell_type": "code",
   "execution_count": 317,
   "id": "a41980d1-3b54-4c43-b270-6f1edf01b148",
   "metadata": {},
   "outputs": [
    {
     "name": "stdout",
     "output_type": "stream",
     "text": [
      "1024 512 256 128 64 32 16 8 4 2 1\n"
     ]
    }
   ],
   "source": [
    "collatz(1024)"
   ]
  },
  {
   "cell_type": "code",
   "execution_count": 318,
   "id": "ff03c051-4a51-43e2-8791-890090cd2c00",
   "metadata": {},
   "outputs": [
    {
     "name": "stdout",
     "output_type": "stream",
     "text": [
      "35 106 53 160 80 40 20 10 5 16 8 4 2 1\n"
     ]
    }
   ],
   "source": [
    "collatz(35)"
   ]
  },
  {
   "cell_type": "code",
   "execution_count": 333,
   "id": "e2412ff0-1401-445b-80c8-602d90e76b92",
   "metadata": {},
   "outputs": [
    {
     "name": "stdout",
     "output_type": "stream",
     "text": [
      "   6171   18514    9257   27772   13886    6943   20830   10415   31246   15623 \n",
      "  46870   23435   70306   35153  105460   52730   26365   79096   39548   19774 \n",
      "   9887   29662   14831   44494   22247   66742   33371  100114   50057  150172 \n",
      "  75086   37543  112630   56315  168946   84473  253420  126710   63355  190066 \n",
      "  95033  285100  142550   71275  213826  106913  320740  160370   80185  240556 \n",
      " 120278   60139  180418   90209  270628  135314   67657  202972  101486   50743 \n",
      " 152230   76115  228346  114173  342520  171260   85630   42815  128446   64223 \n",
      " 192670   96335  289006  144503  433510  216755  650266  325133  975400  487700 \n",
      " 243850  121925  365776  182888   91444   45722   22861   68584   34292   17146 \n",
      "   8573   25720   12860    6430    3215    9646    4823   14470    7235   21706 \n",
      "  10853   32560   16280    8140    4070    2035    6106    3053    9160    4580 \n",
      "   2290    1145    3436    1718     859    2578    1289    3868    1934     967 \n",
      "   2902    1451    4354    2177    6532    3266    1633    4900    2450    1225 \n",
      "   3676    1838     919    2758    1379    4138    2069    6208    3104    1552 \n",
      "    776     388     194      97     292     146      73     220     110      55 \n",
      "    166      83     250     125     376     188      94      47     142      71 \n",
      "    214     107     322     161     484     242     121     364     182      91 \n",
      "    274     137     412     206     103     310     155     466     233     700 \n",
      "    350     175     526     263     790     395    1186     593    1780     890 \n",
      "    445    1336     668     334     167     502     251     754     377    1132 \n",
      "    566     283     850     425    1276     638     319     958     479    1438 \n",
      "    719    2158    1079    3238    1619    4858    2429    7288    3644    1822 \n",
      "    911    2734    1367    4102    2051    6154    3077    9232    4616    2308 \n",
      "   1154     577    1732     866     433    1300     650     325     976     488 \n",
      "    244     122      61     184      92      46      23      70      35     106 \n",
      "     53     160      80      40      20      10       5      16       8       4 \n",
      "      2       1\n"
     ]
    }
   ],
   "source": [
    "collatz(6171)"
   ]
  },
  {
   "cell_type": "code",
   "execution_count": 320,
   "id": "e23c4076-0ee0-4eea-8d7b-ca734b76f145",
   "metadata": {},
   "outputs": [
    {
     "name": "stdout",
     "output_type": "stream",
     "text": [
      "19 58 29 88 44 22 11 34 17 52 26 13 40 20 10 5 16 8 4 2 1\n"
     ]
    }
   ],
   "source": [
    "collatz(19)"
   ]
  },
  {
   "cell_type": "code",
   "execution_count": 312,
   "id": "00ac8b17-5b35-4f83-84c3-e680c43e4862",
   "metadata": {},
   "outputs": [
    {
     "ename": "TypeError",
     "evalue": "collatz function needs to be given an integer",
     "output_type": "error",
     "traceback": [
      "\u001b[0;31m---------------------------------------------------------------------------\u001b[0m",
      "\u001b[0;31mTypeError\u001b[0m                                 Traceback (most recent call last)",
      "Input \u001b[0;32mIn [312]\u001b[0m, in \u001b[0;36m<cell line: 1>\u001b[0;34m()\u001b[0m\n\u001b[0;32m----> 1\u001b[0m \u001b[43mcollatz\u001b[49m\u001b[43m(\u001b[49m\u001b[38;5;241;43m3.5\u001b[39;49m\u001b[43m)\u001b[49m\n",
      "Input \u001b[0;32mIn [311]\u001b[0m, in \u001b[0;36mcollatz\u001b[0;34m(n)\u001b[0m\n\u001b[1;32m      1\u001b[0m \u001b[38;5;28;01mdef\u001b[39;00m \u001b[38;5;21mcollatz\u001b[39m(n):\n\u001b[1;32m      2\u001b[0m     \u001b[38;5;28;01mif\u001b[39;00m \u001b[38;5;28mtype\u001b[39m(n) \u001b[38;5;241m!=\u001b[39m \u001b[38;5;28mint\u001b[39m: \u001b[38;5;66;03m# argument must be an integer\u001b[39;00m\n\u001b[0;32m----> 3\u001b[0m         \u001b[38;5;28;01mraise\u001b[39;00m \u001b[38;5;167;01mTypeError\u001b[39;00m(\u001b[38;5;124m'\u001b[39m\u001b[38;5;124mcollatz function needs to be given an integer\u001b[39m\u001b[38;5;124m'\u001b[39m)\n",
      "\u001b[0;31mTypeError\u001b[0m: collatz function needs to be given an integer"
     ]
    }
   ],
   "source": [
    "collatz(3.5)"
   ]
  },
  {
   "cell_type": "code",
   "execution_count": 315,
   "id": "9b24c093-e89f-4e43-8a12-2547d583fae1",
   "metadata": {},
   "outputs": [
    {
     "ename": "ValueError",
     "evalue": "collatz needs to start with an int >= 2",
     "output_type": "error",
     "traceback": [
      "\u001b[0;31m---------------------------------------------------------------------------\u001b[0m",
      "\u001b[0;31mValueError\u001b[0m                                Traceback (most recent call last)",
      "Input \u001b[0;32mIn [315]\u001b[0m, in \u001b[0;36m<cell line: 1>\u001b[0;34m()\u001b[0m\n\u001b[0;32m----> 1\u001b[0m \u001b[43mcollatz\u001b[49m\u001b[43m(\u001b[49m\u001b[38;5;241;43m-\u001b[39;49m\u001b[38;5;241;43m1\u001b[39;49m\u001b[43m)\u001b[49m\n",
      "Input \u001b[0;32mIn [313]\u001b[0m, in \u001b[0;36mcollatz\u001b[0;34m(n)\u001b[0m\n\u001b[1;32m      4\u001b[0m \u001b[38;5;66;03m# if we get here, then it means we got an int\u001b[39;00m\n\u001b[1;32m      5\u001b[0m \u001b[38;5;28;01mif\u001b[39;00m n \u001b[38;5;241m<\u001b[39m\u001b[38;5;241m=\u001b[39m \u001b[38;5;241m1\u001b[39m:\n\u001b[0;32m----> 6\u001b[0m     \u001b[38;5;28;01mraise\u001b[39;00m \u001b[38;5;167;01mValueError\u001b[39;00m(\u001b[38;5;124m'\u001b[39m\u001b[38;5;124mcollatz needs to start with an int >= 2\u001b[39m\u001b[38;5;124m'\u001b[39m)\n",
      "\u001b[0;31mValueError\u001b[0m: collatz needs to start with an int >= 2"
     ]
    }
   ],
   "source": [
    "collatz(-1)"
   ]
  },
  {
   "cell_type": "code",
   "execution_count": 308,
   "id": "4d24f992-e532-4ab5-b694-84f21e167746",
   "metadata": {},
   "outputs": [
    {
     "ename": "ValueError",
     "evalue": "invalid literal for int() with base 10: 'one'",
     "output_type": "error",
     "traceback": [
      "\u001b[0;31m---------------------------------------------------------------------------\u001b[0m",
      "\u001b[0;31mValueError\u001b[0m                                Traceback (most recent call last)",
      "Input \u001b[0;32mIn [308]\u001b[0m, in \u001b[0;36m<cell line: 1>\u001b[0;34m()\u001b[0m\n\u001b[0;32m----> 1\u001b[0m \u001b[38;5;28;43mint\u001b[39;49m\u001b[43m(\u001b[49m\u001b[38;5;124;43m'\u001b[39;49m\u001b[38;5;124;43mone\u001b[39;49m\u001b[38;5;124;43m'\u001b[39;49m\u001b[43m)\u001b[49m\n",
      "\u001b[0;31mValueError\u001b[0m: invalid literal for int() with base 10: 'one'"
     ]
    }
   ],
   "source": [
    "int('one')"
   ]
  },
  {
   "cell_type": "code",
   "execution_count": 309,
   "id": "6443a2bf-c006-4bdc-bb19-eda63cedc77a",
   "metadata": {},
   "outputs": [
    {
     "data": {
      "text/plain": [
       "5.0"
      ]
     },
     "execution_count": 309,
     "metadata": {},
     "output_type": "execute_result"
    }
   ],
   "source": [
    "import math\n",
    "math.sqrt(25)"
   ]
  },
  {
   "cell_type": "code",
   "execution_count": null,
   "id": "45654e07-22ab-4d78-8eb8-3f84ff5e7546",
   "metadata": {},
   "outputs": [],
   "source": [
    "math.sqrt('25')"
   ]
  },
  {
   "cell_type": "code",
   "execution_count": 326,
   "id": "22037434-9d1a-410a-9960-fa5af8e77f18",
   "metadata": {},
   "outputs": [
    {
     "name": "stdout",
     "output_type": "stream",
     "text": [
      " 2123 *     5 = 10615\n"
     ]
    }
   ],
   "source": [
    "x = 2123\n",
    "y = 5\n",
    "print(f'{x:5d} * {y:5d} = {x * y}')"
   ]
  },
  {
   "cell_type": "code",
   "execution_count": 334,
   "id": "ae8f49d7-54ad-4634-ae32-0cbcd5883b07",
   "metadata": {},
   "outputs": [],
   "source": [
    "something = 1"
   ]
  },
  {
   "cell_type": "code",
   "execution_count": 335,
   "id": "82e0a468-dc57-433c-8b0f-d4bfa0636261",
   "metadata": {},
   "outputs": [
    {
     "data": {
      "text/plain": [
       "int"
      ]
     },
     "execution_count": 335,
     "metadata": {},
     "output_type": "execute_result"
    }
   ],
   "source": [
    "type(something)"
   ]
  },
  {
   "cell_type": "code",
   "execution_count": null,
   "id": "57cff7ff-8814-47d5-b151-d303a3f62d58",
   "metadata": {},
   "outputs": [],
   "source": []
  }
 ],
 "metadata": {
  "kernelspec": {
   "display_name": "Python 3 (ipykernel)",
   "language": "python",
   "name": "python3"
  },
  "language_info": {
   "codemirror_mode": {
    "name": "ipython",
    "version": 3
   },
   "file_extension": ".py",
   "mimetype": "text/x-python",
   "name": "python",
   "nbconvert_exporter": "python",
   "pygments_lexer": "ipython3",
   "version": "3.9.12"
  }
 },
 "nbformat": 4,
 "nbformat_minor": 5
}
